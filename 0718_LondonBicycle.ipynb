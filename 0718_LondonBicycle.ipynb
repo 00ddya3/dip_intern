{
 "cells": [
  {
   "cell_type": "code",
   "execution_count": 1,
   "id": "ca41535d",
   "metadata": {
    "_cell_guid": "b1076dfc-b9ad-4769-8c92-a6c4dae69d19",
    "_uuid": "8f2839f25d086af736a60e9eeb907d3b93b6e0e5",
    "execution": {
     "iopub.execute_input": "2022-07-18T07:23:25.780361Z",
     "iopub.status.busy": "2022-07-18T07:23:25.779749Z",
     "iopub.status.idle": "2022-07-18T07:23:25.800633Z",
     "shell.execute_reply": "2022-07-18T07:23:25.799754Z"
    },
    "papermill": {
     "duration": 0.037909,
     "end_time": "2022-07-18T07:23:25.803504",
     "exception": false,
     "start_time": "2022-07-18T07:23:25.765595",
     "status": "completed"
    },
    "tags": []
   },
   "outputs": [
    {
     "name": "stdout",
     "output_type": "stream",
     "text": [
      "/kaggle/input/london-bike-sharing-dataset/london_merged.csv\n"
     ]
    }
   ],
   "source": [
    "# This Python 3 environment comes with many helpful analytics libraries installed\n",
    "# It is defined by the kaggle/python Docker image: https://github.com/kaggle/docker-python\n",
    "# For example, here's several helpful packages to load\n",
    "\n",
    "import numpy as np # linear algebra\n",
    "import pandas as pd # data processing, CSV file I/O (e.g. pd.read_csv)\n",
    "\n",
    "# Input data files are available in the read-only \"../input/\" directory\n",
    "# For example, running this (by clicking run or pressing Shift+Enter) will list all files under the input directory\n",
    "\n",
    "import os\n",
    "for dirname, _, filenames in os.walk('/kaggle/input'):\n",
    "    for filename in filenames:\n",
    "        print(os.path.join(dirname, filename))\n",
    "\n",
    "# You can write up to 20GB to the current directory (/kaggle/working/) that gets preserved as output when you create a version using \"Save & Run All\" \n",
    "# You can also write temporary files to /kaggle/temp/, but they won't be saved outside of the current session"
   ]
  },
  {
   "cell_type": "code",
   "execution_count": 2,
   "id": "7c04b8da",
   "metadata": {
    "execution": {
     "iopub.execute_input": "2022-07-18T07:23:25.836835Z",
     "iopub.status.busy": "2022-07-18T07:23:25.835999Z",
     "iopub.status.idle": "2022-07-18T07:23:27.029207Z",
     "shell.execute_reply": "2022-07-18T07:23:27.027989Z"
    },
    "papermill": {
     "duration": 1.214131,
     "end_time": "2022-07-18T07:23:27.032063",
     "exception": false,
     "start_time": "2022-07-18T07:23:25.817932",
     "status": "completed"
    },
    "tags": []
   },
   "outputs": [],
   "source": [
    "import matplotlib.pyplot as plt\n",
    "import seaborn as sns\n",
    "import missingno as msno"
   ]
  },
  {
   "cell_type": "code",
   "execution_count": 3,
   "id": "83bcf544",
   "metadata": {
    "execution": {
     "iopub.execute_input": "2022-07-18T07:23:27.056870Z",
     "iopub.status.busy": "2022-07-18T07:23:27.055912Z",
     "iopub.status.idle": "2022-07-18T07:23:27.148828Z",
     "shell.execute_reply": "2022-07-18T07:23:27.147425Z"
    },
    "papermill": {
     "duration": 0.10839,
     "end_time": "2022-07-18T07:23:27.151822",
     "exception": false,
     "start_time": "2022-07-18T07:23:27.043432",
     "status": "completed"
    },
    "tags": []
   },
   "outputs": [
    {
     "data": {
      "text/html": [
       "<div>\n",
       "<style scoped>\n",
       "    .dataframe tbody tr th:only-of-type {\n",
       "        vertical-align: middle;\n",
       "    }\n",
       "\n",
       "    .dataframe tbody tr th {\n",
       "        vertical-align: top;\n",
       "    }\n",
       "\n",
       "    .dataframe thead th {\n",
       "        text-align: right;\n",
       "    }\n",
       "</style>\n",
       "<table border=\"1\" class=\"dataframe\">\n",
       "  <thead>\n",
       "    <tr style=\"text-align: right;\">\n",
       "      <th></th>\n",
       "      <th>timestamp</th>\n",
       "      <th>cnt</th>\n",
       "      <th>t1</th>\n",
       "      <th>t2</th>\n",
       "      <th>hum</th>\n",
       "      <th>wind_speed</th>\n",
       "      <th>weather_code</th>\n",
       "      <th>is_holiday</th>\n",
       "      <th>is_weekend</th>\n",
       "      <th>season</th>\n",
       "    </tr>\n",
       "  </thead>\n",
       "  <tbody>\n",
       "    <tr>\n",
       "      <th>0</th>\n",
       "      <td>2015-01-04 00:00:00</td>\n",
       "      <td>182</td>\n",
       "      <td>3.0</td>\n",
       "      <td>2.0</td>\n",
       "      <td>93.0</td>\n",
       "      <td>6.0</td>\n",
       "      <td>3.0</td>\n",
       "      <td>0.0</td>\n",
       "      <td>1.0</td>\n",
       "      <td>3.0</td>\n",
       "    </tr>\n",
       "    <tr>\n",
       "      <th>1</th>\n",
       "      <td>2015-01-04 01:00:00</td>\n",
       "      <td>138</td>\n",
       "      <td>3.0</td>\n",
       "      <td>2.5</td>\n",
       "      <td>93.0</td>\n",
       "      <td>5.0</td>\n",
       "      <td>1.0</td>\n",
       "      <td>0.0</td>\n",
       "      <td>1.0</td>\n",
       "      <td>3.0</td>\n",
       "    </tr>\n",
       "    <tr>\n",
       "      <th>2</th>\n",
       "      <td>2015-01-04 02:00:00</td>\n",
       "      <td>134</td>\n",
       "      <td>2.5</td>\n",
       "      <td>2.5</td>\n",
       "      <td>96.5</td>\n",
       "      <td>0.0</td>\n",
       "      <td>1.0</td>\n",
       "      <td>0.0</td>\n",
       "      <td>1.0</td>\n",
       "      <td>3.0</td>\n",
       "    </tr>\n",
       "    <tr>\n",
       "      <th>3</th>\n",
       "      <td>2015-01-04 03:00:00</td>\n",
       "      <td>72</td>\n",
       "      <td>2.0</td>\n",
       "      <td>2.0</td>\n",
       "      <td>100.0</td>\n",
       "      <td>0.0</td>\n",
       "      <td>1.0</td>\n",
       "      <td>0.0</td>\n",
       "      <td>1.0</td>\n",
       "      <td>3.0</td>\n",
       "    </tr>\n",
       "    <tr>\n",
       "      <th>4</th>\n",
       "      <td>2015-01-04 04:00:00</td>\n",
       "      <td>47</td>\n",
       "      <td>2.0</td>\n",
       "      <td>0.0</td>\n",
       "      <td>93.0</td>\n",
       "      <td>6.5</td>\n",
       "      <td>1.0</td>\n",
       "      <td>0.0</td>\n",
       "      <td>1.0</td>\n",
       "      <td>3.0</td>\n",
       "    </tr>\n",
       "  </tbody>\n",
       "</table>\n",
       "</div>"
      ],
      "text/plain": [
       "            timestamp  cnt   t1   t2    hum  wind_speed  weather_code  \\\n",
       "0 2015-01-04 00:00:00  182  3.0  2.0   93.0         6.0           3.0   \n",
       "1 2015-01-04 01:00:00  138  3.0  2.5   93.0         5.0           1.0   \n",
       "2 2015-01-04 02:00:00  134  2.5  2.5   96.5         0.0           1.0   \n",
       "3 2015-01-04 03:00:00   72  2.0  2.0  100.0         0.0           1.0   \n",
       "4 2015-01-04 04:00:00   47  2.0  0.0   93.0         6.5           1.0   \n",
       "\n",
       "   is_holiday  is_weekend  season  \n",
       "0         0.0         1.0     3.0  \n",
       "1         0.0         1.0     3.0  \n",
       "2         0.0         1.0     3.0  \n",
       "3         0.0         1.0     3.0  \n",
       "4         0.0         1.0     3.0  "
      ]
     },
     "execution_count": 3,
     "metadata": {},
     "output_type": "execute_result"
    }
   ],
   "source": [
    "df = pd.read_csv('/kaggle/input/london-bike-sharing-dataset/london_merged.csv', parse_dates = ['timestamp'])\n",
    "df.head()"
   ]
  },
  {
   "cell_type": "code",
   "execution_count": 4,
   "id": "b093dfde",
   "metadata": {
    "execution": {
     "iopub.execute_input": "2022-07-18T07:23:27.175833Z",
     "iopub.status.busy": "2022-07-18T07:23:27.175459Z",
     "iopub.status.idle": "2022-07-18T07:23:27.183428Z",
     "shell.execute_reply": "2022-07-18T07:23:27.182112Z"
    },
    "papermill": {
     "duration": 0.023054,
     "end_time": "2022-07-18T07:23:27.186303",
     "exception": false,
     "start_time": "2022-07-18T07:23:27.163249",
     "status": "completed"
    },
    "tags": []
   },
   "outputs": [
    {
     "name": "stdout",
     "output_type": "stream",
     "text": [
      "data shape:  (17414, 10)\n",
      "data type:  timestamp       datetime64[ns]\n",
      "cnt                      int64\n",
      "t1                     float64\n",
      "t2                     float64\n",
      "hum                    float64\n",
      "wind_speed             float64\n",
      "weather_code           float64\n",
      "is_holiday             float64\n",
      "is_weekend             float64\n",
      "season                 float64\n",
      "dtype: object\n",
      "data columns:  Index(['timestamp', 'cnt', 't1', 't2', 'hum', 'wind_speed', 'weather_code',\n",
      "       'is_holiday', 'is_weekend', 'season'],\n",
      "      dtype='object')\n"
     ]
    }
   ],
   "source": [
    "#type and shape of data\n",
    "\n",
    "print('data shape: ', df.shape)\n",
    "print('data type: ', df.dtypes)\n",
    "print('data columns: ', df.columns)"
   ]
  },
  {
   "cell_type": "code",
   "execution_count": 5,
   "id": "b4a085ab",
   "metadata": {
    "execution": {
     "iopub.execute_input": "2022-07-18T07:23:27.210990Z",
     "iopub.status.busy": "2022-07-18T07:23:27.210556Z",
     "iopub.status.idle": "2022-07-18T07:23:27.221142Z",
     "shell.execute_reply": "2022-07-18T07:23:27.219933Z"
    },
    "papermill": {
     "duration": 0.025935,
     "end_time": "2022-07-18T07:23:27.223575",
     "exception": false,
     "start_time": "2022-07-18T07:23:27.197640",
     "status": "completed"
    },
    "tags": []
   },
   "outputs": [
    {
     "data": {
      "text/plain": [
       "timestamp       0\n",
       "cnt             0\n",
       "t1              0\n",
       "t2              0\n",
       "hum             0\n",
       "wind_speed      0\n",
       "weather_code    0\n",
       "is_holiday      0\n",
       "is_weekend      0\n",
       "season          0\n",
       "dtype: int64"
      ]
     },
     "execution_count": 5,
     "metadata": {},
     "output_type": "execute_result"
    }
   ],
   "source": [
    "#결측치\n",
    "df.isna().sum()"
   ]
  },
  {
   "cell_type": "code",
   "execution_count": 6,
   "id": "6c81307f",
   "metadata": {
    "execution": {
     "iopub.execute_input": "2022-07-18T07:23:27.249591Z",
     "iopub.status.busy": "2022-07-18T07:23:27.249163Z",
     "iopub.status.idle": "2022-07-18T07:23:27.737415Z",
     "shell.execute_reply": "2022-07-18T07:23:27.736295Z"
    },
    "papermill": {
     "duration": 0.507888,
     "end_time": "2022-07-18T07:23:27.743212",
     "exception": false,
     "start_time": "2022-07-18T07:23:27.235324",
     "status": "completed"
    },
    "tags": []
   },
   "outputs": [
    {
     "data": {
      "image/png": "[encoded data removed]",
      "text/plain": [
       "<Figure size 1800x720 with 2 Axes>"
      ]
     },
     "metadata": {
      "needs_background": "light"
     },
     "output_type": "display_data"
    }
   ],
   "source": [
    "msno.matrix(df)\n",
    "plt.show()"
   ]
  },
  {
   "cell_type": "code",
   "execution_count": 7,
   "id": "4ad4e4a3",
   "metadata": {
    "execution": {
     "iopub.execute_input": "2022-07-18T07:23:27.769849Z",
     "iopub.status.busy": "2022-07-18T07:23:27.769460Z",
     "iopub.status.idle": "2022-07-18T07:23:27.807176Z",
     "shell.execute_reply": "2022-07-18T07:23:27.806002Z"
    },
    "papermill": {
     "duration": 0.053441,
     "end_time": "2022-07-18T07:23:27.809681",
     "exception": false,
     "start_time": "2022-07-18T07:23:27.756240",
     "status": "completed"
    },
    "tags": []
   },
   "outputs": [
    {
     "data": {
      "text/html": [
       "<div>\n",
       "<style scoped>\n",
       "    .dataframe tbody tr th:only-of-type {\n",
       "        vertical-align: middle;\n",
       "    }\n",
       "\n",
       "    .dataframe tbody tr th {\n",
       "        vertical-align: top;\n",
       "    }\n",
       "\n",
       "    .dataframe thead th {\n",
       "        text-align: right;\n",
       "    }\n",
       "</style>\n",
       "<table border=\"1\" class=\"dataframe\">\n",
       "  <thead>\n",
       "    <tr style=\"text-align: right;\">\n",
       "      <th></th>\n",
       "      <th>timestamp</th>\n",
       "      <th>cnt</th>\n",
       "      <th>t1</th>\n",
       "      <th>t2</th>\n",
       "      <th>hum</th>\n",
       "      <th>wind_speed</th>\n",
       "      <th>weather_code</th>\n",
       "      <th>is_holiday</th>\n",
       "      <th>is_weekend</th>\n",
       "      <th>season</th>\n",
       "      <th>year</th>\n",
       "      <th>month</th>\n",
       "      <th>dayofweek</th>\n",
       "      <th>hour</th>\n",
       "    </tr>\n",
       "  </thead>\n",
       "  <tbody>\n",
       "    <tr>\n",
       "      <th>0</th>\n",
       "      <td>2015-01-04 00:00:00</td>\n",
       "      <td>182</td>\n",
       "      <td>3.0</td>\n",
       "      <td>2.0</td>\n",
       "      <td>93.0</td>\n",
       "      <td>6.0</td>\n",
       "      <td>3.0</td>\n",
       "      <td>0.0</td>\n",
       "      <td>1.0</td>\n",
       "      <td>3.0</td>\n",
       "      <td>2015</td>\n",
       "      <td>1</td>\n",
       "      <td>6</td>\n",
       "      <td>0</td>\n",
       "    </tr>\n",
       "    <tr>\n",
       "      <th>1</th>\n",
       "      <td>2015-01-04 01:00:00</td>\n",
       "      <td>138</td>\n",
       "      <td>3.0</td>\n",
       "      <td>2.5</td>\n",
       "      <td>93.0</td>\n",
       "      <td>5.0</td>\n",
       "      <td>1.0</td>\n",
       "      <td>0.0</td>\n",
       "      <td>1.0</td>\n",
       "      <td>3.0</td>\n",
       "      <td>2015</td>\n",
       "      <td>1</td>\n",
       "      <td>6</td>\n",
       "      <td>1</td>\n",
       "    </tr>\n",
       "    <tr>\n",
       "      <th>2</th>\n",
       "      <td>2015-01-04 02:00:00</td>\n",
       "      <td>134</td>\n",
       "      <td>2.5</td>\n",
       "      <td>2.5</td>\n",
       "      <td>96.5</td>\n",
       "      <td>0.0</td>\n",
       "      <td>1.0</td>\n",
       "      <td>0.0</td>\n",
       "      <td>1.0</td>\n",
       "      <td>3.0</td>\n",
       "      <td>2015</td>\n",
       "      <td>1</td>\n",
       "      <td>6</td>\n",
       "      <td>2</td>\n",
       "    </tr>\n",
       "    <tr>\n",
       "      <th>3</th>\n",
       "      <td>2015-01-04 03:00:00</td>\n",
       "      <td>72</td>\n",
       "      <td>2.0</td>\n",
       "      <td>2.0</td>\n",
       "      <td>100.0</td>\n",
       "      <td>0.0</td>\n",
       "      <td>1.0</td>\n",
       "      <td>0.0</td>\n",
       "      <td>1.0</td>\n",
       "      <td>3.0</td>\n",
       "      <td>2015</td>\n",
       "      <td>1</td>\n",
       "      <td>6</td>\n",
       "      <td>3</td>\n",
       "    </tr>\n",
       "    <tr>\n",
       "      <th>4</th>\n",
       "      <td>2015-01-04 04:00:00</td>\n",
       "      <td>47</td>\n",
       "      <td>2.0</td>\n",
       "      <td>0.0</td>\n",
       "      <td>93.0</td>\n",
       "      <td>6.5</td>\n",
       "      <td>1.0</td>\n",
       "      <td>0.0</td>\n",
       "      <td>1.0</td>\n",
       "      <td>3.0</td>\n",
       "      <td>2015</td>\n",
       "      <td>1</td>\n",
       "      <td>6</td>\n",
       "      <td>4</td>\n",
       "    </tr>\n",
       "  </tbody>\n",
       "</table>\n",
       "</div>"
      ],
      "text/plain": [
       "            timestamp  cnt   t1   t2    hum  wind_speed  weather_code  \\\n",
       "0 2015-01-04 00:00:00  182  3.0  2.0   93.0         6.0           3.0   \n",
       "1 2015-01-04 01:00:00  138  3.0  2.5   93.0         5.0           1.0   \n",
       "2 2015-01-04 02:00:00  134  2.5  2.5   96.5         0.0           1.0   \n",
       "3 2015-01-04 03:00:00   72  2.0  2.0  100.0         0.0           1.0   \n",
       "4 2015-01-04 04:00:00   47  2.0  0.0   93.0         6.5           1.0   \n",
       "\n",
       "   is_holiday  is_weekend  season  year  month  dayofweek  hour  \n",
       "0         0.0         1.0     3.0  2015      1          6     0  \n",
       "1         0.0         1.0     3.0  2015      1          6     1  \n",
       "2         0.0         1.0     3.0  2015      1          6     2  \n",
       "3         0.0         1.0     3.0  2015      1          6     3  \n",
       "4         0.0         1.0     3.0  2015      1          6     4  "
      ]
     },
     "execution_count": 7,
     "metadata": {},
     "output_type": "execute_result"
    }
   ],
   "source": [
    "df['year'] = df['timestamp'].dt.year\n",
    "df['month'] = df['timestamp'].dt.month\n",
    "df['dayofweek'] = df['timestamp'].dt.dayofweek\n",
    "df['hour'] = df['timestamp'].dt.hour\n",
    "\n",
    "df.head()"
   ]
  },
  {
   "cell_type": "code",
   "execution_count": 8,
   "id": "98606c6e",
   "metadata": {
    "execution": {
     "iopub.execute_input": "2022-07-18T07:23:27.836441Z",
     "iopub.status.busy": "2022-07-18T07:23:27.835684Z",
     "iopub.status.idle": "2022-07-18T07:23:27.848278Z",
     "shell.execute_reply": "2022-07-18T07:23:27.847063Z"
    },
    "papermill": {
     "duration": 0.028626,
     "end_time": "2022-07-18T07:23:27.850756",
     "exception": false,
     "start_time": "2022-07-18T07:23:27.822130",
     "status": "completed"
    },
    "tags": []
   },
   "outputs": [
    {
     "data": {
      "text/plain": [
       "2016    8699\n",
       "2015    8643\n",
       "2017      72\n",
       "Name: year, dtype: int64"
      ]
     },
     "execution_count": 8,
     "metadata": {},
     "output_type": "execute_result"
    }
   ],
   "source": [
    "df['year'].value_counts()"
   ]
  },
  {
   "cell_type": "code",
   "execution_count": 9,
   "id": "b66af398",
   "metadata": {
    "execution": {
     "iopub.execute_input": "2022-07-18T07:23:27.878842Z",
     "iopub.status.busy": "2022-07-18T07:23:27.877993Z",
     "iopub.status.idle": "2022-07-18T07:23:28.102638Z",
     "shell.execute_reply": "2022-07-18T07:23:28.101360Z"
    },
    "papermill": {
     "duration": 0.241935,
     "end_time": "2022-07-18T07:23:28.105111",
     "exception": false,
     "start_time": "2022-07-18T07:23:27.863176",
     "status": "completed"
    },
    "tags": []
   },
   "outputs": [
    {
     "name": "stderr",
     "output_type": "stream",
     "text": [
      "/opt/conda/lib/python3.7/site-packages/seaborn/_decorators.py:43: FutureWarning: Pass the following variables as keyword args: x, y. From version 0.12, the only valid positional argument will be `data`, and passing other arguments without an explicit keyword will result in an error or misinterpretation.\n",
      "  FutureWarning\n"
     ]
    },
    {
     "data": {
      "text/plain": [
       "<AxesSubplot:xlabel='year', ylabel='cnt'>"
      ]
     },
     "execution_count": 9,
     "metadata": {},
     "output_type": "execute_result"
    },
    {
     "data": {
      "image/png": "[encoded data removed]",
      "text/plain": [
       "<Figure size 720x360 with 1 Axes>"
      ]
     },
     "metadata": {
      "needs_background": "light"
     },
     "output_type": "display_data"
    }
   ],
   "source": [
    "a, b = plt.subplots(1, 1, figsize=(10, 5))\n",
    "sns.boxplot(df['year'], df['cnt'])"
   ]
  },
  {
   "cell_type": "code",
   "execution_count": 10,
   "id": "c4ac47f7",
   "metadata": {
    "execution": {
     "iopub.execute_input": "2022-07-18T07:23:28.132748Z",
     "iopub.status.busy": "2022-07-18T07:23:28.132070Z",
     "iopub.status.idle": "2022-07-18T07:23:28.484820Z",
     "shell.execute_reply": "2022-07-18T07:23:28.483652Z"
    },
    "papermill": {
     "duration": 0.369618,
     "end_time": "2022-07-18T07:23:28.487420",
     "exception": false,
     "start_time": "2022-07-18T07:23:28.117802",
     "status": "completed"
    },
    "tags": []
   },
   "outputs": [
    {
     "name": "stderr",
     "output_type": "stream",
     "text": [
      "/opt/conda/lib/python3.7/site-packages/seaborn/_decorators.py:43: FutureWarning: Pass the following variables as keyword args: x, y. From version 0.12, the only valid positional argument will be `data`, and passing other arguments without an explicit keyword will result in an error or misinterpretation.\n",
      "  FutureWarning\n"
     ]
    },
    {
     "data": {
      "text/plain": [
       "<AxesSubplot:xlabel='month', ylabel='cnt'>"
      ]
     },
     "execution_count": 10,
     "metadata": {},
     "output_type": "execute_result"
    },
    {
     "data": {
      "image/png": "[encoded data removed]",
      "text/plain": [
       "<Figure size 720x360 with 1 Axes>"
      ]
     },
     "metadata": {
      "needs_background": "light"
     },
     "output_type": "display_data"
    }
   ],
   "source": [
    "a, b = plt.subplots(1, 1, figsize=(10, 5))\n",
    "sns.boxplot(df['month'], df['cnt'])"
   ]
  },
  {
   "cell_type": "code",
   "execution_count": 11,
   "id": "8ebaf052",
   "metadata": {
    "execution": {
     "iopub.execute_input": "2022-07-18T07:23:28.515886Z",
     "iopub.status.busy": "2022-07-18T07:23:28.515461Z",
     "iopub.status.idle": "2022-07-18T07:23:28.797210Z",
     "shell.execute_reply": "2022-07-18T07:23:28.796057Z"
    },
    "papermill": {
     "duration": 0.298915,
     "end_time": "2022-07-18T07:23:28.799747",
     "exception": false,
     "start_time": "2022-07-18T07:23:28.500832",
     "status": "completed"
    },
    "tags": []
   },
   "outputs": [
    {
     "name": "stderr",
     "output_type": "stream",
     "text": [
      "/opt/conda/lib/python3.7/site-packages/seaborn/_decorators.py:43: FutureWarning: Pass the following variables as keyword args: x, y. From version 0.12, the only valid positional argument will be `data`, and passing other arguments without an explicit keyword will result in an error or misinterpretation.\n",
      "  FutureWarning\n"
     ]
    },
    {
     "data": {
      "text/plain": [
       "<AxesSubplot:xlabel='dayofweek', ylabel='cnt'>"
      ]
     },
     "execution_count": 11,
     "metadata": {},
     "output_type": "execute_result"
    },
    {
     "data": {
      "image/png": "[encoded data removed]",
      "text/plain": [
       "<Figure size 720x360 with 1 Axes>"
      ]
     },
     "metadata": {
      "needs_background": "light"
     },
     "output_type": "display_data"
    }
   ],
   "source": [
    "a, b = plt.subplots(1, 1, figsize=(10, 5))\n",
    "sns.boxplot(df['dayofweek'], df['cnt'])"
   ]
  },
  {
   "cell_type": "code",
   "execution_count": 12,
   "id": "650f553a",
   "metadata": {
    "execution": {
     "iopub.execute_input": "2022-07-18T07:23:28.829507Z",
     "iopub.status.busy": "2022-07-18T07:23:28.829132Z",
     "iopub.status.idle": "2022-07-18T07:23:29.327483Z",
     "shell.execute_reply": "2022-07-18T07:23:29.326070Z"
    },
    "papermill": {
     "duration": 0.516537,
     "end_time": "2022-07-18T07:23:29.330120",
     "exception": false,
     "start_time": "2022-07-18T07:23:28.813583",
     "status": "completed"
    },
    "tags": []
   },
   "outputs": [
    {
     "name": "stderr",
     "output_type": "stream",
     "text": [
      "/opt/conda/lib/python3.7/site-packages/seaborn/_decorators.py:43: FutureWarning: Pass the following variables as keyword args: x, y. From version 0.12, the only valid positional argument will be `data`, and passing other arguments without an explicit keyword will result in an error or misinterpretation.\n",
      "  FutureWarning\n"
     ]
    },
    {
     "data": {
      "text/plain": [
       "<AxesSubplot:xlabel='hour', ylabel='cnt'>"
      ]
     },
     "execution_count": 12,
     "metadata": {},
     "output_type": "execute_result"
    },
    {
     "data": {
      "image/png": "[encoded data removed]",
      "text/plain": [
       "<Figure size 720x360 with 1 Axes>"
      ]
     },
     "metadata": {
      "needs_background": "light"
     },
     "output_type": "display_data"
    }
   ],
   "source": [
    "a, b = plt.subplots(1, 1, figsize=(10, 5))\n",
    "sns.boxplot(df['hour'], df['cnt'])"
   ]
  },
  {
   "cell_type": "code",
   "execution_count": 13,
   "id": "5fc94f15",
   "metadata": {
    "execution": {
     "iopub.execute_input": "2022-07-18T07:23:29.361293Z",
     "iopub.status.busy": "2022-07-18T07:23:29.360895Z",
     "iopub.status.idle": "2022-07-18T07:23:30.116528Z",
     "shell.execute_reply": "2022-07-18T07:23:30.115261Z"
    },
    "papermill": {
     "duration": 0.774364,
     "end_time": "2022-07-18T07:23:30.119159",
     "exception": false,
     "start_time": "2022-07-18T07:23:29.344795",
     "status": "completed"
    },
    "tags": []
   },
   "outputs": [
    {
     "data": {
      "image/png": "[encoded data removed]",
      "text/plain": [
       "<Figure size 864x216 with 1 Axes>"
      ]
     },
     "metadata": {
      "needs_background": "light"
     },
     "output_type": "display_data"
    }
   ],
   "source": [
    "# graph function\n",
    "def plot_bar(data, feature) :\n",
    "    fig = plt.figure(figsize=(12, 3))\n",
    "    sns.barplot(x=feature, y='cnt', data=data, palette='Set3', orient='v')\n",
    "    \n",
    "plot_bar(df, 'month')"
   ]
  },
  {
   "cell_type": "code",
   "execution_count": 14,
   "id": "5b856110",
   "metadata": {
    "execution": {
     "iopub.execute_input": "2022-07-18T07:23:30.151677Z",
     "iopub.status.busy": "2022-07-18T07:23:30.150965Z",
     "iopub.status.idle": "2022-07-18T07:23:30.156630Z",
     "shell.execute_reply": "2022-07-18T07:23:30.155413Z"
    },
    "papermill": {
     "duration": 0.024713,
     "end_time": "2022-07-18T07:23:30.159018",
     "exception": false,
     "start_time": "2022-07-18T07:23:30.134305",
     "status": "completed"
    },
    "tags": []
   },
   "outputs": [],
   "source": [
    "# remove outlier\n",
    "\n",
    "def is_outliers(s):\n",
    "    lower_limit = s.mean() - (3*s.std())\n",
    "    upper_limit = s.mean() + (3*s.std())\n",
    "    \n",
    "    return ~s.between(lower_limit, upper_limit)\n"
   ]
  },
  {
   "cell_type": "code",
   "execution_count": 15,
   "id": "3d58879e",
   "metadata": {
    "execution": {
     "iopub.execute_input": "2022-07-18T07:23:30.191311Z",
     "iopub.status.busy": "2022-07-18T07:23:30.190589Z",
     "iopub.status.idle": "2022-07-18T07:23:30.233480Z",
     "shell.execute_reply": "2022-07-18T07:23:30.232072Z"
    },
    "papermill": {
     "duration": 0.062243,
     "end_time": "2022-07-18T07:23:30.236206",
     "exception": false,
     "start_time": "2022-07-18T07:23:30.173963",
     "status": "completed"
    },
    "tags": []
   },
   "outputs": [
    {
     "name": "stdout",
     "output_type": "stream",
     "text": [
      "이상치 제거 전 : (17414, 14)\n",
      "이상치 제거 후 : (17265, 14)\n"
     ]
    }
   ],
   "source": [
    "df_out = df[~df.groupby('hour')['cnt'].apply(is_outliers)]\n",
    "\n",
    "print('이상치 제거 전 :', df.shape)\n",
    "print('이상치 제거 후 :', df_out.shape)"
   ]
  },
  {
   "cell_type": "code",
   "execution_count": 16,
   "id": "84e44e09",
   "metadata": {
    "execution": {
     "iopub.execute_input": "2022-07-18T07:23:30.268225Z",
     "iopub.status.busy": "2022-07-18T07:23:30.267783Z",
     "iopub.status.idle": "2022-07-18T07:23:30.277546Z",
     "shell.execute_reply": "2022-07-18T07:23:30.276321Z"
    },
    "papermill": {
     "duration": 0.029072,
     "end_time": "2022-07-18T07:23:30.280281",
     "exception": false,
     "start_time": "2022-07-18T07:23:30.251209",
     "status": "completed"
    },
    "tags": []
   },
   "outputs": [
    {
     "data": {
      "text/plain": [
       "timestamp       datetime64[ns]\n",
       "cnt                      int64\n",
       "t1                     float64\n",
       "t2                     float64\n",
       "hum                    float64\n",
       "wind_speed             float64\n",
       "weather_code           float64\n",
       "is_holiday             float64\n",
       "is_weekend             float64\n",
       "season                 float64\n",
       "year                     int64\n",
       "month                    int64\n",
       "dayofweek                int64\n",
       "hour                     int64\n",
       "dtype: object"
      ]
     },
     "execution_count": 16,
     "metadata": {},
     "output_type": "execute_result"
    }
   ],
   "source": [
    "df_out.dtypes"
   ]
  },
  {
   "cell_type": "code",
   "execution_count": 17,
   "id": "d9d225c5",
   "metadata": {
    "execution": {
     "iopub.execute_input": "2022-07-18T07:23:30.312817Z",
     "iopub.status.busy": "2022-07-18T07:23:30.312388Z",
     "iopub.status.idle": "2022-07-18T07:23:30.333394Z",
     "shell.execute_reply": "2022-07-18T07:23:30.331631Z"
    },
    "papermill": {
     "duration": 0.040154,
     "end_time": "2022-07-18T07:23:30.335871",
     "exception": false,
     "start_time": "2022-07-18T07:23:30.295717",
     "status": "completed"
    },
    "tags": []
   },
   "outputs": [
    {
     "name": "stderr",
     "output_type": "stream",
     "text": [
      "/opt/conda/lib/python3.7/site-packages/ipykernel_launcher.py:1: SettingWithCopyWarning: \n",
      "A value is trying to be set on a copy of a slice from a DataFrame.\n",
      "Try using .loc[row_indexer,col_indexer] = value instead\n",
      "\n",
      "See the caveats in the documentation: https://pandas.pydata.org/pandas-docs/stable/user_guide/indexing.html#returning-a-view-versus-a-copy\n",
      "  \"\"\"Entry point for launching an IPython kernel.\n",
      "/opt/conda/lib/python3.7/site-packages/ipykernel_launcher.py:2: SettingWithCopyWarning: \n",
      "A value is trying to be set on a copy of a slice from a DataFrame.\n",
      "Try using .loc[row_indexer,col_indexer] = value instead\n",
      "\n",
      "See the caveats in the documentation: https://pandas.pydata.org/pandas-docs/stable/user_guide/indexing.html#returning-a-view-versus-a-copy\n",
      "  \n",
      "/opt/conda/lib/python3.7/site-packages/ipykernel_launcher.py:3: SettingWithCopyWarning: \n",
      "A value is trying to be set on a copy of a slice from a DataFrame.\n",
      "Try using .loc[row_indexer,col_indexer] = value instead\n",
      "\n",
      "See the caveats in the documentation: https://pandas.pydata.org/pandas-docs/stable/user_guide/indexing.html#returning-a-view-versus-a-copy\n",
      "  This is separate from the ipykernel package so we can avoid doing imports until\n",
      "/opt/conda/lib/python3.7/site-packages/ipykernel_launcher.py:4: SettingWithCopyWarning: \n",
      "A value is trying to be set on a copy of a slice from a DataFrame.\n",
      "Try using .loc[row_indexer,col_indexer] = value instead\n",
      "\n",
      "See the caveats in the documentation: https://pandas.pydata.org/pandas-docs/stable/user_guide/indexing.html#returning-a-view-versus-a-copy\n",
      "  after removing the cwd from sys.path.\n",
      "/opt/conda/lib/python3.7/site-packages/ipykernel_launcher.py:5: SettingWithCopyWarning: \n",
      "A value is trying to be set on a copy of a slice from a DataFrame.\n",
      "Try using .loc[row_indexer,col_indexer] = value instead\n",
      "\n",
      "See the caveats in the documentation: https://pandas.pydata.org/pandas-docs/stable/user_guide/indexing.html#returning-a-view-versus-a-copy\n",
      "  \"\"\"\n"
     ]
    },
    {
     "data": {
      "text/plain": [
       "timestamp       datetime64[ns]\n",
       "cnt                      int64\n",
       "t1                     float64\n",
       "t2                     float64\n",
       "hum                    float64\n",
       "wind_speed             float64\n",
       "weather_code          category\n",
       "is_holiday             float64\n",
       "is_weekend             float64\n",
       "season                category\n",
       "year                  category\n",
       "month                 category\n",
       "dayofweek                int64\n",
       "hour                  category\n",
       "dtype: object"
      ]
     },
     "execution_count": 17,
     "metadata": {},
     "output_type": "execute_result"
    }
   ],
   "source": [
    "df_out['weather_code'] = df_out['weather_code'].astype('category')\n",
    "df_out['season'] = df_out['season'].astype('category')\n",
    "df_out['year'] = df_out['year'].astype('category')\n",
    "df_out['month'] = df_out['month'].astype('category')\n",
    "df_out['hour'] = df_out['hour'].astype('category')\n",
    "\n",
    "df_out.dtypes"
   ]
  },
  {
   "cell_type": "code",
   "execution_count": 18,
   "id": "afcc4bf4",
   "metadata": {
    "execution": {
     "iopub.execute_input": "2022-07-18T07:23:30.368874Z",
     "iopub.status.busy": "2022-07-18T07:23:30.368460Z",
     "iopub.status.idle": "2022-07-18T07:23:30.406708Z",
     "shell.execute_reply": "2022-07-18T07:23:30.405331Z"
    },
    "papermill": {
     "duration": 0.057791,
     "end_time": "2022-07-18T07:23:30.409273",
     "exception": false,
     "start_time": "2022-07-18T07:23:30.351482",
     "status": "completed"
    },
    "tags": []
   },
   "outputs": [
    {
     "data": {
      "text/html": [
       "<div>\n",
       "<style scoped>\n",
       "    .dataframe tbody tr th:only-of-type {\n",
       "        vertical-align: middle;\n",
       "    }\n",
       "\n",
       "    .dataframe tbody tr th {\n",
       "        vertical-align: top;\n",
       "    }\n",
       "\n",
       "    .dataframe thead th {\n",
       "        text-align: right;\n",
       "    }\n",
       "</style>\n",
       "<table border=\"1\" class=\"dataframe\">\n",
       "  <thead>\n",
       "    <tr style=\"text-align: right;\">\n",
       "      <th></th>\n",
       "      <th>timestamp</th>\n",
       "      <th>cnt</th>\n",
       "      <th>t1</th>\n",
       "      <th>t2</th>\n",
       "      <th>hum</th>\n",
       "      <th>wind_speed</th>\n",
       "      <th>is_holiday</th>\n",
       "      <th>is_weekend</th>\n",
       "      <th>dayofweek</th>\n",
       "      <th>weather_code_1.0</th>\n",
       "      <th>...</th>\n",
       "      <th>hour_14</th>\n",
       "      <th>hour_15</th>\n",
       "      <th>hour_16</th>\n",
       "      <th>hour_17</th>\n",
       "      <th>hour_18</th>\n",
       "      <th>hour_19</th>\n",
       "      <th>hour_20</th>\n",
       "      <th>hour_21</th>\n",
       "      <th>hour_22</th>\n",
       "      <th>hour_23</th>\n",
       "    </tr>\n",
       "  </thead>\n",
       "  <tbody>\n",
       "    <tr>\n",
       "      <th>0</th>\n",
       "      <td>2015-01-04 00:00:00</td>\n",
       "      <td>182</td>\n",
       "      <td>3.0</td>\n",
       "      <td>2.0</td>\n",
       "      <td>93.0</td>\n",
       "      <td>6.0</td>\n",
       "      <td>0.0</td>\n",
       "      <td>1.0</td>\n",
       "      <td>6</td>\n",
       "      <td>0</td>\n",
       "      <td>...</td>\n",
       "      <td>0</td>\n",
       "      <td>0</td>\n",
       "      <td>0</td>\n",
       "      <td>0</td>\n",
       "      <td>0</td>\n",
       "      <td>0</td>\n",
       "      <td>0</td>\n",
       "      <td>0</td>\n",
       "      <td>0</td>\n",
       "      <td>0</td>\n",
       "    </tr>\n",
       "    <tr>\n",
       "      <th>1</th>\n",
       "      <td>2015-01-04 01:00:00</td>\n",
       "      <td>138</td>\n",
       "      <td>3.0</td>\n",
       "      <td>2.5</td>\n",
       "      <td>93.0</td>\n",
       "      <td>5.0</td>\n",
       "      <td>0.0</td>\n",
       "      <td>1.0</td>\n",
       "      <td>6</td>\n",
       "      <td>1</td>\n",
       "      <td>...</td>\n",
       "      <td>0</td>\n",
       "      <td>0</td>\n",
       "      <td>0</td>\n",
       "      <td>0</td>\n",
       "      <td>0</td>\n",
       "      <td>0</td>\n",
       "      <td>0</td>\n",
       "      <td>0</td>\n",
       "      <td>0</td>\n",
       "      <td>0</td>\n",
       "    </tr>\n",
       "    <tr>\n",
       "      <th>2</th>\n",
       "      <td>2015-01-04 02:00:00</td>\n",
       "      <td>134</td>\n",
       "      <td>2.5</td>\n",
       "      <td>2.5</td>\n",
       "      <td>96.5</td>\n",
       "      <td>0.0</td>\n",
       "      <td>0.0</td>\n",
       "      <td>1.0</td>\n",
       "      <td>6</td>\n",
       "      <td>1</td>\n",
       "      <td>...</td>\n",
       "      <td>0</td>\n",
       "      <td>0</td>\n",
       "      <td>0</td>\n",
       "      <td>0</td>\n",
       "      <td>0</td>\n",
       "      <td>0</td>\n",
       "      <td>0</td>\n",
       "      <td>0</td>\n",
       "      <td>0</td>\n",
       "      <td>0</td>\n",
       "    </tr>\n",
       "    <tr>\n",
       "      <th>3</th>\n",
       "      <td>2015-01-04 03:00:00</td>\n",
       "      <td>72</td>\n",
       "      <td>2.0</td>\n",
       "      <td>2.0</td>\n",
       "      <td>100.0</td>\n",
       "      <td>0.0</td>\n",
       "      <td>0.0</td>\n",
       "      <td>1.0</td>\n",
       "      <td>6</td>\n",
       "      <td>1</td>\n",
       "      <td>...</td>\n",
       "      <td>0</td>\n",
       "      <td>0</td>\n",
       "      <td>0</td>\n",
       "      <td>0</td>\n",
       "      <td>0</td>\n",
       "      <td>0</td>\n",
       "      <td>0</td>\n",
       "      <td>0</td>\n",
       "      <td>0</td>\n",
       "      <td>0</td>\n",
       "    </tr>\n",
       "    <tr>\n",
       "      <th>4</th>\n",
       "      <td>2015-01-04 04:00:00</td>\n",
       "      <td>47</td>\n",
       "      <td>2.0</td>\n",
       "      <td>0.0</td>\n",
       "      <td>93.0</td>\n",
       "      <td>6.5</td>\n",
       "      <td>0.0</td>\n",
       "      <td>1.0</td>\n",
       "      <td>6</td>\n",
       "      <td>1</td>\n",
       "      <td>...</td>\n",
       "      <td>0</td>\n",
       "      <td>0</td>\n",
       "      <td>0</td>\n",
       "      <td>0</td>\n",
       "      <td>0</td>\n",
       "      <td>0</td>\n",
       "      <td>0</td>\n",
       "      <td>0</td>\n",
       "      <td>0</td>\n",
       "      <td>0</td>\n",
       "    </tr>\n",
       "  </tbody>\n",
       "</table>\n",
       "<p>5 rows × 59 columns</p>\n",
       "</div>"
      ],
      "text/plain": [
       "            timestamp  cnt   t1   t2    hum  wind_speed  is_holiday  \\\n",
       "0 2015-01-04 00:00:00  182  3.0  2.0   93.0         6.0         0.0   \n",
       "1 2015-01-04 01:00:00  138  3.0  2.5   93.0         5.0         0.0   \n",
       "2 2015-01-04 02:00:00  134  2.5  2.5   96.5         0.0         0.0   \n",
       "3 2015-01-04 03:00:00   72  2.0  2.0  100.0         0.0         0.0   \n",
       "4 2015-01-04 04:00:00   47  2.0  0.0   93.0         6.5         0.0   \n",
       "\n",
       "   is_weekend  dayofweek  weather_code_1.0  ...  hour_14  hour_15  hour_16  \\\n",
       "0         1.0          6                 0  ...        0        0        0   \n",
       "1         1.0          6                 1  ...        0        0        0   \n",
       "2         1.0          6                 1  ...        0        0        0   \n",
       "3         1.0          6                 1  ...        0        0        0   \n",
       "4         1.0          6                 1  ...        0        0        0   \n",
       "\n",
       "   hour_17  hour_18  hour_19  hour_20  hour_21  hour_22  hour_23  \n",
       "0        0        0        0        0        0        0        0  \n",
       "1        0        0        0        0        0        0        0  \n",
       "2        0        0        0        0        0        0        0  \n",
       "3        0        0        0        0        0        0        0  \n",
       "4        0        0        0        0        0        0        0  \n",
       "\n",
       "[5 rows x 59 columns]"
      ]
     },
     "execution_count": 18,
     "metadata": {},
     "output_type": "execute_result"
    }
   ],
   "source": [
    "df_out = pd.get_dummies(df_out, columns=['weather_code', 'season', 'year', 'month', 'hour'])\n",
    "df_out.head()"
   ]
  },
  {
   "cell_type": "code",
   "execution_count": 19,
   "id": "8054de15",
   "metadata": {
    "execution": {
     "iopub.execute_input": "2022-07-18T07:23:30.443813Z",
     "iopub.status.busy": "2022-07-18T07:23:30.443131Z",
     "iopub.status.idle": "2022-07-18T07:23:30.452705Z",
     "shell.execute_reply": "2022-07-18T07:23:30.451266Z"
    },
    "papermill": {
     "duration": 0.029605,
     "end_time": "2022-07-18T07:23:30.455126",
     "exception": false,
     "start_time": "2022-07-18T07:23:30.425521",
     "status": "completed"
    },
    "tags": []
   },
   "outputs": [
    {
     "data": {
      "text/plain": [
       "(17265, 59)"
      ]
     },
     "execution_count": 19,
     "metadata": {},
     "output_type": "execute_result"
    }
   ],
   "source": [
    "df_out.shape"
   ]
  },
  {
   "cell_type": "code",
   "execution_count": 20,
   "id": "f37ce03b",
   "metadata": {
    "execution": {
     "iopub.execute_input": "2022-07-18T07:23:30.489499Z",
     "iopub.status.busy": "2022-07-18T07:23:30.489060Z",
     "iopub.status.idle": "2022-07-18T07:23:30.520170Z",
     "shell.execute_reply": "2022-07-18T07:23:30.518884Z"
    },
    "papermill": {
     "duration": 0.052102,
     "end_time": "2022-07-18T07:23:30.523051",
     "exception": false,
     "start_time": "2022-07-18T07:23:30.470949",
     "status": "completed"
    },
    "tags": []
   },
   "outputs": [
    {
     "data": {
      "text/html": [
       "<div>\n",
       "<style scoped>\n",
       "    .dataframe tbody tr th:only-of-type {\n",
       "        vertical-align: middle;\n",
       "    }\n",
       "\n",
       "    .dataframe tbody tr th {\n",
       "        vertical-align: top;\n",
       "    }\n",
       "\n",
       "    .dataframe thead th {\n",
       "        text-align: right;\n",
       "    }\n",
       "</style>\n",
       "<table border=\"1\" class=\"dataframe\">\n",
       "  <thead>\n",
       "    <tr style=\"text-align: right;\">\n",
       "      <th></th>\n",
       "      <th>t1</th>\n",
       "      <th>t2</th>\n",
       "      <th>hum</th>\n",
       "      <th>wind_speed</th>\n",
       "      <th>is_holiday</th>\n",
       "      <th>is_weekend</th>\n",
       "      <th>dayofweek</th>\n",
       "      <th>weather_code_1.0</th>\n",
       "      <th>weather_code_2.0</th>\n",
       "      <th>weather_code_3.0</th>\n",
       "      <th>...</th>\n",
       "      <th>hour_14</th>\n",
       "      <th>hour_15</th>\n",
       "      <th>hour_16</th>\n",
       "      <th>hour_17</th>\n",
       "      <th>hour_18</th>\n",
       "      <th>hour_19</th>\n",
       "      <th>hour_20</th>\n",
       "      <th>hour_21</th>\n",
       "      <th>hour_22</th>\n",
       "      <th>hour_23</th>\n",
       "    </tr>\n",
       "  </thead>\n",
       "  <tbody>\n",
       "    <tr>\n",
       "      <th>0</th>\n",
       "      <td>3.0</td>\n",
       "      <td>2.0</td>\n",
       "      <td>93.0</td>\n",
       "      <td>6.0</td>\n",
       "      <td>0.0</td>\n",
       "      <td>1.0</td>\n",
       "      <td>6</td>\n",
       "      <td>0</td>\n",
       "      <td>0</td>\n",
       "      <td>1</td>\n",
       "      <td>...</td>\n",
       "      <td>0</td>\n",
       "      <td>0</td>\n",
       "      <td>0</td>\n",
       "      <td>0</td>\n",
       "      <td>0</td>\n",
       "      <td>0</td>\n",
       "      <td>0</td>\n",
       "      <td>0</td>\n",
       "      <td>0</td>\n",
       "      <td>0</td>\n",
       "    </tr>\n",
       "    <tr>\n",
       "      <th>1</th>\n",
       "      <td>3.0</td>\n",
       "      <td>2.5</td>\n",
       "      <td>93.0</td>\n",
       "      <td>5.0</td>\n",
       "      <td>0.0</td>\n",
       "      <td>1.0</td>\n",
       "      <td>6</td>\n",
       "      <td>1</td>\n",
       "      <td>0</td>\n",
       "      <td>0</td>\n",
       "      <td>...</td>\n",
       "      <td>0</td>\n",
       "      <td>0</td>\n",
       "      <td>0</td>\n",
       "      <td>0</td>\n",
       "      <td>0</td>\n",
       "      <td>0</td>\n",
       "      <td>0</td>\n",
       "      <td>0</td>\n",
       "      <td>0</td>\n",
       "      <td>0</td>\n",
       "    </tr>\n",
       "    <tr>\n",
       "      <th>2</th>\n",
       "      <td>2.5</td>\n",
       "      <td>2.5</td>\n",
       "      <td>96.5</td>\n",
       "      <td>0.0</td>\n",
       "      <td>0.0</td>\n",
       "      <td>1.0</td>\n",
       "      <td>6</td>\n",
       "      <td>1</td>\n",
       "      <td>0</td>\n",
       "      <td>0</td>\n",
       "      <td>...</td>\n",
       "      <td>0</td>\n",
       "      <td>0</td>\n",
       "      <td>0</td>\n",
       "      <td>0</td>\n",
       "      <td>0</td>\n",
       "      <td>0</td>\n",
       "      <td>0</td>\n",
       "      <td>0</td>\n",
       "      <td>0</td>\n",
       "      <td>0</td>\n",
       "    </tr>\n",
       "    <tr>\n",
       "      <th>3</th>\n",
       "      <td>2.0</td>\n",
       "      <td>2.0</td>\n",
       "      <td>100.0</td>\n",
       "      <td>0.0</td>\n",
       "      <td>0.0</td>\n",
       "      <td>1.0</td>\n",
       "      <td>6</td>\n",
       "      <td>1</td>\n",
       "      <td>0</td>\n",
       "      <td>0</td>\n",
       "      <td>...</td>\n",
       "      <td>0</td>\n",
       "      <td>0</td>\n",
       "      <td>0</td>\n",
       "      <td>0</td>\n",
       "      <td>0</td>\n",
       "      <td>0</td>\n",
       "      <td>0</td>\n",
       "      <td>0</td>\n",
       "      <td>0</td>\n",
       "      <td>0</td>\n",
       "    </tr>\n",
       "    <tr>\n",
       "      <th>4</th>\n",
       "      <td>2.0</td>\n",
       "      <td>0.0</td>\n",
       "      <td>93.0</td>\n",
       "      <td>6.5</td>\n",
       "      <td>0.0</td>\n",
       "      <td>1.0</td>\n",
       "      <td>6</td>\n",
       "      <td>1</td>\n",
       "      <td>0</td>\n",
       "      <td>0</td>\n",
       "      <td>...</td>\n",
       "      <td>0</td>\n",
       "      <td>0</td>\n",
       "      <td>0</td>\n",
       "      <td>0</td>\n",
       "      <td>0</td>\n",
       "      <td>0</td>\n",
       "      <td>0</td>\n",
       "      <td>0</td>\n",
       "      <td>0</td>\n",
       "      <td>0</td>\n",
       "    </tr>\n",
       "  </tbody>\n",
       "</table>\n",
       "<p>5 rows × 57 columns</p>\n",
       "</div>"
      ],
      "text/plain": [
       "    t1   t2    hum  wind_speed  is_holiday  is_weekend  dayofweek  \\\n",
       "0  3.0  2.0   93.0         6.0         0.0         1.0          6   \n",
       "1  3.0  2.5   93.0         5.0         0.0         1.0          6   \n",
       "2  2.5  2.5   96.5         0.0         0.0         1.0          6   \n",
       "3  2.0  2.0  100.0         0.0         0.0         1.0          6   \n",
       "4  2.0  0.0   93.0         6.5         0.0         1.0          6   \n",
       "\n",
       "   weather_code_1.0  weather_code_2.0  weather_code_3.0  ...  hour_14  \\\n",
       "0                 0                 0                 1  ...        0   \n",
       "1                 1                 0                 0  ...        0   \n",
       "2                 1                 0                 0  ...        0   \n",
       "3                 1                 0                 0  ...        0   \n",
       "4                 1                 0                 0  ...        0   \n",
       "\n",
       "   hour_15  hour_16  hour_17  hour_18  hour_19  hour_20  hour_21  hour_22  \\\n",
       "0        0        0        0        0        0        0        0        0   \n",
       "1        0        0        0        0        0        0        0        0   \n",
       "2        0        0        0        0        0        0        0        0   \n",
       "3        0        0        0        0        0        0        0        0   \n",
       "4        0        0        0        0        0        0        0        0   \n",
       "\n",
       "   hour_23  \n",
       "0        0  \n",
       "1        0  \n",
       "2        0  \n",
       "3        0  \n",
       "4        0  \n",
       "\n",
       "[5 rows x 57 columns]"
      ]
     },
     "execution_count": 20,
     "metadata": {},
     "output_type": "execute_result"
    }
   ],
   "source": [
    "df_y = df_out['cnt']\n",
    "df_x = df_out.drop(['timestamp', 'cnt'], axis=1)\n",
    "df_x.head()"
   ]
  },
  {
   "cell_type": "code",
   "execution_count": 21,
   "id": "40690377",
   "metadata": {
    "execution": {
     "iopub.execute_input": "2022-07-18T07:23:30.558443Z",
     "iopub.status.busy": "2022-07-18T07:23:30.557929Z",
     "iopub.status.idle": "2022-07-18T07:23:30.781602Z",
     "shell.execute_reply": "2022-07-18T07:23:30.780567Z"
    },
    "papermill": {
     "duration": 0.244275,
     "end_time": "2022-07-18T07:23:30.784220",
     "exception": false,
     "start_time": "2022-07-18T07:23:30.539945",
     "status": "completed"
    },
    "tags": []
   },
   "outputs": [],
   "source": [
    "# data split\n",
    "\n",
    "from sklearn.model_selection import train_test_split\n",
    "x_train, x_test, y_train, y_test = train_test_split(df_x, df_y, random_state=66, test_size=0.3, shuffle=False)\n",
    "#shuffle : 데이터를 섞는것, 시계열 데이터에서는 False 처리 해줘야 함\n"
   ]
  },
  {
   "cell_type": "code",
   "execution_count": 22,
   "id": "3fc9ae06",
   "metadata": {
    "execution": {
     "iopub.execute_input": "2022-07-18T07:23:30.820649Z",
     "iopub.status.busy": "2022-07-18T07:23:30.820020Z",
     "iopub.status.idle": "2022-07-18T07:23:30.826626Z",
     "shell.execute_reply": "2022-07-18T07:23:30.824965Z"
    },
    "papermill": {
     "duration": 0.028163,
     "end_time": "2022-07-18T07:23:30.829107",
     "exception": false,
     "start_time": "2022-07-18T07:23:30.800944",
     "status": "completed"
    },
    "tags": []
   },
   "outputs": [
    {
     "name": "stdout",
     "output_type": "stream",
     "text": [
      "shape of x_train : (12085, 57)\n",
      "shape of y_train : (12085,)\n",
      "shape of x_test : (5180, 57)\n",
      "shape of y_test : (5180,)\n"
     ]
    }
   ],
   "source": [
    "print('shape of x_train :', x_train.shape)\n",
    "print('shape of y_train :', y_train.shape)\n",
    "print('shape of x_test :', x_test.shape)\n",
    "print('shape of y_test :', y_test.shape)"
   ]
  },
  {
   "cell_type": "markdown",
   "id": "5631411e",
   "metadata": {
    "papermill": {
     "duration": 0.016214,
     "end_time": "2022-07-18T07:23:30.861450",
     "exception": false,
     "start_time": "2022-07-18T07:23:30.845236",
     "status": "completed"
    },
    "tags": []
   },
   "source": [
    "## deep learning - dnn"
   ]
  },
  {
   "cell_type": "code",
   "execution_count": 23,
   "id": "cfd0890a",
   "metadata": {
    "execution": {
     "iopub.execute_input": "2022-07-18T07:23:30.895788Z",
     "iopub.status.busy": "2022-07-18T07:23:30.894846Z",
     "iopub.status.idle": "2022-07-18T07:23:41.334338Z",
     "shell.execute_reply": "2022-07-18T07:23:41.333170Z"
    },
    "papermill": {
     "duration": 10.459223,
     "end_time": "2022-07-18T07:23:41.336824",
     "exception": false,
     "start_time": "2022-07-18T07:23:30.877601",
     "status": "completed"
    },
    "tags": []
   },
   "outputs": [],
   "source": [
    "import keras\n",
    "from keras.models import Sequential\n",
    "from keras.layers import Dense\n",
    "from keras.callbacks import EarlyStopping"
   ]
  },
  {
   "cell_type": "code",
   "execution_count": 24,
   "id": "7fa84342",
   "metadata": {
    "execution": {
     "iopub.execute_input": "2022-07-18T07:23:41.372272Z",
     "iopub.status.busy": "2022-07-18T07:23:41.371244Z",
     "iopub.status.idle": "2022-07-18T07:23:41.517165Z",
     "shell.execute_reply": "2022-07-18T07:23:41.515892Z"
    },
    "papermill": {
     "duration": 0.166507,
     "end_time": "2022-07-18T07:23:41.519806",
     "exception": false,
     "start_time": "2022-07-18T07:23:41.353299",
     "status": "completed"
    },
    "tags": []
   },
   "outputs": [
    {
     "name": "stderr",
     "output_type": "stream",
     "text": [
      "2022-07-18 07:23:41.410386: I tensorflow/core/common_runtime/process_util.cc:146] Creating new thread pool with default inter op setting: 2. Tune using inter_op_parallelism_threads for best performance.\n"
     ]
    }
   ],
   "source": [
    "model = Sequential()\n",
    "#add로 deeplearning 층 쌓기\n",
    "model.add(Dense(units=160, activation='relu', input_dim=57)) #input_dim = 독립변수개수\n",
    "model.add(Dense(units=60, activation='relu'))\n",
    "model.add(Dense(units=20, activation='relu'))\n",
    "model.add(Dense(units=1, activation='linear')) #자전거 수요 예측이므로 결과값이 하나, 그래서 마지막은 1\n"
   ]
  },
  {
   "cell_type": "code",
   "execution_count": 25,
   "id": "c6a15e49",
   "metadata": {
    "execution": {
     "iopub.execute_input": "2022-07-18T07:23:41.554312Z",
     "iopub.status.busy": "2022-07-18T07:23:41.553901Z",
     "iopub.status.idle": "2022-07-18T07:23:41.561233Z",
     "shell.execute_reply": "2022-07-18T07:23:41.559995Z"
    },
    "papermill": {
     "duration": 0.027436,
     "end_time": "2022-07-18T07:23:41.563530",
     "exception": false,
     "start_time": "2022-07-18T07:23:41.536094",
     "status": "completed"
    },
    "tags": []
   },
   "outputs": [
    {
     "name": "stdout",
     "output_type": "stream",
     "text": [
      "Model: \"sequential\"\n",
      "_________________________________________________________________\n",
      "Layer (type)                 Output Shape              Param #   \n",
      "=================================================================\n",
      "dense (Dense)                (None, 160)               9280      \n",
      "_________________________________________________________________\n",
      "dense_1 (Dense)              (None, 60)                9660      \n",
      "_________________________________________________________________\n",
      "dense_2 (Dense)              (None, 20)                1220      \n",
      "_________________________________________________________________\n",
      "dense_3 (Dense)              (None, 1)                 21        \n",
      "=================================================================\n",
      "Total params: 20,181\n",
      "Trainable params: 20,181\n",
      "Non-trainable params: 0\n",
      "_________________________________________________________________\n"
     ]
    }
   ],
   "source": [
    "model.summary()"
   ]
  },
  {
   "cell_type": "code",
   "execution_count": 26,
   "id": "e89b013e",
   "metadata": {
    "execution": {
     "iopub.execute_input": "2022-07-18T07:23:41.598788Z",
     "iopub.status.busy": "2022-07-18T07:23:41.597939Z",
     "iopub.status.idle": "2022-07-18T07:44:04.437357Z",
     "shell.execute_reply": "2022-07-18T07:44:04.435833Z"
    },
    "papermill": {
     "duration": 1222.860698,
     "end_time": "2022-07-18T07:44:04.440615",
     "exception": false,
     "start_time": "2022-07-18T07:23:41.579917",
     "status": "completed"
    },
    "tags": []
   },
   "outputs": [
    {
     "name": "stderr",
     "output_type": "stream",
     "text": [
      "2022-07-18 07:23:41.718260: I tensorflow/compiler/mlir/mlir_graph_optimization_pass.cc:185] None of the MLIR Optimization Passes are enabled (registered 2)\n"
     ]
    },
    {
     "name": "stdout",
     "output_type": "stream",
     "text": [
      "Epoch 1/50\n",
      "10876/10876 [==============================] - 25s 2ms/step - loss: 505.1747 - mae: 505.1747 - val_loss: 398.0476 - val_mae: 398.0476\n",
      "Epoch 2/50\n",
      "10876/10876 [==============================] - 24s 2ms/step - loss: 311.5081 - mae: 311.5081 - val_loss: 285.7419 - val_mae: 285.7419\n",
      "Epoch 3/50\n",
      "10876/10876 [==============================] - 24s 2ms/step - loss: 237.4937 - mae: 237.4937 - val_loss: 262.9270 - val_mae: 262.9270\n",
      "Epoch 4/50\n",
      "10876/10876 [==============================] - 24s 2ms/step - loss: 199.2494 - mae: 199.2494 - val_loss: 175.4212 - val_mae: 175.4212\n",
      "Epoch 5/50\n",
      "10876/10876 [==============================] - 24s 2ms/step - loss: 172.3450 - mae: 172.3450 - val_loss: 177.1434 - val_mae: 177.1434\n",
      "Epoch 6/50\n",
      "10876/10876 [==============================] - 24s 2ms/step - loss: 164.0905 - mae: 164.0905 - val_loss: 194.1291 - val_mae: 194.1291\n",
      "Epoch 7/50\n",
      "10876/10876 [==============================] - 24s 2ms/step - loss: 155.6062 - mae: 155.6062 - val_loss: 218.3529 - val_mae: 218.3529\n",
      "Epoch 8/50\n",
      "10876/10876 [==============================] - 23s 2ms/step - loss: 151.5152 - mae: 151.5152 - val_loss: 142.4743 - val_mae: 142.4743\n",
      "Epoch 9/50\n",
      "10876/10876 [==============================] - 24s 2ms/step - loss: 147.1530 - mae: 147.1530 - val_loss: 166.0865 - val_mae: 166.0865\n",
      "Epoch 10/50\n",
      "10876/10876 [==============================] - 23s 2ms/step - loss: 146.5439 - mae: 146.5439 - val_loss: 147.3661 - val_mae: 147.3661\n",
      "Epoch 11/50\n",
      "10876/10876 [==============================] - 24s 2ms/step - loss: 142.4726 - mae: 142.4726 - val_loss: 157.6340 - val_mae: 157.6340\n",
      "Epoch 12/50\n",
      "10876/10876 [==============================] - 24s 2ms/step - loss: 139.8781 - mae: 139.8781 - val_loss: 192.6550 - val_mae: 192.6550\n",
      "Epoch 13/50\n",
      "10876/10876 [==============================] - 24s 2ms/step - loss: 138.2595 - mae: 138.2595 - val_loss: 231.5452 - val_mae: 231.5452\n",
      "Epoch 14/50\n",
      "10876/10876 [==============================] - 24s 2ms/step - loss: 137.8332 - mae: 137.8332 - val_loss: 154.5504 - val_mae: 154.5504\n",
      "Epoch 15/50\n",
      "10876/10876 [==============================] - 23s 2ms/step - loss: 136.2550 - mae: 136.2550 - val_loss: 206.4498 - val_mae: 206.4498\n",
      "Epoch 16/50\n",
      "10876/10876 [==============================] - 23s 2ms/step - loss: 134.6697 - mae: 134.6697 - val_loss: 155.8545 - val_mae: 155.8545\n",
      "Epoch 17/50\n",
      "10876/10876 [==============================] - 24s 2ms/step - loss: 133.0588 - mae: 133.0588 - val_loss: 156.7452 - val_mae: 156.7452\n",
      "Epoch 18/50\n",
      "10876/10876 [==============================] - 23s 2ms/step - loss: 132.0057 - mae: 132.0057 - val_loss: 143.3795 - val_mae: 143.3795\n",
      "Epoch 19/50\n",
      "10876/10876 [==============================] - 23s 2ms/step - loss: 130.4834 - mae: 130.4834 - val_loss: 147.8848 - val_mae: 147.8848\n",
      "Epoch 20/50\n",
      "10876/10876 [==============================] - 23s 2ms/step - loss: 129.0416 - mae: 129.0416 - val_loss: 203.2818 - val_mae: 203.2818\n",
      "Epoch 21/50\n",
      "10876/10876 [==============================] - 25s 2ms/step - loss: 128.5574 - mae: 128.5574 - val_loss: 150.3990 - val_mae: 150.3990\n",
      "Epoch 22/50\n",
      "10876/10876 [==============================] - 24s 2ms/step - loss: 127.5491 - mae: 127.5491 - val_loss: 177.0641 - val_mae: 177.0641\n",
      "Epoch 23/50\n",
      "10876/10876 [==============================] - 24s 2ms/step - loss: 125.4724 - mae: 125.4724 - val_loss: 150.6584 - val_mae: 150.6584\n",
      "Epoch 24/50\n",
      "10876/10876 [==============================] - 26s 2ms/step - loss: 125.4068 - mae: 125.4068 - val_loss: 170.3973 - val_mae: 170.3973\n",
      "Epoch 25/50\n",
      "10876/10876 [==============================] - 25s 2ms/step - loss: 124.1357 - mae: 124.1357 - val_loss: 150.6788 - val_mae: 150.6788\n",
      "Epoch 26/50\n",
      "10876/10876 [==============================] - 24s 2ms/step - loss: 124.9282 - mae: 124.9282 - val_loss: 182.1727 - val_mae: 182.1727\n",
      "Epoch 27/50\n",
      "10876/10876 [==============================] - 23s 2ms/step - loss: 123.8763 - mae: 123.8763 - val_loss: 162.7383 - val_mae: 162.7383\n",
      "Epoch 28/50\n",
      "10876/10876 [==============================] - 23s 2ms/step - loss: 122.3938 - mae: 122.3938 - val_loss: 212.0918 - val_mae: 212.0918\n",
      "Epoch 29/50\n",
      "10876/10876 [==============================] - 23s 2ms/step - loss: 121.3873 - mae: 121.3873 - val_loss: 150.1735 - val_mae: 150.1735\n",
      "Epoch 30/50\n",
      "10876/10876 [==============================] - 23s 2ms/step - loss: 122.1194 - mae: 122.1194 - val_loss: 151.1607 - val_mae: 151.1607\n",
      "Epoch 31/50\n",
      "10876/10876 [==============================] - 24s 2ms/step - loss: 120.7956 - mae: 120.7956 - val_loss: 141.4488 - val_mae: 141.4488\n",
      "Epoch 32/50\n",
      "10876/10876 [==============================] - 24s 2ms/step - loss: 121.6462 - mae: 121.6462 - val_loss: 138.2585 - val_mae: 138.2585\n",
      "Epoch 33/50\n",
      "10876/10876 [==============================] - 24s 2ms/step - loss: 119.4449 - mae: 119.4449 - val_loss: 137.3464 - val_mae: 137.3464\n",
      "Epoch 34/50\n",
      "10876/10876 [==============================] - 24s 2ms/step - loss: 120.4860 - mae: 120.4860 - val_loss: 160.4748 - val_mae: 160.4748\n",
      "Epoch 35/50\n",
      "10876/10876 [==============================] - 23s 2ms/step - loss: 118.2850 - mae: 118.2850 - val_loss: 152.3725 - val_mae: 152.3725\n",
      "Epoch 36/50\n",
      "10876/10876 [==============================] - 24s 2ms/step - loss: 119.0548 - mae: 119.0548 - val_loss: 171.0517 - val_mae: 171.0517\n",
      "Epoch 37/50\n",
      "10876/10876 [==============================] - 24s 2ms/step - loss: 118.2591 - mae: 118.2591 - val_loss: 171.2604 - val_mae: 171.2604\n",
      "Epoch 38/50\n",
      "10876/10876 [==============================] - 25s 2ms/step - loss: 116.8907 - mae: 116.8907 - val_loss: 142.9380 - val_mae: 142.9380\n",
      "Epoch 39/50\n",
      "10876/10876 [==============================] - 23s 2ms/step - loss: 116.8894 - mae: 116.8894 - val_loss: 152.6672 - val_mae: 152.6672\n",
      "Epoch 40/50\n",
      "10876/10876 [==============================] - 23s 2ms/step - loss: 116.6504 - mae: 116.6504 - val_loss: 155.5896 - val_mae: 155.5896\n",
      "Epoch 41/50\n",
      "10876/10876 [==============================] - 23s 2ms/step - loss: 115.8777 - mae: 115.8777 - val_loss: 131.0651 - val_mae: 131.0651\n",
      "Epoch 42/50\n",
      "10876/10876 [==============================] - 24s 2ms/step - loss: 115.7844 - mae: 115.7844 - val_loss: 161.5353 - val_mae: 161.5353\n",
      "Epoch 43/50\n",
      "10876/10876 [==============================] - 23s 2ms/step - loss: 114.7352 - mae: 114.7352 - val_loss: 154.4760 - val_mae: 154.4760\n",
      "Epoch 44/50\n",
      "10876/10876 [==============================] - 23s 2ms/step - loss: 114.9380 - mae: 114.9380 - val_loss: 130.1911 - val_mae: 130.1911\n",
      "Epoch 45/50\n",
      "10876/10876 [==============================] - 24s 2ms/step - loss: 113.9476 - mae: 113.9476 - val_loss: 163.7125 - val_mae: 163.7125\n",
      "Epoch 46/50\n",
      "10876/10876 [==============================] - 23s 2ms/step - loss: 113.6055 - mae: 113.6055 - val_loss: 130.2243 - val_mae: 130.2243\n",
      "Epoch 47/50\n",
      "10876/10876 [==============================] - 24s 2ms/step - loss: 113.8262 - mae: 113.8262 - val_loss: 192.0768 - val_mae: 192.0768\n",
      "Epoch 48/50\n",
      "10876/10876 [==============================] - 24s 2ms/step - loss: 112.9122 - mae: 112.9122 - val_loss: 133.9998 - val_mae: 133.9998\n",
      "Epoch 49/50\n",
      "10876/10876 [==============================] - 24s 2ms/step - loss: 113.2186 - mae: 113.2186 - val_loss: 168.2537 - val_mae: 168.2537\n",
      "Epoch 50/50\n",
      "10876/10876 [==============================] - 23s 2ms/step - loss: 112.6147 - mae: 112.6147 - val_loss: 167.4646 - val_mae: 167.4646\n"
     ]
    }
   ],
   "source": [
    "model.compile(loss='mae', optimizer='adam', metrics=['mae'])\n",
    "early_stopping=EarlyStopping(monitor='loss', patience=5, mode='min')\n",
    "#오차(=loss)가 커지는게 연달아 5번(=patience) 되면 조기중단 시켜줘\n",
    "history = model.fit(x_train, y_train, epochs=50, batch_size=1, validation_split=0.1)\n",
    "#epochs=훈련횟수, batch_size=훈련단위"
   ]
  },
  {
   "cell_type": "code",
   "execution_count": 27,
   "id": "34bb7041",
   "metadata": {
    "execution": {
     "iopub.execute_input": "2022-07-18T07:44:07.957157Z",
     "iopub.status.busy": "2022-07-18T07:44:07.956552Z",
     "iopub.status.idle": "2022-07-18T07:44:08.190217Z",
     "shell.execute_reply": "2022-07-18T07:44:08.188869Z"
    },
    "papermill": {
     "duration": 1.969889,
     "end_time": "2022-07-18T07:44:08.192751",
     "exception": false,
     "start_time": "2022-07-18T07:44:06.222862",
     "status": "completed"
    },
    "tags": []
   },
   "outputs": [
    {
     "data": {
      "text/plain": [
       "<matplotlib.legend.Legend at 0x7f3ba4200a10>"
      ]
     },
     "execution_count": 27,
     "metadata": {},
     "output_type": "execute_result"
    },
    {
     "data": {
      "image/png": "[encoded data removed]",
      "text/plain": [
       "<Figure size 432x288 with 1 Axes>"
      ]
     },
     "metadata": {
      "needs_background": "light"
     },
     "output_type": "display_data"
    }
   ],
   "source": [
    "plt.plot(history.history['val_loss'])\n",
    "plt.plot(history.history['loss'])\n",
    "plt.title('comparing loss')\n",
    "plt.xlabel('Epochs')\n",
    "plt.ylabel('loss')\n",
    "plt.legend(['val_loss', 'loss'])"
   ]
  },
  {
   "cell_type": "code",
   "execution_count": 28,
   "id": "50a17b3e",
   "metadata": {
    "execution": {
     "iopub.execute_input": "2022-07-18T07:44:11.543464Z",
     "iopub.status.busy": "2022-07-18T07:44:11.542196Z",
     "iopub.status.idle": "2022-07-18T07:44:11.951425Z",
     "shell.execute_reply": "2022-07-18T07:44:11.950144Z"
    },
    "papermill": {
     "duration": 2.118771,
     "end_time": "2022-07-18T07:44:11.954150",
     "exception": false,
     "start_time": "2022-07-18T07:44:09.835379",
     "status": "completed"
    },
    "tags": []
   },
   "outputs": [],
   "source": [
    "y_predict = model.predict(x_test)"
   ]
  },
  {
   "cell_type": "markdown",
   "id": "c39b0193",
   "metadata": {
    "papermill": {
     "duration": 1.655245,
     "end_time": "2022-07-18T07:44:15.294864",
     "exception": false,
     "start_time": "2022-07-18T07:44:13.639619",
     "status": "completed"
    },
    "tags": []
   },
   "source": [
    "## Random Forest"
   ]
  },
  {
   "cell_type": "code",
   "execution_count": 29,
   "id": "5cee0cd0",
   "metadata": {
    "execution": {
     "iopub.execute_input": "2022-07-18T07:44:18.653814Z",
     "iopub.status.busy": "2022-07-18T07:44:18.653112Z",
     "iopub.status.idle": "2022-07-18T07:44:18.660671Z",
     "shell.execute_reply": "2022-07-18T07:44:18.659148Z"
    },
    "papermill": {
     "duration": 1.708677,
     "end_time": "2022-07-18T07:44:18.663162",
     "exception": false,
     "start_time": "2022-07-18T07:44:16.954485",
     "status": "completed"
    },
    "tags": []
   },
   "outputs": [
    {
     "name": "stdout",
     "output_type": "stream",
     "text": [
      "RMSE : 282.7645600298966\n"
     ]
    }
   ],
   "source": [
    "#RMSE 오차제곱근 구하기\n",
    "from sklearn.metrics import mean_squared_error\n",
    "\n",
    "def RMSE(y_test, y_predict) :\n",
    "    return np.sqrt(mean_squared_error(y_test, y_predict))\n",
    "\n",
    "print('RMSE :', RMSE(y_test, y_predict))  #RMSE는 낮을 수록 좋음"
   ]
  },
  {
   "cell_type": "code",
   "execution_count": 30,
   "id": "f5d09fbb",
   "metadata": {
    "execution": {
     "iopub.execute_input": "2022-07-18T07:44:22.030083Z",
     "iopub.status.busy": "2022-07-18T07:44:22.029361Z",
     "iopub.status.idle": "2022-07-18T07:44:31.454014Z",
     "shell.execute_reply": "2022-07-18T07:44:31.452549Z"
    },
    "papermill": {
     "duration": 11.120293,
     "end_time": "2022-07-18T07:44:31.456630",
     "exception": false,
     "start_time": "2022-07-18T07:44:20.336337",
     "status": "completed"
    },
    "tags": []
   },
   "outputs": [
    {
     "name": "stdout",
     "output_type": "stream",
     "text": [
      "RMSE : 303.6417775662534\n"
     ]
    }
   ],
   "source": [
    "from sklearn.ensemble import RandomForestRegressor\n",
    "\n",
    "rf = RandomForestRegressor(n_estimators=100, random_state=16)\n",
    "#n_estimators: 약한모형 n개를 만들겠어\n",
    "\n",
    "rf.fit(x_train, y_train)\n",
    "rf_predict=rf.predict(x_test)\n",
    "\n",
    "print('RMSE :', RMSE(y_test, rf_predict))"
   ]
  },
  {
   "cell_type": "markdown",
   "id": "818662ae",
   "metadata": {
    "papermill": {
     "duration": 1.680957,
     "end_time": "2022-07-18T07:44:34.885307",
     "exception": false,
     "start_time": "2022-07-18T07:44:33.204350",
     "status": "completed"
    },
    "tags": []
   },
   "source": [
    "## XGBoost"
   ]
  },
  {
   "cell_type": "code",
   "execution_count": 31,
   "id": "c392ccb8",
   "metadata": {
    "execution": {
     "iopub.execute_input": "2022-07-18T07:44:38.246777Z",
     "iopub.status.busy": "2022-07-18T07:44:38.245998Z",
     "iopub.status.idle": "2022-07-18T07:44:40.168657Z",
     "shell.execute_reply": "2022-07-18T07:44:40.167658Z"
    },
    "papermill": {
     "duration": 3.618266,
     "end_time": "2022-07-18T07:44:40.171600",
     "exception": false,
     "start_time": "2022-07-18T07:44:36.553334",
     "status": "completed"
    },
    "tags": []
   },
   "outputs": [
    {
     "name": "stdout",
     "output_type": "stream",
     "text": [
      "RMSE : 307.09072320247844\n"
     ]
    }
   ],
   "source": [
    "from xgboost import XGBRegressor\n",
    "\n",
    "xgb = XGBRegressor(n_estimators=100, random_state=16)\n",
    "\n",
    "xgb.fit(x_train, y_train)\n",
    "xgb_predict = xgb.predict(x_test)\n",
    "\n",
    "print('RMSE :', RMSE(y_test, xgb_predict))"
   ]
  },
  {
   "cell_type": "markdown",
   "id": "8cef82e3",
   "metadata": {
    "papermill": {
     "duration": 1.667282,
     "end_time": "2022-07-18T07:44:43.517809",
     "exception": false,
     "start_time": "2022-07-18T07:44:41.850527",
     "status": "completed"
    },
    "tags": []
   },
   "source": [
    "## LightGBM"
   ]
  },
  {
   "cell_type": "code",
   "execution_count": 32,
   "id": "45697daf",
   "metadata": {
    "execution": {
     "iopub.execute_input": "2022-07-18T07:44:46.846656Z",
     "iopub.status.busy": "2022-07-18T07:44:46.846013Z",
     "iopub.status.idle": "2022-07-18T07:44:48.079872Z",
     "shell.execute_reply": "2022-07-18T07:44:48.078172Z"
    },
    "papermill": {
     "duration": 2.900407,
     "end_time": "2022-07-18T07:44:48.083441",
     "exception": false,
     "start_time": "2022-07-18T07:44:45.183034",
     "status": "completed"
    },
    "tags": []
   },
   "outputs": [
    {
     "data": {
      "text/html": [
       "<style type='text/css'>\n",
       ".datatable table.frame { margin-bottom: 0; }\n",
       ".datatable table.frame thead { border-bottom: none; }\n",
       ".datatable table.frame tr.coltypes td {  color: #FFFFFF;  line-height: 6px;  padding: 0 0.5em;}\n",
       ".datatable .bool    { background: #DDDD99; }\n",
       ".datatable .object  { background: #565656; }\n",
       ".datatable .int     { background: #5D9E5D; }\n",
       ".datatable .float   { background: #4040CC; }\n",
       ".datatable .str     { background: #CC4040; }\n",
       ".datatable .time    { background: #40CC40; }\n",
       ".datatable .row_index {  background: var(--jp-border-color3);  border-right: 1px solid var(--jp-border-color0);  color: var(--jp-ui-font-color3);  font-size: 9px;}\n",
       ".datatable .frame tbody td { text-align: left; }\n",
       ".datatable .frame tr.coltypes .row_index {  background: var(--jp-border-color0);}\n",
       ".datatable th:nth-child(2) { padding-left: 12px; }\n",
       ".datatable .hellipsis {  color: var(--jp-cell-editor-border-color);}\n",
       ".datatable .vellipsis {  background: var(--jp-layout-color0);  color: var(--jp-cell-editor-border-color);}\n",
       ".datatable .na {  color: var(--jp-cell-editor-border-color);  font-size: 80%;}\n",
       ".datatable .sp {  opacity: 0.25;}\n",
       ".datatable .footer { font-size: 9px; }\n",
       ".datatable .frame_dimensions {  background: var(--jp-border-color3);  border-top: 1px solid var(--jp-border-color0);  color: var(--jp-ui-font-color3);  display: inline-block;  opacity: 0.6;  padding: 1px 10px 1px 5px;}\n",
       "</style>\n"
      ],
      "text/plain": [
       "<IPython.core.display.HTML object>"
      ]
     },
     "metadata": {},
     "output_type": "display_data"
    },
    {
     "name": "stdout",
     "output_type": "stream",
     "text": [
      "RMSE : 323.2746495922864\n"
     ]
    }
   ],
   "source": [
    "from lightgbm import LGBMRegressor\n",
    "\n",
    "lgb = LGBMRegressor(n_estimators=100, random_state=16)\n",
    "\n",
    "lgb.fit(x_train, y_train)\n",
    "lgb_predict = lgb.predict(x_test)\n",
    "\n",
    "print('RMSE :', RMSE(y_test, lgb_predict))"
   ]
  },
  {
   "cell_type": "markdown",
   "id": "a166956a",
   "metadata": {
    "papermill": {
     "duration": 1.697911,
     "end_time": "2022-07-18T07:44:51.391508",
     "exception": false,
     "start_time": "2022-07-18T07:44:49.693597",
     "status": "completed"
    },
    "tags": []
   },
   "source": [
    "deeplearning rmse : 266.06\n",
    "\n",
    "randomforest rmse : 303.64\n",
    "\n",
    "xgboost rmse : 307.09\n",
    "\n",
    "lightgbm rmse : 323.27\n",
    "\n",
    "결과적으로 딥러닝 성능 > XGB 성능 > 랜포 성능 > LGBM 성능"
   ]
  },
  {
   "cell_type": "markdown",
   "id": "f769712f",
   "metadata": {
    "papermill": {
     "duration": 1.699534,
     "end_time": "2022-07-18T07:44:54.781837",
     "exception": false,
     "start_time": "2022-07-18T07:44:53.082303",
     "status": "completed"
    },
    "tags": []
   },
   "source": [
    "## 모델링 결과값 비교 - kernel 함수"
   ]
  },
  {
   "cell_type": "code",
   "execution_count": 33,
   "id": "79938398",
   "metadata": {
    "execution": {
     "iopub.execute_input": "2022-07-18T07:44:58.202709Z",
     "iopub.status.busy": "2022-07-18T07:44:58.201723Z",
     "iopub.status.idle": "2022-07-18T07:44:58.223181Z",
     "shell.execute_reply": "2022-07-18T07:44:58.221948Z"
    },
    "papermill": {
     "duration": 1.787023,
     "end_time": "2022-07-18T07:44:58.225853",
     "exception": false,
     "start_time": "2022-07-18T07:44:56.438830",
     "status": "completed"
    },
    "tags": []
   },
   "outputs": [
    {
     "data": {
      "text/html": [
       "<div>\n",
       "<style scoped>\n",
       "    .dataframe tbody tr th:only-of-type {\n",
       "        vertical-align: middle;\n",
       "    }\n",
       "\n",
       "    .dataframe tbody tr th {\n",
       "        vertical-align: top;\n",
       "    }\n",
       "\n",
       "    .dataframe thead th {\n",
       "        text-align: right;\n",
       "    }\n",
       "</style>\n",
       "<table border=\"1\" class=\"dataframe\">\n",
       "  <thead>\n",
       "    <tr style=\"text-align: right;\">\n",
       "      <th></th>\n",
       "      <th>cnt</th>\n",
       "      <th>xgb</th>\n",
       "      <th>rf</th>\n",
       "      <th>dnn</th>\n",
       "      <th>lgb</th>\n",
       "    </tr>\n",
       "  </thead>\n",
       "  <tbody>\n",
       "    <tr>\n",
       "      <th>0</th>\n",
       "      <td>1885</td>\n",
       "      <td>1803.070923</td>\n",
       "      <td>1700.24</td>\n",
       "      <td>2119.811035</td>\n",
       "      <td>1830.345197</td>\n",
       "    </tr>\n",
       "    <tr>\n",
       "      <th>1</th>\n",
       "      <td>2175</td>\n",
       "      <td>2228.828125</td>\n",
       "      <td>1803.82</td>\n",
       "      <td>2398.254395</td>\n",
       "      <td>2133.296789</td>\n",
       "    </tr>\n",
       "    <tr>\n",
       "      <th>2</th>\n",
       "      <td>2485</td>\n",
       "      <td>2598.814697</td>\n",
       "      <td>2191.37</td>\n",
       "      <td>2708.785889</td>\n",
       "      <td>2590.899050</td>\n",
       "    </tr>\n",
       "    <tr>\n",
       "      <th>3</th>\n",
       "      <td>2882</td>\n",
       "      <td>2683.149658</td>\n",
       "      <td>2206.67</td>\n",
       "      <td>2554.973633</td>\n",
       "      <td>2613.783086</td>\n",
       "    </tr>\n",
       "    <tr>\n",
       "      <th>4</th>\n",
       "      <td>2965</td>\n",
       "      <td>2590.693848</td>\n",
       "      <td>2276.35</td>\n",
       "      <td>2560.015625</td>\n",
       "      <td>2306.341169</td>\n",
       "    </tr>\n",
       "  </tbody>\n",
       "</table>\n",
       "</div>"
      ],
      "text/plain": [
       "    cnt          xgb       rf          dnn          lgb\n",
       "0  1885  1803.070923  1700.24  2119.811035  1830.345197\n",
       "1  2175  2228.828125  1803.82  2398.254395  2133.296789\n",
       "2  2485  2598.814697  2191.37  2708.785889  2590.899050\n",
       "3  2882  2683.149658  2206.67  2554.973633  2613.783086\n",
       "4  2965  2590.693848  2276.35  2560.015625  2306.341169"
      ]
     },
     "execution_count": 33,
     "metadata": {},
     "output_type": "execute_result"
    }
   ],
   "source": [
    "xgb = pd.DataFrame(xgb_predict)\n",
    "rf = pd.DataFrame(rf_predict)\n",
    "dnn = pd.DataFrame(y_predict)\n",
    "lgb = pd.DataFrame(lgb_predict)\n",
    "\n",
    "# reset_index\n",
    "compare = pd.DataFrame(y_test).reset_index(drop=True)\n",
    "\n",
    "compare['xgb'] = xgb\n",
    "compare['rf'] = rf\n",
    "compare['dnn'] = dnn\n",
    "compare['lgb'] = lgb\n",
    "\n",
    "compare.head()"
   ]
  },
  {
   "cell_type": "code",
   "execution_count": 34,
   "id": "17f963fd",
   "metadata": {
    "execution": {
     "iopub.execute_input": "2022-07-18T07:45:01.573654Z",
     "iopub.status.busy": "2022-07-18T07:45:01.573054Z",
     "iopub.status.idle": "2022-07-18T07:45:01.967385Z",
     "shell.execute_reply": "2022-07-18T07:45:01.966145Z"
    },
    "papermill": {
     "duration": 2.065762,
     "end_time": "2022-07-18T07:45:01.970110",
     "exception": false,
     "start_time": "2022-07-18T07:44:59.904348",
     "status": "completed"
    },
    "tags": []
   },
   "outputs": [
    {
     "data": {
      "text/plain": [
       "<AxesSubplot:xlabel='cnt', ylabel='Density'>"
      ]
     },
     "execution_count": 34,
     "metadata": {},
     "output_type": "execute_result"
    },
    {
     "data": {
      "image/png": "[encoded data removed]",
      "text/plain": [
       "<Figure size 432x288 with 1 Axes>"
      ]
     },
     "metadata": {
      "needs_background": "light"
     },
     "output_type": "display_data"
    }
   ],
   "source": [
    "sns.kdeplot(compare['cnt'], shade=True, color='r')\n",
    "sns.kdeplot(compare['xgb'], shade=True, color='b')\n",
    "sns.kdeplot(compare['rf'], shade=True, color='y')\n",
    "sns.kdeplot(compare['dnn'], shade=True, color='g')\n",
    "sns.kdeplot(compare['lgb'], shade=True, color='black')"
   ]
  },
  {
   "cell_type": "code",
   "execution_count": null,
   "id": "0178f6bf",
   "metadata": {
    "papermill": {
     "duration": 1.695027,
     "end_time": "2022-07-18T07:45:05.391417",
     "exception": false,
     "start_time": "2022-07-18T07:45:03.696390",
     "status": "completed"
    },
    "tags": []
   },
   "outputs": [],
   "source": []
  }
 ],
 "metadata": {
  "kernelspec": {
   "display_name": "Python 3",
   "language": "python",
   "name": "python3"
  },
  "language_info": {
   "codemirror_mode": {
    "name": "ipython",
    "version": 3
   },
   "file_extension": ".py",
   "mimetype": "text/x-python",
   "name": "python",
   "nbconvert_exporter": "python",
   "pygments_lexer": "ipython3",
   "version": "3.7.12"
  },
  "papermill": {
   "default_parameters": {},
   "duration": 1314.708499,
   "end_time": "2022-07-18T07:45:09.930930",
   "environment_variables": {},
   "exception": null,
   "input_path": "__notebook__.ipynb",
   "output_path": "__notebook__.ipynb",
   "parameters": {},
   "start_time": "2022-07-18T07:23:15.222431",
   "version": "2.3.4"
  }
 },
 "nbformat": 4,
 "nbformat_minor": 5
}
