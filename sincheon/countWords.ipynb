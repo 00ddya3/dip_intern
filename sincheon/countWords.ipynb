{
 "cells": [
  {
   "cell_type": "code",
   "execution_count": 1,
   "metadata": {},
   "outputs": [
    {
     "data": {
      "text/html": [
       "<div>\n",
       "<style scoped>\n",
       "    .dataframe tbody tr th:only-of-type {\n",
       "        vertical-align: middle;\n",
       "    }\n",
       "\n",
       "    .dataframe tbody tr th {\n",
       "        vertical-align: top;\n",
       "    }\n",
       "\n",
       "    .dataframe thead th {\n",
       "        text-align: right;\n",
       "    }\n",
       "</style>\n",
       "<table border=\"1\" class=\"dataframe\">\n",
       "  <thead>\n",
       "    <tr style=\"text-align: right;\">\n",
       "      <th></th>\n",
       "      <th>부서</th>\n",
       "      <th>사업명</th>\n",
       "      <th>제안취지</th>\n",
       "      <th>사업내용</th>\n",
       "    </tr>\n",
       "  </thead>\n",
       "  <tbody>\n",
       "    <tr>\n",
       "      <th>0</th>\n",
       "      <td>자연재난과</td>\n",
       "      <td>무더운 대구의 여름을 위한 물놀이사업</td>\n",
       "      <td>대프리카라고 불리는 대구시에 물놀이장을 각 구마다 설치하여 주민들의 편의를 도모하는...</td>\n",
       "      <td>현재 수도권지역이나 다른 광역시에서는 여름이 되면 각 구마다  물놀이를 할 수 있는...</td>\n",
       "    </tr>\n",
       "    <tr>\n",
       "      <th>1</th>\n",
       "      <td>공원녹지과</td>\n",
       "      <td>신천동로 중앙분리대 교각 주변 녹지공간 조성</td>\n",
       "      <td>○ 신천동로에 있는 신성교, 신천철도교, 신천교, 동신교 중앙분리대 교각 주변 나대...</td>\n",
       "      <td>○ 신천동로 신성교, 신천철도교, 신천교, 동신교 교각 주변 녹지&lt;br&gt;  공간 조...</td>\n",
       "    </tr>\n",
       "    <tr>\n",
       "      <th>2</th>\n",
       "      <td>도시디자인과</td>\n",
       "      <td>참 좋은 일자리가 만들어가는 학교 가는 길</td>\n",
       "      <td>효신초등학교 등굣길에 위치한 구 동부정류장 담벼락 보기 흉한 상태로 방치되어&lt;br&gt;...</td>\n",
       "      <td>󰋻구 동부정류장 담장 도색 &lt;br&gt;󰋻보호 팬스 설치 후 장미넝쿨 식재&lt;br&gt;󰋻도색,...</td>\n",
       "    </tr>\n",
       "    <tr>\n",
       "      <th>3</th>\n",
       "      <td>NaN</td>\n",
       "      <td>침산교-금호대교 사이 오수배출시설 개선 및 보행자 교각 설치</td>\n",
       "      <td>침산교 – 금호대교 사이 오수 배출시설에 대한 환경 개선 및 보행자 통행을 위한 교...</td>\n",
       "      <td>○ 신천과 금호강변은 많은 대구시민이 산책(걷기, 마라톤, 자전거 등)을 즐기는 곳...</td>\n",
       "    </tr>\n",
       "    <tr>\n",
       "      <th>4</th>\n",
       "      <td>여성가족정책관</td>\n",
       "      <td>제8회평화와인권을위한대구시민걷기대회 “양성평등한 세상 함께 만들어요!”</td>\n",
       "      <td>일본군‘위안부’문제를 올바르게 해결하고 전쟁 없는 평화로운 미래와 여성인권&lt;br&gt;이...</td>\n",
       "      <td>§ 사 업 명: 제8회평화와인권을위한대구시민걷기대회&lt;br&gt;“양성평등한 세상 함께 만...</td>\n",
       "    </tr>\n",
       "  </tbody>\n",
       "</table>\n",
       "</div>"
      ],
      "text/plain": [
       "        부서                                      사업명  \\\n",
       "0    자연재난과                     무더운 대구의 여름을 위한 물놀이사업   \n",
       "1    공원녹지과                 신천동로 중앙분리대 교각 주변 녹지공간 조성   \n",
       "2   도시디자인과                  참 좋은 일자리가 만들어가는 학교 가는 길   \n",
       "3      NaN        침산교-금호대교 사이 오수배출시설 개선 및 보행자 교각 설치   \n",
       "4  여성가족정책관  제8회평화와인권을위한대구시민걷기대회 “양성평등한 세상 함께 만들어요!”   \n",
       "\n",
       "                                                제안취지  \\\n",
       "0  대프리카라고 불리는 대구시에 물놀이장을 각 구마다 설치하여 주민들의 편의를 도모하는...   \n",
       "1  ○ 신천동로에 있는 신성교, 신천철도교, 신천교, 동신교 중앙분리대 교각 주변 나대...   \n",
       "2  효신초등학교 등굣길에 위치한 구 동부정류장 담벼락 보기 흉한 상태로 방치되어<br>...   \n",
       "3  침산교 – 금호대교 사이 오수 배출시설에 대한 환경 개선 및 보행자 통행을 위한 교...   \n",
       "4  일본군‘위안부’문제를 올바르게 해결하고 전쟁 없는 평화로운 미래와 여성인권<br>이...   \n",
       "\n",
       "                                                사업내용  \n",
       "0  현재 수도권지역이나 다른 광역시에서는 여름이 되면 각 구마다  물놀이를 할 수 있는...  \n",
       "1  ○ 신천동로 신성교, 신천철도교, 신천교, 동신교 교각 주변 녹지<br>  공간 조...  \n",
       "2  󰋻구 동부정류장 담장 도색 <br>󰋻보호 팬스 설치 후 장미넝쿨 식재<br>󰋻도색,...  \n",
       "3  ○ 신천과 금호강변은 많은 대구시민이 산책(걷기, 마라톤, 자전거 등)을 즐기는 곳...  \n",
       "4  § 사 업 명: 제8회평화와인권을위한대구시민걷기대회<br>“양성평등한 세상 함께 만...  "
      ]
     },
     "execution_count": 1,
     "metadata": {},
     "output_type": "execute_result"
    }
   ],
   "source": [
    "import pandas as pd\n",
    "import numpy as np\n",
    "import re\n",
    "import ipykernel\n",
    "\n",
    "df1 = pd.read_csv('./rawdata/sincheon_minwon.csv')\n",
    "df1.drop(columns=['Unnamed: 0'], inplace=True)\n",
    "df1.head()"
   ]
  },
  {
   "cell_type": "code",
   "execution_count": 4,
   "metadata": {},
   "outputs": [
    {
     "data": {
      "text/html": [
       "<div>\n",
       "<style scoped>\n",
       "    .dataframe tbody tr th:only-of-type {\n",
       "        vertical-align: middle;\n",
       "    }\n",
       "\n",
       "    .dataframe tbody tr th {\n",
       "        vertical-align: top;\n",
       "    }\n",
       "\n",
       "    .dataframe thead th {\n",
       "        text-align: right;\n",
       "    }\n",
       "</style>\n",
       "<table border=\"1\" class=\"dataframe\">\n",
       "  <thead>\n",
       "    <tr style=\"text-align: right;\">\n",
       "      <th></th>\n",
       "      <th>부서</th>\n",
       "      <th>사업명</th>\n",
       "      <th>제안취지</th>\n",
       "      <th>사업내용</th>\n",
       "      <th>text</th>\n",
       "    </tr>\n",
       "  </thead>\n",
       "  <tbody>\n",
       "    <tr>\n",
       "      <th>0</th>\n",
       "      <td>자연재난과</td>\n",
       "      <td>무더운 대구의 여름을 위한 물놀이사업</td>\n",
       "      <td>대프리카라고 불리는 대구시에 물놀이장을 각 구마다 설치하여 주민들의 편의를 도모하는...</td>\n",
       "      <td>현재 수도권지역이나 다른 광역시에서는 여름이 되면 각 구마다  물놀이를 할 수 있는...</td>\n",
       "      <td>무더운 대구의 여름을 위한 물놀이사업 대프리카라고 불리는 대구시에 물놀이장을 각 구...</td>\n",
       "    </tr>\n",
       "    <tr>\n",
       "      <th>1</th>\n",
       "      <td>공원녹지과</td>\n",
       "      <td>신천동로 중앙분리대 교각 주변 녹지공간 조성</td>\n",
       "      <td>신천동로에 있는 신성교  신천철도교  신천교  동신교 중앙분리대 교각 주변 나대...</td>\n",
       "      <td>신천동로 신성교  신천철도교  신천교  동신교 교각 주변 녹지     공간 조성...</td>\n",
       "      <td>신천동로 중앙분리대 교각 주변 녹지공간 조성   신천동로에 있는 신성교  신천철도교...</td>\n",
       "    </tr>\n",
       "    <tr>\n",
       "      <th>2</th>\n",
       "      <td>도시디자인과</td>\n",
       "      <td>참 좋은 일자리가 만들어가는 학교 가는 길</td>\n",
       "      <td>효신초등학교 등굣길에 위치한 구 동부정류장 담벼락 보기 흉한 상태로 방치되어   도...</td>\n",
       "      <td>구 동부정류장 담장 도색     보호 팬스 설치 후 장미넝쿨 식재    도색  팬...</td>\n",
       "      <td>참 좋은 일자리가 만들어가는 학교 가는 길 효신초등학교 등굣길에 위치한 구 동부정류...</td>\n",
       "    </tr>\n",
       "    <tr>\n",
       "      <th>3</th>\n",
       "      <td>NaN</td>\n",
       "      <td>침산교-금호대교 사이 오수배출시설 개선 및 보행자 교각 설치</td>\n",
       "      <td>침산교   금호대교 사이 오수 배출시설에 대한 환경 개선 및 보행자 통행을 위한 교...</td>\n",
       "      <td>신천과 금호강변은 많은 대구시민이 산책 걷기  마라톤  자전거 등 을 즐기는 곳...</td>\n",
       "      <td>침산교-금호대교 사이 오수배출시설 개선 및 보행자 교각 설치 침산교   금호대교 사...</td>\n",
       "    </tr>\n",
       "    <tr>\n",
       "      <th>4</th>\n",
       "      <td>여성가족정책관</td>\n",
       "      <td>제8회평화와인권을위한대구시민걷기대회 “양성평등한 세상 함께 만들어요!”</td>\n",
       "      <td>일본군 위안부 문제를 올바르게 해결하고 전쟁 없는 평화로운 미래와 여성인권   이 ...</td>\n",
       "      <td>사 업 명  제 회평화와인권을위한대구시민걷기대회    양성평등한 세상 함께 만들...</td>\n",
       "      <td>제8회평화와인권을위한대구시민걷기대회 “양성평등한 세상 함께 만들어요!” 일본군 위안...</td>\n",
       "    </tr>\n",
       "  </tbody>\n",
       "</table>\n",
       "</div>"
      ],
      "text/plain": [
       "        부서                                      사업명  \\\n",
       "0    자연재난과                     무더운 대구의 여름을 위한 물놀이사업   \n",
       "1    공원녹지과                 신천동로 중앙분리대 교각 주변 녹지공간 조성   \n",
       "2   도시디자인과                  참 좋은 일자리가 만들어가는 학교 가는 길   \n",
       "3      NaN        침산교-금호대교 사이 오수배출시설 개선 및 보행자 교각 설치   \n",
       "4  여성가족정책관  제8회평화와인권을위한대구시민걷기대회 “양성평등한 세상 함께 만들어요!”   \n",
       "\n",
       "                                                제안취지  \\\n",
       "0  대프리카라고 불리는 대구시에 물놀이장을 각 구마다 설치하여 주민들의 편의를 도모하는...   \n",
       "1    신천동로에 있는 신성교  신천철도교  신천교  동신교 중앙분리대 교각 주변 나대...   \n",
       "2  효신초등학교 등굣길에 위치한 구 동부정류장 담벼락 보기 흉한 상태로 방치되어   도...   \n",
       "3  침산교   금호대교 사이 오수 배출시설에 대한 환경 개선 및 보행자 통행을 위한 교...   \n",
       "4  일본군 위안부 문제를 올바르게 해결하고 전쟁 없는 평화로운 미래와 여성인권   이 ...   \n",
       "\n",
       "                                                사업내용  \\\n",
       "0  현재 수도권지역이나 다른 광역시에서는 여름이 되면 각 구마다  물놀이를 할 수 있는...   \n",
       "1    신천동로 신성교  신천철도교  신천교  동신교 교각 주변 녹지     공간 조성...   \n",
       "2   구 동부정류장 담장 도색     보호 팬스 설치 후 장미넝쿨 식재    도색  팬...   \n",
       "3    신천과 금호강변은 많은 대구시민이 산책 걷기  마라톤  자전거 등 을 즐기는 곳...   \n",
       "4    사 업 명  제 회평화와인권을위한대구시민걷기대회    양성평등한 세상 함께 만들...   \n",
       "\n",
       "                                                text  \n",
       "0  무더운 대구의 여름을 위한 물놀이사업 대프리카라고 불리는 대구시에 물놀이장을 각 구...  \n",
       "1  신천동로 중앙분리대 교각 주변 녹지공간 조성   신천동로에 있는 신성교  신천철도교...  \n",
       "2  참 좋은 일자리가 만들어가는 학교 가는 길 효신초등학교 등굣길에 위치한 구 동부정류...  \n",
       "3  침산교-금호대교 사이 오수배출시설 개선 및 보행자 교각 설치 침산교   금호대교 사...  \n",
       "4  제8회평화와인권을위한대구시민걷기대회 “양성평등한 세상 함께 만들어요!” 일본군 위안...  "
      ]
     },
     "execution_count": 4,
     "metadata": {},
     "output_type": "execute_result"
    }
   ],
   "source": [
    "#중복행 제거\n",
    "df1 = df1.drop_duplicates(subset=['사업명'] ,keep='first')   # 사업명을 기준으로 중복 데이터 18개 삭제\n",
    "\n",
    "#텍스트 정제\n",
    "df1['제안취지'] = df1['제안취지'].str.replace(pat=r'[^\\w]', repl=r' ', regex=True)    # 특수문자 제거\n",
    "df1['사업내용'] = df1['사업내용'].str.replace(pat=r'[^\\w]', repl=r' ', regex=True)    # 특수문자 제거\n",
    "df1['제안취지'] = df1['제안취지'].str.replace(pat=r'[0-9]', repl=r' ', regex=True)    # 숫자 제거\n",
    "df1['사업내용'] = df1['사업내용'].str.replace(pat=r'[0-9]', repl=r' ', regex=True)    # 숫자 제거\n",
    "df1['제안취지'] = df1['제안취지'].str.replace('br', ' ')   # html 줄내림 표시 제거\n",
    "df1['사업내용'] = df1['사업내용'].str.replace('br', ' ')   # html 줄내림 표시 제거\n",
    "df1['사업내용'] = df1['사업내용'].str.replace('ㅁ', ' ')   # ㅁ 제거\n",
    "\n",
    "#모든 내용을 담은 열 생성\n",
    "df1['text'] = df1['사업명'] + ' ' + df1['제안취지'] + ' ' + df1['사업내용'] + ' '\n",
    "\n",
    "df1.head()"
   ]
  },
  {
   "cell_type": "code",
   "execution_count": 5,
   "metadata": {},
   "outputs": [
    {
     "data": {
      "text/plain": [
       "\"\\n#외래어 읽어오기\\nloanwords = pd.read_csv('loanwords.txt', encoding = 'cp949')\\nloanwords = loanwords['word'].tolist()\\nfor word in loanwords :\\n    okt.add_dictionary(word, 'Noun')\\n\""
      ]
     },
     "execution_count": 5,
     "metadata": {},
     "output_type": "execute_result"
    }
   ],
   "source": [
    "from tqdm import tqdm\n",
    "import re\n",
    "from konlpy.tag import Okt\n",
    "from pykospacing import Spacing\n",
    "\n",
    "okt = Okt()\n",
    "spacing = Spacing()\n",
    "\n",
    "#불용어 읽어오기\n",
    "stopwords = pd.read_csv(\"stopwords.txt\")\n",
    "stopwords = stopwords['word'].tolist()\n",
    "\n",
    "\"\"\"\n",
    "#외래어 읽어오기\n",
    "loanwords = pd.read_csv('loanwords.txt', encoding = 'cp949')\n",
    "loanwords = loanwords['word'].tolist()\n",
    "for word in loanwords :\n",
    "    okt.add_dictionary(word, 'Noun')\n",
    "\"\"\""
   ]
  },
  {
   "cell_type": "code",
   "execution_count": 7,
   "metadata": {},
   "outputs": [
    {
     "data": {
      "text/plain": [
       "[('신천', 827),\n",
       " ('설치', 760),\n",
       " ('주민', 266),\n",
       " ('이용', 251),\n",
       " ('대구', 236),\n",
       " ('사업', 206),\n",
       " ('조성', 201),\n",
       " ('시민', 192),\n",
       " ('자전거', 177),\n",
       " ('공간', 172),\n",
       " ('공원', 163),\n",
       " ('지역', 149),\n",
       " ('시설', 149),\n",
       " ('도로', 143),\n",
       " ('운동', 131),\n",
       " ('환경', 130),\n",
       " ('개선', 125),\n",
       " ('안전', 105),\n",
       " ('신천대로', 103),\n",
       " ('산책로', 99)]"
      ]
     },
     "execution_count": 7,
     "metadata": {},
     "output_type": "execute_result"
    }
   ],
   "source": [
    "from tensorflow.keras.preprocessing.text import Tokenizer\n",
    "from collections import Counter\n",
    "\n",
    "# remove stopwords + tokeninzing\n",
    "content = df1['text'].tolist()\n",
    "\n",
    "tks=[]\n",
    "for sentence in content :\n",
    "    kospacing_sent = spacing(sentence) # 띄워쓰기 보완\n",
    "    noun_sent = okt.nouns(kospacing_sent) # 명사만 추출\n",
    "    over_two_sent = [word for word in noun_sent if len(word) > 1]   # 2글자 이상인 단어만 사용\n",
    "    stopwords_removed_sentence = [word for word in over_two_sent if not word in stopwords] # 불용어 제거\n",
    "    tks.append(stopwords_removed_sentence)\n",
    "\n",
    "tk = Tokenizer()\n",
    "tk.fit_on_texts(tks)\n",
    "\n",
    "top20 = Counter(tk.word_counts).most_common(20)\n",
    "top20"
   ]
  },
  {
   "cell_type": "code",
   "execution_count": 8,
   "metadata": {},
   "outputs": [
    {
     "data": {
      "text/plain": [
       "0      무더운 대구의 여름을 위한 물놀이사업 대프리카라고 불리는 대구시에 물놀이장을 각 구...\n",
       "1      신천동로 중앙분리대 교각 주변 녹지공간 조성   신천동로에 있는 신성교  신천철도교...\n",
       "2      참 좋은 일자리가 만들어가는 학교 가는 길 효신초등학교 등굣길에 위치한 구 동부정류...\n",
       "3      침산교-금호대교 사이 오수배출시설 개선 및 보행자 교각 설치 침산교   금호대교 사...\n",
       "4      제8회평화와인권을위한대구시민걷기대회 “양성평등한 세상 함께 만들어요!” 일본군 위안...\n",
       "                             ...                        \n",
       "493    태극기 각 가정에 배포 및 게양 독려   오늘이 삼일절인데 아파트에 태극기가 거의 ...\n",
       "494    신천대로 교차로 이동시 바닥 점멸유도신호등 설치 수성교 상단부 교차로 좌회전 특히 ...\n",
       "496    찾지 않는 공간 활용을 통한 지역 다변화 확장 조성사업 찾지 않는 공간 활용을 통한...\n",
       "497    가창교 밑 터널 구간 조성 찾지 않는 공간 활용을 통한 지역 다변화 확장 조성을 위...\n",
       "499    주민 휴식 공간 신천둔치에 대형차 불법주차장 으로 이용하고 있는데 잔디나  보도블록...\n",
       "Name: text, Length: 482, dtype: object"
      ]
     },
     "execution_count": 8,
     "metadata": {},
     "output_type": "execute_result"
    }
   ],
   "source": [
    "df1['text']"
   ]
  },
  {
   "cell_type": "code",
   "execution_count": null,
   "metadata": {},
   "outputs": [],
   "source": []
  }
 ],
 "metadata": {
  "kernelspec": {
   "display_name": "Python 3.7.13 ('sklearn')",
   "language": "python",
   "name": "python3"
  },
  "language_info": {
   "codemirror_mode": {
    "name": "ipython",
    "version": 3
   },
   "file_extension": ".py",
   "mimetype": "text/x-python",
   "name": "python",
   "nbconvert_exporter": "python",
   "pygments_lexer": "ipython3",
   "version": "3.7.13"
  },
  "orig_nbformat": 4,
  "vscode": {
   "interpreter": {
    "hash": "4587f29e858e226412890b0be53498441dc114019e1a475fd5ac3bcafcae93fa"
   }
  }
 },
 "nbformat": 4,
 "nbformat_minor": 2
}
