{
 "cells": [
  {
   "cell_type": "code",
   "execution_count": 27,
   "metadata": {},
   "outputs": [
    {
     "data": {
      "text/html": [
       "<div>\n",
       "<style scoped>\n",
       "    .dataframe tbody tr th:only-of-type {\n",
       "        vertical-align: middle;\n",
       "    }\n",
       "\n",
       "    .dataframe tbody tr th {\n",
       "        vertical-align: top;\n",
       "    }\n",
       "\n",
       "    .dataframe thead th {\n",
       "        text-align: right;\n",
       "    }\n",
       "</style>\n",
       "<table border=\"1\" class=\"dataframe\">\n",
       "  <thead>\n",
       "    <tr style=\"text-align: right;\">\n",
       "      <th></th>\n",
       "      <th>부서</th>\n",
       "      <th>사업명</th>\n",
       "      <th>제안취지</th>\n",
       "      <th>사업내용</th>\n",
       "    </tr>\n",
       "  </thead>\n",
       "  <tbody>\n",
       "    <tr>\n",
       "      <th>0</th>\n",
       "      <td>자연재난과</td>\n",
       "      <td>무더운 대구의 여름을 위한 물놀이사업</td>\n",
       "      <td>대프리카라고 불리는 대구시에 물놀이장을 각 구마다 설치하여 주민들의 편의를 도모하는...</td>\n",
       "      <td>현재 수도권지역이나 다른 광역시에서는 여름이 되면 각 구마다  물놀이를 할 수 있는...</td>\n",
       "    </tr>\n",
       "    <tr>\n",
       "      <th>1</th>\n",
       "      <td>공원녹지과</td>\n",
       "      <td>신천동로 중앙분리대 교각 주변 녹지공간 조성</td>\n",
       "      <td>○ 신천동로에 있는 신성교, 신천철도교, 신천교, 동신교 중앙분리대 교각 주변 나대...</td>\n",
       "      <td>○ 신천동로 신성교, 신천철도교, 신천교, 동신교 교각 주변 녹지&lt;br&gt;  공간 조...</td>\n",
       "    </tr>\n",
       "    <tr>\n",
       "      <th>2</th>\n",
       "      <td>도시디자인과</td>\n",
       "      <td>참 좋은 일자리가 만들어가는 학교 가는 길</td>\n",
       "      <td>효신초등학교 등굣길에 위치한 구 동부정류장 담벼락 보기 흉한 상태로 방치되어&lt;br&gt;...</td>\n",
       "      <td>󰋻구 동부정류장 담장 도색 &lt;br&gt;󰋻보호 팬스 설치 후 장미넝쿨 식재&lt;br&gt;󰋻도색,...</td>\n",
       "    </tr>\n",
       "    <tr>\n",
       "      <th>3</th>\n",
       "      <td>NaN</td>\n",
       "      <td>침산교-금호대교 사이 오수배출시설 개선 및 보행자 교각 설치</td>\n",
       "      <td>침산교 – 금호대교 사이 오수 배출시설에 대한 환경 개선 및 보행자 통행을 위한 교...</td>\n",
       "      <td>○ 신천과 금호강변은 많은 대구시민이 산책(걷기, 마라톤, 자전거 등)을 즐기는 곳...</td>\n",
       "    </tr>\n",
       "    <tr>\n",
       "      <th>4</th>\n",
       "      <td>여성가족정책관</td>\n",
       "      <td>제8회평화와인권을위한대구시민걷기대회 “양성평등한 세상 함께 만들어요!”</td>\n",
       "      <td>일본군‘위안부’문제를 올바르게 해결하고 전쟁 없는 평화로운 미래와 여성인권&lt;br&gt;이...</td>\n",
       "      <td>§ 사 업 명: 제8회평화와인권을위한대구시민걷기대회&lt;br&gt;“양성평등한 세상 함께 만...</td>\n",
       "    </tr>\n",
       "  </tbody>\n",
       "</table>\n",
       "</div>"
      ],
      "text/plain": [
       "        부서                                      사업명  \\\n",
       "0    자연재난과                     무더운 대구의 여름을 위한 물놀이사업   \n",
       "1    공원녹지과                 신천동로 중앙분리대 교각 주변 녹지공간 조성   \n",
       "2   도시디자인과                  참 좋은 일자리가 만들어가는 학교 가는 길   \n",
       "3      NaN        침산교-금호대교 사이 오수배출시설 개선 및 보행자 교각 설치   \n",
       "4  여성가족정책관  제8회평화와인권을위한대구시민걷기대회 “양성평등한 세상 함께 만들어요!”   \n",
       "\n",
       "                                                제안취지  \\\n",
       "0  대프리카라고 불리는 대구시에 물놀이장을 각 구마다 설치하여 주민들의 편의를 도모하는...   \n",
       "1  ○ 신천동로에 있는 신성교, 신천철도교, 신천교, 동신교 중앙분리대 교각 주변 나대...   \n",
       "2  효신초등학교 등굣길에 위치한 구 동부정류장 담벼락 보기 흉한 상태로 방치되어<br>...   \n",
       "3  침산교 – 금호대교 사이 오수 배출시설에 대한 환경 개선 및 보행자 통행을 위한 교...   \n",
       "4  일본군‘위안부’문제를 올바르게 해결하고 전쟁 없는 평화로운 미래와 여성인권<br>이...   \n",
       "\n",
       "                                                사업내용  \n",
       "0  현재 수도권지역이나 다른 광역시에서는 여름이 되면 각 구마다  물놀이를 할 수 있는...  \n",
       "1  ○ 신천동로 신성교, 신천철도교, 신천교, 동신교 교각 주변 녹지<br>  공간 조...  \n",
       "2  󰋻구 동부정류장 담장 도색 <br>󰋻보호 팬스 설치 후 장미넝쿨 식재<br>󰋻도색,...  \n",
       "3  ○ 신천과 금호강변은 많은 대구시민이 산책(걷기, 마라톤, 자전거 등)을 즐기는 곳...  \n",
       "4  § 사 업 명: 제8회평화와인권을위한대구시민걷기대회<br>“양성평등한 세상 함께 만...  "
      ]
     },
     "execution_count": 27,
     "metadata": {},
     "output_type": "execute_result"
    }
   ],
   "source": [
    "import pandas as pd\n",
    "import re\n",
    "\n",
    "df1 = pd.read_csv('./rawdata/sincheon_minwon.csv')\n",
    "df1.drop(columns=['Unnamed: 0'], inplace=True)\n",
    "df1.head()"
   ]
  },
  {
   "cell_type": "code",
   "execution_count": 28,
   "metadata": {},
   "outputs": [
    {
     "data": {
      "text/html": [
       "<div>\n",
       "<style scoped>\n",
       "    .dataframe tbody tr th:only-of-type {\n",
       "        vertical-align: middle;\n",
       "    }\n",
       "\n",
       "    .dataframe tbody tr th {\n",
       "        vertical-align: top;\n",
       "    }\n",
       "\n",
       "    .dataframe thead th {\n",
       "        text-align: right;\n",
       "    }\n",
       "</style>\n",
       "<table border=\"1\" class=\"dataframe\">\n",
       "  <thead>\n",
       "    <tr style=\"text-align: right;\">\n",
       "      <th></th>\n",
       "      <th>부서</th>\n",
       "      <th>사업명</th>\n",
       "      <th>제안취지</th>\n",
       "      <th>사업내용</th>\n",
       "      <th>text</th>\n",
       "    </tr>\n",
       "  </thead>\n",
       "  <tbody>\n",
       "    <tr>\n",
       "      <th>0</th>\n",
       "      <td>자연재난과</td>\n",
       "      <td>무더운 대구의 여름을 위한 물놀이사업</td>\n",
       "      <td>대프리카라고 불리는 대구시에 물놀이장을 각 구마다 설치하여 주민들의 편의를 도모하는...</td>\n",
       "      <td>현재 수도권지역이나 다른 광역시에서는 여름이 되면 각 구마다  물놀이를 할 수 있는...</td>\n",
       "      <td>무더운 대구의 여름을 위한 물놀이사업 대프리카라고 불리는 대구시에 물놀이장을 각 구...</td>\n",
       "    </tr>\n",
       "    <tr>\n",
       "      <th>1</th>\n",
       "      <td>공원녹지과</td>\n",
       "      <td>신천동로 중앙분리대 교각 주변 녹지공간 조성</td>\n",
       "      <td>○ 신천동로에 있는 신성교, 신천철도교, 신천교, 동신교 중앙분리대 교각 주변 나대...</td>\n",
       "      <td>○ 신천동로 신성교, 신천철도교, 신천교, 동신교 교각 주변 녹지&lt;br&gt;  공간 조...</td>\n",
       "      <td>신천동로 중앙분리대 교각 주변 녹지공간 조성   신천동로에 있는 신성교  신천철도교...</td>\n",
       "    </tr>\n",
       "    <tr>\n",
       "      <th>2</th>\n",
       "      <td>도시디자인과</td>\n",
       "      <td>참 좋은 일자리가 만들어가는 학교 가는 길</td>\n",
       "      <td>효신초등학교 등굣길에 위치한 구 동부정류장 담벼락 보기 흉한 상태로 방치되어&lt;br&gt;...</td>\n",
       "      <td>󰋻구 동부정류장 담장 도색 &lt;br&gt;󰋻보호 팬스 설치 후 장미넝쿨 식재&lt;br&gt;󰋻도색,...</td>\n",
       "      <td>참 좋은 일자리가 만들어가는 학교 가는 길 효신초등학교 등굣길에 위치한 구 동부정류...</td>\n",
       "    </tr>\n",
       "    <tr>\n",
       "      <th>3</th>\n",
       "      <td>NaN</td>\n",
       "      <td>침산교-금호대교 사이 오수배출시설 개선 및 보행자 교각 설치</td>\n",
       "      <td>침산교 – 금호대교 사이 오수 배출시설에 대한 환경 개선 및 보행자 통행을 위한 교...</td>\n",
       "      <td>○ 신천과 금호강변은 많은 대구시민이 산책(걷기, 마라톤, 자전거 등)을 즐기는 곳...</td>\n",
       "      <td>침산교 금호대교 사이 오수배출시설 개선 및 보행자 교각 설치 침산교   금호대교 사...</td>\n",
       "    </tr>\n",
       "    <tr>\n",
       "      <th>4</th>\n",
       "      <td>여성가족정책관</td>\n",
       "      <td>제8회평화와인권을위한대구시민걷기대회 “양성평등한 세상 함께 만들어요!”</td>\n",
       "      <td>일본군‘위안부’문제를 올바르게 해결하고 전쟁 없는 평화로운 미래와 여성인권&lt;br&gt;이...</td>\n",
       "      <td>§ 사 업 명: 제8회평화와인권을위한대구시민걷기대회&lt;br&gt;“양성평등한 세상 함께 만...</td>\n",
       "      <td>제 회평화와인권을위한대구시민걷기대회  양성평등한 세상 함께 만들어요   일본군 위안...</td>\n",
       "    </tr>\n",
       "  </tbody>\n",
       "</table>\n",
       "</div>"
      ],
      "text/plain": [
       "        부서                                      사업명  \\\n",
       "0    자연재난과                     무더운 대구의 여름을 위한 물놀이사업   \n",
       "1    공원녹지과                 신천동로 중앙분리대 교각 주변 녹지공간 조성   \n",
       "2   도시디자인과                  참 좋은 일자리가 만들어가는 학교 가는 길   \n",
       "3      NaN        침산교-금호대교 사이 오수배출시설 개선 및 보행자 교각 설치   \n",
       "4  여성가족정책관  제8회평화와인권을위한대구시민걷기대회 “양성평등한 세상 함께 만들어요!”   \n",
       "\n",
       "                                                제안취지  \\\n",
       "0  대프리카라고 불리는 대구시에 물놀이장을 각 구마다 설치하여 주민들의 편의를 도모하는...   \n",
       "1  ○ 신천동로에 있는 신성교, 신천철도교, 신천교, 동신교 중앙분리대 교각 주변 나대...   \n",
       "2  효신초등학교 등굣길에 위치한 구 동부정류장 담벼락 보기 흉한 상태로 방치되어<br>...   \n",
       "3  침산교 – 금호대교 사이 오수 배출시설에 대한 환경 개선 및 보행자 통행을 위한 교...   \n",
       "4  일본군‘위안부’문제를 올바르게 해결하고 전쟁 없는 평화로운 미래와 여성인권<br>이...   \n",
       "\n",
       "                                                사업내용  \\\n",
       "0  현재 수도권지역이나 다른 광역시에서는 여름이 되면 각 구마다  물놀이를 할 수 있는...   \n",
       "1  ○ 신천동로 신성교, 신천철도교, 신천교, 동신교 교각 주변 녹지<br>  공간 조...   \n",
       "2  󰋻구 동부정류장 담장 도색 <br>󰋻보호 팬스 설치 후 장미넝쿨 식재<br>󰋻도색,...   \n",
       "3  ○ 신천과 금호강변은 많은 대구시민이 산책(걷기, 마라톤, 자전거 등)을 즐기는 곳...   \n",
       "4  § 사 업 명: 제8회평화와인권을위한대구시민걷기대회<br>“양성평등한 세상 함께 만...   \n",
       "\n",
       "                                                text  \n",
       "0  무더운 대구의 여름을 위한 물놀이사업 대프리카라고 불리는 대구시에 물놀이장을 각 구...  \n",
       "1  신천동로 중앙분리대 교각 주변 녹지공간 조성   신천동로에 있는 신성교  신천철도교...  \n",
       "2  참 좋은 일자리가 만들어가는 학교 가는 길 효신초등학교 등굣길에 위치한 구 동부정류...  \n",
       "3  침산교 금호대교 사이 오수배출시설 개선 및 보행자 교각 설치 침산교   금호대교 사...  \n",
       "4  제 회평화와인권을위한대구시민걷기대회  양성평등한 세상 함께 만들어요   일본군 위안...  "
      ]
     },
     "execution_count": 28,
     "metadata": {},
     "output_type": "execute_result"
    }
   ],
   "source": [
    "#중복행 제거\n",
    "df1 = df1.drop_duplicates(subset=['사업명'] ,keep='first').reset_index(drop=True)   # 사업명을 기준으로 중복 데이터 18개 삭제\n",
    "\n",
    "#모든 내용을 담은 열 생성\n",
    "df1['text'] = df1['사업명'] + ' ' + df1['제안취지'] + ' ' + df1['사업내용'] + ' '\n",
    "\n",
    "#텍스트 정제\n",
    "df1['text'] = df1['text'].apply(lambda x : re.sub(r'[^가-힣]',' ', x))  #한글 빼고 전부 제거\n",
    "\n",
    "df1.head()\n"
   ]
  },
  {
   "cell_type": "code",
   "execution_count": 42,
   "metadata": {},
   "outputs": [
    {
     "name": "stderr",
     "output_type": "stream",
     "text": [
      "c:\\Anaconda3\\envs\\sklearn\\lib\\site-packages\\konlpy\\tag\\_okt.py:17: UserWarning: \"Twitter\" has changed to \"Okt\" since KoNLPy v0.4.5.\n",
      "  warn('\"Twitter\" has changed to \"Okt\" since KoNLPy v0.4.5.')\n"
     ]
    }
   ],
   "source": [
    "from ckonlpy.tag import Twitter\n",
    "from pykospacing import Spacing\n",
    "\n",
    "twt = Twitter()\n",
    "spacing = Spacing()\n",
    "\n",
    "#불용어 읽어오기\n",
    "stopwords = pd.read_csv(\"stopwords.txt\")\n",
    "stopwords = stopwords['word'].tolist()\n",
    "\n",
    "#외래어 읽어오기\n",
    "loanwords = pd.read_csv('loanwords.txt', encoding = 'cp949')\n",
    "loanwords = loanwords['word'].tolist()\n",
    "for word in loanwords :\n",
    "    twt.add_dictionary(word, 'Noun')\n",
    "\n",
    "#중립어 읽어오기\n",
    "neutralwords = ['대구', '시민', '주민', '지역', '마을', '공간', '사업', '천원', '억원', '만원', '여명']"
   ]
  },
  {
   "cell_type": "code",
   "execution_count": 46,
   "metadata": {},
   "outputs": [
    {
     "data": {
      "text/html": [
       "<div>\n",
       "<style scoped>\n",
       "    .dataframe tbody tr th:only-of-type {\n",
       "        vertical-align: middle;\n",
       "    }\n",
       "\n",
       "    .dataframe tbody tr th {\n",
       "        vertical-align: top;\n",
       "    }\n",
       "\n",
       "    .dataframe thead th {\n",
       "        text-align: right;\n",
       "    }\n",
       "</style>\n",
       "<table border=\"1\" class=\"dataframe\">\n",
       "  <thead>\n",
       "    <tr style=\"text-align: right;\">\n",
       "      <th></th>\n",
       "      <th>부서</th>\n",
       "      <th>사업명</th>\n",
       "      <th>제안취지</th>\n",
       "      <th>사업내용</th>\n",
       "      <th>text</th>\n",
       "      <th>tokens</th>\n",
       "    </tr>\n",
       "  </thead>\n",
       "  <tbody>\n",
       "    <tr>\n",
       "      <th>0</th>\n",
       "      <td>자연재난과</td>\n",
       "      <td>무더운 대구의 여름을 위한 물놀이사업</td>\n",
       "      <td>대프리카라고 불리는 대구시에 물놀이장을 각 구마다 설치하여 주민들의 편의를 도모하는...</td>\n",
       "      <td>현재 수도권지역이나 다른 광역시에서는 여름이 되면 각 구마다  물놀이를 할 수 있는...</td>\n",
       "      <td>무더운 대구의 여름을 위한 물놀이사업 대프리카라고 불리는 대구시에 물놀이장을 각 구...</td>\n",
       "      <td>여름 물놀이 대프리카 불리 대구시 물놀이 구마 치하 편의 모하 목적 현재 수도권 이...</td>\n",
       "    </tr>\n",
       "    <tr>\n",
       "      <th>1</th>\n",
       "      <td>공원녹지과</td>\n",
       "      <td>신천동로 중앙분리대 교각 주변 녹지공간 조성</td>\n",
       "      <td>○ 신천동로에 있는 신성교, 신천철도교, 신천교, 동신교 중앙분리대 교각 주변 나대...</td>\n",
       "      <td>○ 신천동로 신성교, 신천철도교, 신천교, 동신교 교각 주변 녹지&lt;br&gt;  공간 조...</td>\n",
       "      <td>신천동로 중앙분리대 교각 주변 녹지공간 조성   신천동로에 있는 신성교  신천철도교...</td>\n",
       "      <td>신천동로 중앙분리대 교각 주변 녹지 조성 신천동로 신성교 신천 도교 신천교 동신교 ...</td>\n",
       "    </tr>\n",
       "    <tr>\n",
       "      <th>2</th>\n",
       "      <td>도시디자인과</td>\n",
       "      <td>참 좋은 일자리가 만들어가는 학교 가는 길</td>\n",
       "      <td>효신초등학교 등굣길에 위치한 구 동부정류장 담벼락 보기 흉한 상태로 방치되어&lt;br&gt;...</td>\n",
       "      <td>󰋻구 동부정류장 담장 도색 &lt;br&gt;󰋻보호 팬스 설치 후 장미넝쿨 식재&lt;br&gt;󰋻도색,...</td>\n",
       "      <td>참 좋은 일자리가 만들어가는 학교 가는 길 효신초등학교 등굣길에 위치한 구 동부정류...</td>\n",
       "      <td>일자리 어가 학교 효신 초등학교 등굣길 위치 정류장 담벼락 보기 상태 방치 도시 미...</td>\n",
       "    </tr>\n",
       "    <tr>\n",
       "      <th>3</th>\n",
       "      <td>NaN</td>\n",
       "      <td>침산교-금호대교 사이 오수배출시설 개선 및 보행자 교각 설치</td>\n",
       "      <td>침산교 – 금호대교 사이 오수 배출시설에 대한 환경 개선 및 보행자 통행을 위한 교...</td>\n",
       "      <td>○ 신천과 금호강변은 많은 대구시민이 산책(걷기, 마라톤, 자전거 등)을 즐기는 곳...</td>\n",
       "      <td>침산교 금호대교 사이 오수배출시설 개선 및 보행자 교각 설치 침산교   금호대교 사...</td>\n",
       "      <td>침산교 금호대교 사이 오수 배출 시설 개선 보행자 교각 설치 침산교 금호대교 사이 ...</td>\n",
       "    </tr>\n",
       "    <tr>\n",
       "      <th>4</th>\n",
       "      <td>여성가족정책관</td>\n",
       "      <td>제8회평화와인권을위한대구시민걷기대회 “양성평등한 세상 함께 만들어요!”</td>\n",
       "      <td>일본군‘위안부’문제를 올바르게 해결하고 전쟁 없는 평화로운 미래와 여성인권&lt;br&gt;이...</td>\n",
       "      <td>§ 사 업 명: 제8회평화와인권을위한대구시민걷기대회&lt;br&gt;“양성평등한 세상 함께 만...</td>\n",
       "      <td>제 회평화와인권을위한대구시민걷기대회  양성평등한 세상 함께 만들어요   일본군 위안...</td>\n",
       "      <td>평화 인권 대구시 걷기 대회 양성평등 세상 어요 일본군 위안부 문제 바르게 해결 전...</td>\n",
       "    </tr>\n",
       "  </tbody>\n",
       "</table>\n",
       "</div>"
      ],
      "text/plain": [
       "        부서                                      사업명  \\\n",
       "0    자연재난과                     무더운 대구의 여름을 위한 물놀이사업   \n",
       "1    공원녹지과                 신천동로 중앙분리대 교각 주변 녹지공간 조성   \n",
       "2   도시디자인과                  참 좋은 일자리가 만들어가는 학교 가는 길   \n",
       "3      NaN        침산교-금호대교 사이 오수배출시설 개선 및 보행자 교각 설치   \n",
       "4  여성가족정책관  제8회평화와인권을위한대구시민걷기대회 “양성평등한 세상 함께 만들어요!”   \n",
       "\n",
       "                                                제안취지  \\\n",
       "0  대프리카라고 불리는 대구시에 물놀이장을 각 구마다 설치하여 주민들의 편의를 도모하는...   \n",
       "1  ○ 신천동로에 있는 신성교, 신천철도교, 신천교, 동신교 중앙분리대 교각 주변 나대...   \n",
       "2  효신초등학교 등굣길에 위치한 구 동부정류장 담벼락 보기 흉한 상태로 방치되어<br>...   \n",
       "3  침산교 – 금호대교 사이 오수 배출시설에 대한 환경 개선 및 보행자 통행을 위한 교...   \n",
       "4  일본군‘위안부’문제를 올바르게 해결하고 전쟁 없는 평화로운 미래와 여성인권<br>이...   \n",
       "\n",
       "                                                사업내용  \\\n",
       "0  현재 수도권지역이나 다른 광역시에서는 여름이 되면 각 구마다  물놀이를 할 수 있는...   \n",
       "1  ○ 신천동로 신성교, 신천철도교, 신천교, 동신교 교각 주변 녹지<br>  공간 조...   \n",
       "2  󰋻구 동부정류장 담장 도색 <br>󰋻보호 팬스 설치 후 장미넝쿨 식재<br>󰋻도색,...   \n",
       "3  ○ 신천과 금호강변은 많은 대구시민이 산책(걷기, 마라톤, 자전거 등)을 즐기는 곳...   \n",
       "4  § 사 업 명: 제8회평화와인권을위한대구시민걷기대회<br>“양성평등한 세상 함께 만...   \n",
       "\n",
       "                                                text  \\\n",
       "0  무더운 대구의 여름을 위한 물놀이사업 대프리카라고 불리는 대구시에 물놀이장을 각 구...   \n",
       "1  신천동로 중앙분리대 교각 주변 녹지공간 조성   신천동로에 있는 신성교  신천철도교...   \n",
       "2  참 좋은 일자리가 만들어가는 학교 가는 길 효신초등학교 등굣길에 위치한 구 동부정류...   \n",
       "3  침산교 금호대교 사이 오수배출시설 개선 및 보행자 교각 설치 침산교   금호대교 사...   \n",
       "4  제 회평화와인권을위한대구시민걷기대회  양성평등한 세상 함께 만들어요   일본군 위안...   \n",
       "\n",
       "                                              tokens  \n",
       "0  여름 물놀이 대프리카 불리 대구시 물놀이 구마 치하 편의 모하 목적 현재 수도권 이...  \n",
       "1  신천동로 중앙분리대 교각 주변 녹지 조성 신천동로 신성교 신천 도교 신천교 동신교 ...  \n",
       "2  일자리 어가 학교 효신 초등학교 등굣길 위치 정류장 담벼락 보기 상태 방치 도시 미...  \n",
       "3  침산교 금호대교 사이 오수 배출 시설 개선 보행자 교각 설치 침산교 금호대교 사이 ...  \n",
       "4  평화 인권 대구시 걷기 대회 양성평등 세상 어요 일본군 위안부 문제 바르게 해결 전...  "
      ]
     },
     "execution_count": 46,
     "metadata": {},
     "output_type": "execute_result"
    }
   ],
   "source": [
    "# remove stopwords + tokeninzing\n",
    "content = df1['text'].tolist()\n",
    "\n",
    "tks=[]\n",
    "for sentence in content :\n",
    "    kospacing_sent = spacing(sentence) # 띄워쓰기 보완\n",
    "    noun_sent = twt.nouns(kospacing_sent) # 명사만 추출\n",
    "    over_two_sent = [word for word in noun_sent if len(word) > 1]   # 2글자 이상인 단어만 사용\n",
    "    stopwords_removed_sent = [word for word in over_two_sent if not word in stopwords] # 불용어 제거\n",
    "    neutral_removed_sent = [word for word in stopwords_removed_sent if not word in neutralwords] # 중립어 제거\n",
    "    tks.append(neutral_removed_sent)\n",
    "\n",
    "clean_sents = []\n",
    "for tk in tks :\n",
    "    clean_sents.append(\" \".join(tk))\n",
    "\n",
    "#토큰화된 단어로만 이루어진 DF\n",
    "df2 = pd.DataFrame(columns=['tokens'], data = clean_sents)\n",
    "df3 = pd.concat([df1, df2], axis=1)\n",
    "\n",
    "df3.head()"
   ]
  },
  {
   "cell_type": "code",
   "execution_count": null,
   "metadata": {},
   "outputs": [],
   "source": [
    "clean_sents"
   ]
  },
  {
   "cell_type": "markdown",
   "metadata": {},
   "source": [
    "### sklearn 라이브러리로 진행"
   ]
  },
  {
   "cell_type": "code",
   "execution_count": 47,
   "metadata": {},
   "outputs": [
    {
     "name": "stdout",
     "output_type": "stream",
     "text": [
      "(6, 1000)\n",
      "[[ 3.003465    0.16666706 12.53190421 ...  0.16807654  7.38742697\n",
      "   0.16734714]\n",
      " [ 0.16711492  1.16511213  0.76355306 ...  0.16666693 12.96857905\n",
      "   6.63838635]\n",
      " [ 0.16666712  2.16473994  6.87539128 ...  1.16681182  1.25939385\n",
      "   0.16698138]\n",
      " [ 0.16743863  0.1688356  12.53136399 ...  3.16511032  4.05023218\n",
      "   2.16631618]\n",
      " [ 4.32864706  3.16737389 18.98349787 ...  0.16666707  0.16705092\n",
      "   1.40771703]\n",
      " [ 0.16666727  0.16727136  1.3142896  ...  0.16666732  0.16731703\n",
      "   3.45325191]]\n"
     ]
    }
   ],
   "source": [
    "## 텍스트 데이터를 단어 빈도수에 기반해 벡터화시키기\n",
    "from sklearn.decomposition import LatentDirichletAllocation\n",
    "from sklearn.feature_extraction.text import CountVectorizer\n",
    "\n",
    "# max_df = 토큰이 나타날 최대 문서 개수 -> 소수점이면 비중\n",
    "# max_features = corpus 중 빈도수가 가장 높은 순으로 해당 개수만큼만 뽑아냄\n",
    "# min_df = 토큰이 나타날 최소 문서 개수 -> 정수면 횟수\n",
    "# ngram_range = (min_n, max_n) 튜플, 단어장 생성에 사용할 토큰의 크기를 결정\n",
    "\n",
    "count_vect = CountVectorizer(max_df=0.80, max_features=1000, min_df=2, ngram_range=(1,1))\n",
    "\n",
    "# feature 리스케일링 해서 feature 평균이 0 분산이 1 되게 만들어줌\n",
    "#fit_transfrom은 train dataset에서만 사용\n",
    "ftr_vect = count_vect.fit_transform(df3['tokens'])\n",
    "\n",
    "# LDA 클래스 사용해 피쳐 벡터화시킨 거 토픽모델링\n",
    "# n_components = 토픽개수\n",
    "lda = LatentDirichletAllocation(n_components=6, random_state=42)\n",
    "lda.fit(ftr_vect)\n",
    "\n",
    "# 각 토픽\n",
    "print(lda.components_.shape)\n",
    "# 단어들을 벡터화한 feature\n",
    "print(lda.components_)"
   ]
  },
  {
   "cell_type": "code",
   "execution_count": 49,
   "metadata": {},
   "outputs": [
    {
     "name": "stdout",
     "output_type": "stream",
     "text": [
      "\n",
      "Topic # 1\n",
      "설치*206.6+도로*118.2+신천*106.7+안전*98.8+차량*90.6+신천대로*77.4+이용*74.8+사고*72.9+인도*71.3+시장*60.2\n",
      "\n",
      "Topic # 2\n",
      "신천*301.3+설치*146.9+조성*107.0+둔치*98.5+이용*81.8+산책로*67.6+경관*52.7+치하*50.4+벽화*50.2+시설*49.8\n",
      "\n",
      "Topic # 3\n",
      "도서관*85.1+설치*84.9+신천*68.3+이용*40.0+거리*31.3+청년*28.2+발생*22.6+아파트*21.6+방범*20.2+안전*19.1\n",
      "\n",
      "Topic # 4\n",
      "자전거*155.6+신천*112.5+설치*44.1+금호강*41.3+활용*40.3+문화*34.9+관광*32.6+대구시*27.2+제안*26.2+운영*25.4\n",
      "\n",
      "Topic # 5\n",
      "신천*147.5+설치*126.5+공원*57.6+조성*51.3+센터*47.3+이용*37.8+운동*32.7+환경*31.2+건강*27.7+복지*25.5\n",
      "\n",
      "Topic # 6\n",
      "신천*80.6+벚꽃*36.2+설치*34.1+꽃보라동산*26.1+공원*24.9+화장실*23.2+조명*19.5+나무*18.6+금호강*18.1+조성*16.3\n"
     ]
    }
   ],
   "source": [
    "# lda_model = 벡터화시킨 텍스트 데이터를 fit까지만 적용한 모델\n",
    "def display_topic_words(lda_model, feature_names, num_top_words):\n",
    "    for topic_idx, topic in enumerate(lda_model.components_):\n",
    "        print('\\nTopic #', topic_idx+1)\n",
    "\n",
    "        # topic 별로 1000개의 features 중에서 높은 값 순으로 정렬 후 index 반환\n",
    "        #argsort = 디폴트가 오름차순 -> [::-1]로 내림차순으로 변경\n",
    "        topic_word_idx = topic.argsort()[::-1]\n",
    "        top_idx = topic_word_idx[:num_top_words]\n",
    "\n",
    "        # CountVectorizer 함수 할당시킨 객체에 get_feature_names()로 벡터화시킨 features\n",
    "        # 벡터화시킨 feature는 숫자-알파벳 순으로 정렬, 단어들 순서는 fit_transform 시키고 난 이후에도 동일\n",
    "        feature_concat = '+'.join([str(feature_names[i])+'*'+str(round(topic[i], 1)) for i in top_idx])\n",
    "        print(feature_concat)\n",
    "\n",
    "feature_names = count_vect.get_feature_names()\n",
    "display_topic_words(lda, feature_names, 10)     #중요 10개만 모아보기"
   ]
  },
  {
   "cell_type": "markdown",
   "metadata": {},
   "source": [
    "### gensim 라이브러리로 진행"
   ]
  },
  {
   "cell_type": "code",
   "execution_count": 50,
   "metadata": {},
   "outputs": [
    {
     "name": "stdout",
     "output_type": "stream",
     "text": [
      "Number of unique words in initital documents: 3735\n",
      "Number of unique words after removing rare and common words: 1849\n"
     ]
    }
   ],
   "source": [
    "from gensim.corpora import Dictionary\n",
    "from gensim.models import LdaModel\n",
    "\n",
    "# Create a dictionary representation of the documents.\n",
    "dictionary = Dictionary(tks)\n",
    "print('Number of unique words in initital documents:', len(dictionary))\n",
    "\n",
    "# 한 문서에서만 나온 단어나 90% 이상의 문서에서 나온 단어는 제외함\n",
    "dictionary.filter_extremes(no_below=2, no_above=0.9)\n",
    "print('Number of unique words after removing rare and common words:', len(dictionary))"
   ]
  },
  {
   "cell_type": "code",
   "execution_count": 51,
   "metadata": {},
   "outputs": [
    {
     "name": "stdout",
     "output_type": "stream",
     "text": [
      "Number of unique tokens: 1849\n",
      "Number of documents: 482\n"
     ]
    }
   ],
   "source": [
    "corpus = [dictionary.doc2bow(tk) for tk in tks]\n",
    "print('Number of unique tokens: %d' % len(dictionary))\n",
    "print('Number of documents: %d' % len(corpus))"
   ]
  },
  {
   "cell_type": "code",
   "execution_count": 52,
   "metadata": {},
   "outputs": [],
   "source": [
    "# 단어사전에 인덱스 추가\n",
    "temp = dictionary[0]  # This is only to \"load\" the dictionary.\n",
    "id2word = dictionary.id2token"
   ]
  },
  {
   "cell_type": "code",
   "execution_count": 53,
   "metadata": {},
   "outputs": [
    {
     "data": {
      "image/png": "[encoded data removed]",
      "text/plain": [
       "<Figure size 432x288 with 1 Axes>"
      ]
     },
     "metadata": {
      "needs_background": "light"
     },
     "output_type": "display_data"
    }
   ],
   "source": [
    "#perplexity : 확률 모델이 결과를 얼마나 정확하게 에측하는지 판단, 낮을수록 좋음\n",
    "#동일 모델 내 파라미터에 따른 성능평가에 주로 사용, perplexity가 낮다고 해서 결과가 해석 용이한것은 아님\n",
    "\n",
    "import matplotlib.pyplot as plt\n",
    "perplexity_values=[]\n",
    "\n",
    "for i in range(2, 10) :\n",
    "    model = LdaModel(corpus=corpus, id2word=id2word, num_topics=i)\n",
    "    perplexity_values.append(model.log_perplexity(corpus))\n",
    "\n",
    "x=range(2, 10)\n",
    "plt.plot(x, perplexity_values)\n",
    "plt.xlabel(\"num of topics\")\n",
    "plt.ylabel(\"perplexity score\")\n",
    "plt.show()\n",
    "\n",
    "#전부 음수여서 좋은 결과는 아닌 것 같음,,,"
   ]
  },
  {
   "cell_type": "code",
   "execution_count": 69,
   "metadata": {},
   "outputs": [
    {
     "data": {
      "image/png": "[encoded data removed]",
      "text/plain": [
       "<Figure size 1080x360 with 2 Axes>"
      ]
     },
     "metadata": {
      "needs_background": "light"
     },
     "output_type": "display_data"
    }
   ],
   "source": [
    "#coherence : 토픽이 얼마나 의미론적으로 일관성 있는지 판단, 높을수록 좋음\n",
    "#해당 모델이 얼마나 실제로 의미있는 결과를 내는지 확인\n",
    "\n",
    "from gensim.models import CoherenceModel\n",
    "\n",
    "cv_values=[]\n",
    "umass_values=[]\n",
    "for i in range(2, 10) :\n",
    "    model = LdaModel(corpus=corpus, id2word=id2word, num_topics=i)\n",
    "\n",
    "    #c_v : 통상적으로 0.5~0.6 이상이면 성능이 좋다고 판단\n",
    "    coherence_model_lda = CoherenceModel(model=model, texts=tks, dictionary=dictionary, topn=10, coherence='c_v')\n",
    "    cv_values.append(coherence_model_lda.get_coherence())\n",
    "\n",
    "    #u_mass : 용어 동시발생 혹률, 0에 가까울 수록 좋으며 -10을 넘지않으면 양호\n",
    "    coherence_model_lda = CoherenceModel(model=model, texts=tks, dictionary=dictionary, topn=10, coherence='u_mass')\n",
    "    umass_values.append(coherence_model_lda.get_coherence())\n",
    "\n",
    "#그래프 그리기\n",
    "x=range(2, 10)\n",
    "fig = plt.figure(figsize=(15,5))\n",
    "\n",
    "ax1 = fig.add_subplot(1,2,1)\n",
    "ax1.plot(x, cv_values, 'r')\n",
    "ax1.set_xlabel(\"num of topics\")\n",
    "ax1.set_ylabel(\"coherence c_v score\")\n",
    "\n",
    "ax2 = fig.add_subplot(1,2,2)\n",
    "ax2.plot(x, umass_values, 'b')\n",
    "ax2.set_xlabel(\"num of topics\")\n",
    "ax2.set_ylabel(\"coherence u_mass score\")\n",
    "\n",
    "plt.show()\n"
   ]
  },
  {
   "cell_type": "code",
   "execution_count": 70,
   "metadata": {},
   "outputs": [
    {
     "data": {
      "image/png": "[encoded data removed]",
      "text/plain": [
       "<Figure size 432x288 with 1 Axes>"
      ]
     },
     "metadata": {
      "needs_background": "light"
     },
     "output_type": "display_data"
    }
   ],
   "source": [
    "#coherence : 토픽이 얼마나 의미론적으로 일관성 있는지 판단, 높을수록 좋음\n",
    "#해당 모델이 얼마나 실제로 의미있는 결과를 내는지 확인\n",
    "\n",
    "from gensim.models import CoherenceModel\n",
    "\n",
    "coherence_values=[]\n",
    "for i in range(2, 10) :\n",
    "    model = LdaModel(corpus=corpus, id2word=id2word, num_topics=i)\n",
    "    coherence_model_lda = CoherenceModel(model=model, texts=tks, dictionary=dictionary, topn=10)\n",
    "    coherence_lda = coherence_model_lda.get_coherence()\n",
    "    coherence_values.append(coherence_lda)\n",
    "\n",
    "x=range(2, 10)\n",
    "plt.plot(x, coherence_values)\n",
    "plt.xlabel(\"num of topics\")\n",
    "plt.ylabel(\"coherence score\")\n",
    "plt.show()\n",
    "\n",
    "#6이 최적 개수"
   ]
  },
  {
   "cell_type": "code",
   "execution_count": 81,
   "metadata": {},
   "outputs": [],
   "source": [
    "# Set training parameters.\n",
    "num_topics = 5\n",
    "chunksize = 500 # size of the doc looked at every pass\n",
    "passes = 2 # number of passes through documents\n",
    "iterations = 40\n",
    "eval_every = 1  # Don't evaluate model perplexity, takes too much time.\n",
    "\n",
    "\n",
    "model = LdaModel(corpus=corpus, id2word=id2word, chunksize=chunksize, alpha='auto', eta='auto', \\\n",
    "                iterations=iterations, num_topics=num_topics, passes=passes, eval_every=eval_every)"
   ]
  },
  {
   "cell_type": "code",
   "execution_count": 84,
   "metadata": {},
   "outputs": [
    {
     "name": "stderr",
     "output_type": "stream",
     "text": [
      "c:\\Anaconda3\\envs\\sklearn\\lib\\site-packages\\pyLDAvis\\_prepare.py:247: FutureWarning: In a future version of pandas all arguments of DataFrame.drop except for the argument 'labels' will be keyword-only\n",
      "  by='saliency', ascending=False).head(R).drop('saliency', 1)\n"
     ]
    },
    {
     "data": {
      "text/html": [
       "\n",
       "<link rel=\"stylesheet\" type=\"text/css\" href=\"https://cdn.jsdelivr.net/gh/bmabey/pyLDAvis@3.3.1/pyLDAvis/js/ldavis.v1.0.0.css\">\n",
       "\n",
       "\n",
       "<div id=\"ldavis_el1486821650120534482443256758\"></div>\n",
       "<script type=\"text/javascript\">\n",
       "\n",
       "var ldavis_el1486821650120534482443256758_data = {\"mdsDat\": {\"x\": [-0.04309812372661436, 0.04530301406989127, -0.009540513418828396, 0.007335623075551537], \"y\": [0.00587753366643226, -0.00918904734492998, -0.03823802908796126, 0.04154954276645898], \"topics\": [1, 2, 3, 4], \"cluster\": [1, 1, 1, 1], \"Freq\": [35.854698956152426, 27.817100459955835, 21.307748600796216, 15.020451983095521]}, \"tinfo\": {\"Term\": [\"\\uc2dc\\uc7a5\", \"\\uc778\\ub3c4\", \"\\ubc9a\\uaf43\", \"\\uc2e0\\ucc9c\", \"\\ub3c4\\uc11c\\uad00\", \"\\ucca0\\uae38\", \"\\uc774\\uc6a9\", \"\\ud658\\uacbd\", \"\\ubcf5\\uac1c\", \"\\uad6c\\uac04\", \"\\uc2e0\\ucc9c\\ub3d9\", \"\\ub2e4\\ub9ac\", \"\\uc9c0\\ud558\\ucc28\\ub3c4\", \"\\ubcbd\\ud654\", \"\\uc0b0\\ucc45\\ub85c\", \"\\uc548\\uc804\", \"\\uc0b0\\ucc45\", \"\\ubc14\\ub2e5\", \"\\ub0a8\\uad6c\", \"\\uccad\\ub144\", \"\\uc0b0\\ucc45\\uae38\", \"\\uc2e0\\ucc9c\\ub300\\ub85c\", \"\\uc870\\uc131\", \"\\uad50\\ub7c9\", \"\\ubc18\\ub824\\uacac\", \"\\uc815\\ube44\", \"\\ub3c4\\ub85c\", \"\\uc2dc\\uc124\", \"\\uc544\\ud30c\\ud2b8\", \"\\ud1b5\\ud574\", \"\\ubc9a\\uaf43\", \"\\uc2b9\\uac15\\uc7a5\", \"\\ucc28\\ub2e8\\uae30\", \"\\uc721\\uad50\", \"\\ucc28\\ub85c\", \"\\ud45c\\uc9c0\", \"\\uc88c\\ud68c\\uc804\", \"\\uc5ed\\uc8fc\\ud589\", \"\\uaf43\\ubcf4\\ub77c\\ub3d9\\uc0b0\", \"\\uc5f4\\uc758\", \"\\uc804\\uc6a9\", \"\\uc6b4\\ud589\", \"\\uc758\\uc790\", \"\\uce68\\uc218\", \"\\ud700\\uc2a4\", \"\\ubca4\\uce58\", \"\\ubb34\\ub9ac\", \"\\uc2dc\\uccad\", \"\\uc9c0\\ubcd1\", \"\\uc6d4\\ub9d0\", \"\\uc815\\uc790\", \"\\ubcf4\\ub77c\", \"\\ub3d9\\uc0b0\", \"\\ubcc4\\uad00\", \"\\ud30c\\ub77c\\uc194\", \"\\uc801\\uc6a9\", \"\\ubc14\\ub2e5\", \"\\ubcf4\\uac15\", \"\\ubc30\\uc218\", \"\\ud734\\uc9c0\", \"\\uc18d\\ub3c4\", \"\\uc57c\\uac04\", \"\\ud45c\\uc2dc\", \"\\uc2dc\\uc124\", \"\\ud6a1\\ub2e8\\ubcf4\\ub3c4\", \"\\ucc28\\uc120\", \"\\uc870\\ud615\", \"\\ubc29\\uc9c0\", \"\\uc124\\uce58\", \"\\ucc28\\ub7c9\", \"\\uad50\\uccb4\", \"\\ub3c4\\ub85c\", \"\\uae30\\uad6c\", \"\\uc870\\uba85\", \"\\uc2e0\\ucc9c\\ub3d9\\ub85c\", \"\\uc548\\uc804\", \"\\uc2e0\\ucc9c\", \"\\uc704\\ud5d8\", \"\\uc870\\uc131\", \"\\uacbd\\uad00\", \"\\uac1c\\uc120\", \"\\uc2e0\\ucc9c\\ub300\\ub85c\", \"\\uc6b4\\ub3d9\", \"\\ub454\\uce58\", \"\\uc790\\uc804\\uac70\", \"\\uc774\\uc6a9\", \"\\uc0ac\\uace0\", \"\\uce58\\ud558\", \"\\ubc1c\\uc0dd\", \"\\ud658\\uacbd\", \"\\ud544\\uc694\", \"\\uacf5\\uc6d0\", \"\\uc0b0\\ucc45\\ub85c\", \"\\uc74c\\uc218\\ub300\", \"\\uc560\\uc644\\uacac\", \"\\ubc30\\ubcc0\", \"\\ubd09\\ud22c\", \"\\ud30c\\uace0\\ub77c\", \"\\uae30\\ub85d\", \"\\ubc1c\\ud589\", \"\\uc790\\ud310\\uae30\", \"\\ud578\\ub4dc\", \"\\ubc18\\ub824\\uacac\", \"\\uac1c\\uc778\", \"\\uacf5\\ub8e1\", \"\\ubd80\\uc5ec\", \"\\uc218\\uc2dc\", \"\\ube48\\ud130\", \"\\ub3d9\\uc2dd\\ubb3c\", \"\\uace0\\ubbfc\", \"\\ud0c4\\uc18c\", \"\\uccad\\ub144\", \"\\uc9c0\\ubd95\", \"\\uc0c1\\ud488\", \"\\uc544\\uce68\", \"\\uc790\\ub8cc\", \"\\ub18d\\uc7a5\", \"\\uc218\\uc601\\uc7a5\", \"\\uc608\\uc220\\uac00\", \"\\uce74\\ud398\", \"\\uac80\\uc0c9\", \"\\uc811\\uc218\", \"\\uc548\\uc2ec\\ub3c4\\uc11c\\uad00\", \"\\ubc29\\ubc94\", \"\\uccb4\\ud5d8\", \"\\ubc18\\ub824\\ub3d9\\ubb3c\", \"\\ubc18\\ub824\", \"\\uc774\\uc57c\\uae30\", \"\\uc0b0\\ucc45\\ub85c\", \"\\uadf8\\ub298\", \"\\ud65c\\uc6a9\", \"\\ubc29\\uc74c\\ubcbd\", \"\\uacf5\\uc6d0\", \"\\uc2e0\\ucc9c\", \"\\ucca0\\ub3c4\", \"\\uc790\\uc5f0\", \"\\ub454\\uce58\", \"\\uc6b4\\ub3d9\", \"\\uc124\\uce58\", \"\\uc774\\ub098\", \"\\uc774\\uc6a9\", \"\\uac00\\ub2a5\", \"\\ud658\\uacbd\", \"\\uce58\\ud558\", \"\\ub300\\uad6c\\uc2dc\", \"\\uc0ac\\ub78c\", \"\\uac15\\ubcc0\", \"\\uc0dd\\ud65c\", \"\\uc8fc\\ubcc0\", \"\\ubb38\\ud654\", \"\\uc790\\uc804\\uac70\", \"\\uc81c\\uc548\", \"\\uc0ac\\uc774\", \"\\ub3c4\\uc11c\\uad00\", \"\\uc870\\uc131\", \"\\uc0b0\\ucc45\", \"\\uc81c\\uacf5\", \"\\uac70\\ub9ac\", \"\\uac1c\\uc120\", \"\\ubd88\\ud3b8\", \"\\ub3c4\\ub85d\", \"\\uc2dc\\uc124\", \"\\uc5fc\\uc0c9\", \"\\ubfcc\\ub9ac\", \"\\ud478\\ub978\", \"\\uc0b0\\ucc45\\uae38\", \"\\ud568\\uc9c0\", \"\\ub300\\ucd9c\", \"\\ube44\\uc0b0\", \"\\uc74d\\ub2c8\", \"\\uc0c1\\uc778\", \"\\uc544\\uc774\\uc720\", \"\\ub458\\ub808\\uae38\", \"\\uc11c\\ube44\\uc2a4\", \"\\uc11c\\uc11c\\ud788\", \"\\uad50\\uc0ac\", \"\\uc720\\ucc44\\uaf43\", \"\\ubd88\\uac00\\ub2a5\", \"\\ub3c4\\uc785\", \"\\ub0a8\\uc790\", \"\\uc6b0\\ubc29\", \"\\uc120\\uc801\", \"\\uc758\\uacac\", \"\\uc0b4\\uade0\", \"\\ubcf4\\ub4dc\", \"\\uacf5\\uc5f0\\uc7a5\", \"\\uc804\\uc2dc\\uc7a5\", \"\\ud574\\ubc14\\ub77c\\uae30\", \"\\uc2dc\\uc7a5\", \"\\ub300\\uc218\", \"\\ub098\\uc740\", \"\\uc720\\ubaa8\\ucc28\", \"\\uc778\\ub3c4\", \"\\ub300\\uc5ec\", \"\\ub300\\ud68c\", \"\\uac8c\\uc2dc\\ud310\", \"\\uad50\\ub7c9\", \"\\ube14\\ub85d\", \"\\ube14\\ub7ed\", \"\\uce60\\uc131\", \"\\uacf5\\uc5f0\", \"\\uc885\\ud569\", \"\\uc815\\ube44\", \"\\ub3c4\\uc11c\\uad00\", \"\\uc774\\uc6a9\", \"\\ubd81\\uad6c\", \"\\uc99d\\uac00\", \"\\uacbd\\ub85c\\ub2f9\", \"\\ud1b5\\ud589\", \"\\uc911\\ub3d9\\uad50\", \"\\uc2e0\\ucc9c\", \"\\uc790\\uc804\\uac70\", \"\\ub3c4\\ub85c\", \"\\uad6c\\uac04\", \"\\uc2e0\\ucc9c\\ub300\\ub85c\", \"\\uc124\\uce58\", \"\\ub454\\uce58\", \"\\uc704\\uce58\", \"\\uc9c4\\uc785\", \"\\ud544\\uc694\", \"\\uc0ac\\uace0\", \"\\ubcbd\\uba74\", \"\\uc870\\uc131\", \"\\uc548\\uc804\", \"\\uc694\\uccad\", \"\\uce58\\ud558\", \"\\uc81c\\uacf5\", \"\\uacf5\\uc6d0\", \"\\ubd88\\ud3b8\", \"\\uac1c\\uc120\", \"\\ucc28\\ub7c9\", \"\\uc704\\ud5d8\", \"\\uc2dc\\uc124\", \"\\uc601\\ud654\", \"\\uac74\\uc601\", \"\\uc0c1\\uc601\", \"\\ucca0\\uae38\", \"\\uc720\\ubcf4\", \"\\ubc18\\ub3c4\", \"\\uce90\\uc2a4\", \"\\uac01\\uc2ec\", \"\\uc77c\\uccb4\\uc131\", \"\\uc8fc\\uc785\", \"\\ud615\\ud3c9\\uc131\", \"\\ucd08\\uad50\", \"\\ubcf5\\ud569\", \"\\uce74\\uba54\\ub77c\", \"\\uc704\\uc0dd\", \"\\ubb34\\ub354\\uc704\", \"\\uc2a4\\ud06c\\ub9b0\", \"\\ubcf5\\uac1c\", \"\\uc220\\ub798\", \"\\ubc29\\uba74\", \"\\uc2e0\\ucd95\", \"\\ud654\\ubb3c\", \"\\ub2e8\\uc21c\", \"\\uc9c0\\ud558\\ub3c4\", \"\\ubc30\\ucd9c\", \"\\ubaa8\\uae30\", \"\\ube57\\ubb3c\", \"\\ub300\\uc9c0\", \"\\uc2dd\\uc218\", \"\\uae08\\uc5f0\", \"\\uc2e0\\uc131\\uad50\", \"\\uc2e0\\ucc9c\\ub3d9\", \"\\ub0a8\\uad6c\", \"\\ud734\\uba3c\\uc2dc\\uc544\", \"\\uac00\\uc744\", \"\\uace0\\uc18d\\ub3c4\\ub85c\", \"\\ub2e8\\uc18d\", \"\\uc0c1\\uc9d5\", \"\\ub2e4\\ub9ac\", \"\\ubcbd\\ud654\", \"\\ud0c0\\uc77c\", \"\\ud658\\uacbd\", \"\\uc0b0\\ucc45\", \"\\ud1b5\\ud574\", \"\\uc18c\\uc74c\", \"\\uc9c0\\ud558\\ucc28\\ub3c4\", \"\\uc544\\ud30c\\ud2b8\", \"\\uc2e0\\ucc9c\", \"\\uc4f0\\ub808\\uae30\", \"\\uc124\\uce58\", \"\\uad6c\\uac04\", \"\\uc870\\uc131\", \"\\ub124\\uac70\\ub9ac\", \"\\ud655\\ubcf4\", \"\\ubd88\\ud3b8\", \"\\uc548\\uc804\", \"\\uac70\\ub9ac\", \"\\uc778\\uadfc\", \"\\uc704\\ud574\", \"\\uac1c\\uc120\", \"\\ub3c4\\uc11c\\uad00\", \"\\uc13c\\ud130\", \"\\uc81c\\uc548\", \"\\uc694\\uccad\", \"\\uc790\\uc804\\uac70\", \"\\ucc28\\ub7c9\", \"\\uacf5\\uc6d0\", \"\\uc2e0\\ucc9c\\ub300\\ub85c\", \"\\uc774\\uc6a9\", \"\\uce58\\ud558\"], \"Freq\": [58.0, 67.0, 34.0, 755.0, 78.0, 16.0, 232.0, 119.0, 23.0, 69.0, 34.0, 55.0, 50.0, 45.0, 96.0, 128.0, 58.0, 50.0, 29.0, 29.0, 18.0, 99.0, 179.0, 34.0, 22.0, 64.0, 129.0, 135.0, 60.0, 54.0, 32.89455182961366, 5.7970777326791305, 4.870178267116019, 17.069720470024738, 10.277966166838247, 14.246445845566925, 19.14447719851463, 4.5335742122063145, 20.173620989070383, 3.0106560816827104, 8.945715491103925, 16.406740666095505, 6.723477062602584, 5.183209120327443, 4.361253860916414, 28.150419236169718, 3.5800960489860985, 9.201470810861837, 7.680305070490119, 2.7883875032957866, 2.0878641130750797, 11.870534250658858, 7.5971403880912, 6.878841751589732, 4.10575648345436, 2.0459953112071183, 37.019231317435874, 4.776926168100734, 2.7330852709703164, 3.4033930197270683, 6.050921895822523, 40.090586839878824, 10.008928095785754, 90.51000044879386, 18.106062808612727, 25.913368279787477, 23.11856095029158, 28.922104266261258, 290.71509892307813, 48.63640408904953, 31.566355019268354, 68.89158251611428, 27.865187837223516, 36.06642482573854, 31.70988330666607, 62.64449592993978, 260.7524945948857, 34.01330630608064, 79.61233174698508, 32.59946924833195, 53.39860796650817, 47.47947755797452, 50.59358169536387, 68.18498747922814, 63.26134407376177, 72.84757625539301, 34.611139931353904, 43.00013166982231, 28.056182614827176, 36.318081161488024, 28.25066259295638, 36.12793597600075, 28.542978466444243, 10.994178963191395, 9.046882987749528, 11.451898025113621, 11.31139466833199, 6.6801270059832, 6.603820902052669, 3.9963181221629513, 3.903554046156036, 3.0903783861116096, 17.757560759818706, 3.8315937609286066, 5.301555709453806, 3.0320453466746216, 2.247656937900322, 2.228580577032381, 3.679054533761569, 4.391113956200384, 2.8369349286039593, 21.90093035723318, 4.8412793511761985, 4.844995092213228, 2.7011183523651696, 9.541904100512559, 6.74225966472094, 2.685617880389823, 3.242680508580408, 1.9342778377515681, 5.1487090387295815, 2.563680349847335, 2.5384498341654873, 13.50300689131684, 16.437937720070057, 17.668489969250658, 8.184293453720398, 8.59680675470759, 52.72021248154841, 20.361744404162458, 36.776013923769845, 6.8124803015495905, 60.68013025889362, 251.34833170629722, 10.309059984188583, 19.434256870527825, 61.7011836654813, 41.51929671433802, 150.20141711176058, 25.501097714193136, 69.3345019394893, 21.809854413841027, 40.72712397339207, 38.241207359979484, 18.986295426465727, 22.721683790969102, 17.020616902093245, 17.020421406297483, 27.085374508373004, 21.097259029110788, 39.84557795176166, 24.6338942152005, 21.890077698733275, 24.777055258070472, 34.58497629991444, 20.388725465812783, 21.49112625811835, 19.845852133825456, 21.406859644639415, 19.62447692163996, 18.924242683239093, 19.119656582114324, 8.042273375956924, 5.041747591170974, 4.123958410746626, 13.661413087720998, 4.606726033426723, 1.8308846743153404, 1.7618430509182894, 2.350209577496119, 4.121420018121139, 1.7498212892120024, 2.852438463258874, 5.206170677098046, 1.7006192214906761, 1.6970117191061833, 2.2349367037359915, 2.23810039846115, 4.9924494009585985, 1.668336862302474, 6.059382238495875, 1.6605680149172946, 2.214293639921267, 5.540764468009122, 5.455189649674537, 5.933683868765697, 3.227952610425562, 1.603161513153979, 34.54680777327596, 2.103989287132721, 1.5715860337058785, 4.159806787875816, 36.84631678400606, 12.089011024656893, 4.07144871751749, 5.464102228226248, 17.37592510014465, 5.4553854360115706, 11.88691095768537, 17.46996325086225, 9.223874780330334, 8.33896151547642, 25.878101087700152, 30.321412815447978, 74.35817355425287, 13.910630376173762, 10.445085733726144, 8.749132879745051, 18.76076891140953, 12.913288704433024, 155.72878030440583, 43.718022605746405, 33.90146160468125, 21.76050497404533, 27.7509294433699, 88.1415235868569, 39.45023257028698, 19.345731942942425, 17.924624657159374, 19.480432942821192, 21.916292213013346, 15.244702287666119, 35.716167219552396, 27.405503659533203, 18.225089398761433, 23.799370261676092, 18.377193628598697, 22.933755863485747, 17.518665987537965, 17.983119746133827, 15.426699600404186, 14.889200843136008, 15.439743928347497, 3.456556472770675, 3.9578351365056057, 2.6404446930172294, 13.128539422298124, 2.3976032360972215, 2.349478092110248, 2.3257223103535973, 2.2151933039809713, 1.6413074392134683, 4.1196281584368615, 1.9725403255732195, 2.961777197203403, 1.9908127556454978, 3.9708891903610737, 1.9342075051236578, 3.4421921633730537, 1.4482142347551827, 13.036470611251707, 2.387524004398769, 6.019196273029933, 1.4129648300425455, 1.845119222300853, 1.858448772184169, 3.641578178556757, 2.2793974303777262, 2.289989851440675, 2.689848887494659, 2.6889801388553867, 4.011053836502598, 3.0728570173171437, 4.390945205761487, 14.228687606762879, 11.999475745357099, 3.0974177110930214, 4.0109942794325, 5.993238662825472, 6.261139202775619, 5.899104612300392, 17.171347519408602, 14.466917313671084, 5.109858955542272, 27.067605633354074, 15.875660991791797, 14.8566915902746, 9.623888297333847, 13.92544583009081, 15.75971514507356, 87.9960888951751, 9.646999293565127, 65.00129100406106, 16.33179396987588, 29.420650552030693, 9.444579434098053, 8.58185640115144, 15.837309091682053, 22.010385855420118, 14.077628052728246, 13.744089915463627, 12.521722064058109, 17.661769678185927, 14.740799951189029, 11.595058275351072, 13.670358975940765, 13.130084339829045, 19.0160674953623, 13.158093994233166, 14.979095277863092, 13.53561877237128, 16.03941369096969, 12.568488985880606], \"Total\": [58.0, 67.0, 34.0, 755.0, 78.0, 16.0, 232.0, 119.0, 23.0, 69.0, 34.0, 55.0, 50.0, 45.0, 96.0, 128.0, 58.0, 50.0, 29.0, 29.0, 18.0, 99.0, 179.0, 34.0, 22.0, 64.0, 129.0, 135.0, 60.0, 54.0, 34.37184763437528, 6.483247397758382, 5.553908188990292, 19.484860593927568, 11.975552898127473, 16.629544297051048, 23.085166554023843, 5.555991036548147, 24.731605259119416, 3.6944753519349165, 11.03958527163635, 20.27033894467818, 8.395433789371591, 6.498775765449721, 5.499139738772683, 35.53764979497779, 4.584271270796321, 11.925982998587884, 10.10084474086744, 3.69040080710602, 2.764855502988402, 15.739520585187366, 10.074015323443232, 9.157277717321326, 5.511144246107296, 2.7658613031588386, 50.07058587324865, 6.482183509816184, 3.70993252448655, 4.636003587986019, 8.268854451514487, 57.12778747691485, 13.913311760245659, 135.62485740953602, 25.770588681493315, 38.03651154877933, 35.40445388755126, 45.342006868424754, 594.0593306257566, 85.18337951369384, 52.5865208614949, 129.50179669024106, 46.47206949215501, 63.268303867319936, 55.787391049621306, 128.4537144587557, 755.8256955007639, 62.02870237432723, 179.33412581848262, 59.01009231553537, 110.45035703546733, 99.47451074745692, 109.21648953278654, 179.9883426188353, 165.84101212663214, 232.57966544010486, 77.5256542232319, 117.60919827735849, 59.50773358285356, 119.05139327637741, 63.61958087087533, 134.7209173762432, 96.35036269055885, 11.886231200683602, 9.876933394172552, 12.793907191487122, 12.78249031392937, 7.844241756484638, 7.828874436141195, 4.881051571854922, 4.860540242331863, 3.8876879700203104, 22.382875420652667, 4.8527977431690426, 6.781397475908639, 3.8813784540455947, 2.907708245571755, 2.9040888433015755, 4.83110737796703, 5.788825109960194, 3.8438831821571107, 29.83506699231499, 6.693440023894988, 6.730702195266422, 3.807155942673703, 13.46976573663834, 9.536880740193505, 3.835333471406043, 4.775786040557317, 2.8491449124851354, 7.619136364890214, 3.8049637948513295, 3.782903922441338, 20.356354865310045, 24.83726008985447, 26.844248715290515, 12.4190450193731, 13.410563478930829, 96.35036269055885, 35.20211034679295, 71.55165227109768, 10.5053996407379, 134.7209173762432, 755.8256955007639, 17.193721152432442, 37.805111121606735, 179.9883426188353, 109.21648953278654, 594.0593306257566, 59.464257260739075, 232.57966544010486, 49.94466789584561, 119.05139327637741, 117.60919827735849, 43.02314527138903, 56.42405001053725, 36.81059302425237, 37.04736920378584, 78.49992988221037, 52.40870724933151, 165.84101212663214, 71.72394903125388, 61.039492516313764, 78.78430758781501, 179.33412581848262, 58.17812142640977, 76.4083630268347, 63.682485979563936, 110.45035703546733, 73.42340390636164, 61.38066438087773, 135.62485740953602, 9.739374932384713, 6.201450603810007, 5.325706593897189, 18.664940485284227, 6.2972702906618725, 2.6693815983603284, 2.6739734254021226, 3.5722551212414624, 6.285835932811662, 2.67568525908396, 4.439832743832801, 8.126495375128945, 2.6785210109170685, 2.6825713401397504, 3.547372428168289, 3.5631339851167723, 7.988490344038216, 2.692496149657408, 9.803589941571357, 2.694146614725552, 3.6094752279494373, 9.111682795821402, 9.010409008237453, 9.930561393094035, 5.425910835464297, 2.7012803427051653, 58.63900086243884, 3.5832204030557238, 2.687326215821909, 7.140981969395007, 67.8165717560698, 21.753230845531977, 7.162337276947487, 9.804113097298869, 34.82491639027962, 9.84383525687916, 23.997653196364382, 37.3069156532188, 18.304154221294855, 16.329628884293214, 64.5149346651128, 78.78430758781501, 232.57966544010486, 31.535944342355403, 22.357434668681453, 18.01046151397281, 46.24179182859241, 30.379032877627058, 755.8256955007639, 165.84101212663214, 129.50179669024106, 69.39538311293745, 99.47451074745692, 594.0593306257566, 179.9883426188353, 60.57084570364945, 55.427834506758785, 63.61958087087533, 77.5256542232319, 43.696673466319496, 179.33412581848262, 128.4537144587557, 69.54434634351962, 117.60919827735849, 76.4083630268347, 134.7209173762432, 73.42340390636164, 110.45035703546733, 85.18337951369384, 62.02870237432723, 135.62485740953602, 4.164631389068196, 5.020560867459604, 3.350058051448959, 16.839637953842523, 3.3828846443004625, 3.3904361927887274, 3.3924519687714794, 3.3890433548563816, 2.550061717698219, 6.9022579165786775, 3.4033611235737586, 5.11396749641977, 3.4522572776055793, 6.907370350407593, 3.430546204254856, 6.144996417489594, 2.587944107574898, 23.523225613375356, 4.3846211598229115, 11.078849058336198, 2.6283889094399977, 3.4539943894022587, 3.4978411526658, 6.892683099653702, 4.3380079603447435, 4.388356517951492, 5.168802051392548, 5.24148715634683, 7.8309010906252166, 6.055518013949154, 8.672675516182629, 34.70744038124424, 29.25781216494003, 6.237932969642467, 8.620786100512554, 13.994464719780858, 15.032146925061241, 14.05218535083171, 55.050308257835184, 45.297387932898374, 12.168721730319838, 119.05139327637741, 58.17812142640977, 54.948887129499695, 29.846513106190173, 50.60127956204689, 60.42033483053389, 755.8256955007639, 30.87060521980411, 594.0593306257566, 69.39538311293745, 179.33412581848262, 30.352691462923676, 26.72346812348607, 73.42340390636164, 128.4537144587557, 63.682485979563936, 61.802357937903324, 57.031968960176506, 110.45035703546733, 78.78430758781501, 50.032192850861406, 71.72394903125388, 69.54434634351962, 165.84101212663214, 85.18337951369384, 134.7209173762432, 99.47451074745692, 232.57966544010486, 117.60919827735849], \"Category\": [\"Default\", \"Default\", \"Default\", \"Default\", \"Default\", \"Default\", \"Default\", \"Default\", \"Default\", \"Default\", \"Default\", \"Default\", \"Default\", \"Default\", \"Default\", \"Default\", \"Default\", \"Default\", \"Default\", \"Default\", \"Default\", \"Default\", \"Default\", \"Default\", \"Default\", \"Default\", \"Default\", \"Default\", \"Default\", \"Default\", \"Topic1\", \"Topic1\", \"Topic1\", \"Topic1\", \"Topic1\", \"Topic1\", \"Topic1\", \"Topic1\", \"Topic1\", \"Topic1\", \"Topic1\", \"Topic1\", \"Topic1\", \"Topic1\", \"Topic1\", \"Topic1\", \"Topic1\", \"Topic1\", \"Topic1\", \"Topic1\", \"Topic1\", \"Topic1\", \"Topic1\", \"Topic1\", \"Topic1\", \"Topic1\", \"Topic1\", \"Topic1\", \"Topic1\", \"Topic1\", \"Topic1\", \"Topic1\", \"Topic1\", \"Topic1\", \"Topic1\", \"Topic1\", \"Topic1\", \"Topic1\", \"Topic1\", \"Topic1\", \"Topic1\", \"Topic1\", \"Topic1\", \"Topic1\", \"Topic1\", \"Topic1\", \"Topic1\", \"Topic1\", \"Topic1\", \"Topic1\", \"Topic1\", \"Topic1\", \"Topic1\", \"Topic1\", \"Topic1\", \"Topic1\", \"Topic1\", \"Topic1\", \"Topic1\", \"Topic1\", \"Topic1\", \"Topic1\", \"Topic1\", \"Topic2\", \"Topic2\", \"Topic2\", \"Topic2\", \"Topic2\", \"Topic2\", \"Topic2\", \"Topic2\", \"Topic2\", \"Topic2\", \"Topic2\", \"Topic2\", \"Topic2\", \"Topic2\", \"Topic2\", \"Topic2\", \"Topic2\", \"Topic2\", \"Topic2\", \"Topic2\", \"Topic2\", \"Topic2\", \"Topic2\", \"Topic2\", \"Topic2\", \"Topic2\", \"Topic2\", \"Topic2\", \"Topic2\", \"Topic2\", \"Topic2\", \"Topic2\", \"Topic2\", \"Topic2\", \"Topic2\", \"Topic2\", \"Topic2\", \"Topic2\", \"Topic2\", \"Topic2\", \"Topic2\", \"Topic2\", \"Topic2\", \"Topic2\", \"Topic2\", \"Topic2\", \"Topic2\", \"Topic2\", \"Topic2\", \"Topic2\", \"Topic2\", \"Topic2\", \"Topic2\", \"Topic2\", \"Topic2\", \"Topic2\", \"Topic2\", \"Topic2\", \"Topic2\", \"Topic2\", \"Topic2\", \"Topic2\", \"Topic2\", \"Topic2\", \"Topic2\", \"Topic2\", \"Topic2\", \"Topic2\", \"Topic2\", \"Topic3\", \"Topic3\", \"Topic3\", \"Topic3\", \"Topic3\", \"Topic3\", \"Topic3\", \"Topic3\", \"Topic3\", \"Topic3\", \"Topic3\", \"Topic3\", \"Topic3\", \"Topic3\", \"Topic3\", \"Topic3\", \"Topic3\", \"Topic3\", \"Topic3\", \"Topic3\", \"Topic3\", \"Topic3\", \"Topic3\", \"Topic3\", \"Topic3\", \"Topic3\", \"Topic3\", \"Topic3\", \"Topic3\", \"Topic3\", \"Topic3\", \"Topic3\", \"Topic3\", \"Topic3\", \"Topic3\", \"Topic3\", \"Topic3\", \"Topic3\", \"Topic3\", \"Topic3\", \"Topic3\", \"Topic3\", \"Topic3\", \"Topic3\", \"Topic3\", \"Topic3\", \"Topic3\", \"Topic3\", \"Topic3\", \"Topic3\", \"Topic3\", \"Topic3\", \"Topic3\", \"Topic3\", \"Topic3\", \"Topic3\", \"Topic3\", \"Topic3\", \"Topic3\", \"Topic3\", \"Topic3\", \"Topic3\", \"Topic3\", \"Topic3\", \"Topic3\", \"Topic3\", \"Topic3\", \"Topic3\", \"Topic3\", \"Topic3\", \"Topic3\", \"Topic4\", \"Topic4\", \"Topic4\", \"Topic4\", \"Topic4\", \"Topic4\", \"Topic4\", \"Topic4\", \"Topic4\", \"Topic4\", \"Topic4\", \"Topic4\", \"Topic4\", \"Topic4\", \"Topic4\", \"Topic4\", \"Topic4\", \"Topic4\", \"Topic4\", \"Topic4\", \"Topic4\", \"Topic4\", \"Topic4\", \"Topic4\", \"Topic4\", \"Topic4\", \"Topic4\", \"Topic4\", \"Topic4\", \"Topic4\", \"Topic4\", \"Topic4\", \"Topic4\", \"Topic4\", \"Topic4\", \"Topic4\", \"Topic4\", \"Topic4\", \"Topic4\", \"Topic4\", \"Topic4\", \"Topic4\", \"Topic4\", \"Topic4\", \"Topic4\", \"Topic4\", \"Topic4\", \"Topic4\", \"Topic4\", \"Topic4\", \"Topic4\", \"Topic4\", \"Topic4\", \"Topic4\", \"Topic4\", \"Topic4\", \"Topic4\", \"Topic4\", \"Topic4\", \"Topic4\", \"Topic4\", \"Topic4\", \"Topic4\", \"Topic4\", \"Topic4\", \"Topic4\", \"Topic4\", \"Topic4\", \"Topic4\", \"Topic4\"], \"logprob\": [30.0, 29.0, 28.0, 27.0, 26.0, 25.0, 24.0, 23.0, 22.0, 21.0, 20.0, 19.0, 18.0, 17.0, 16.0, 15.0, 14.0, 13.0, 12.0, 11.0, 10.0, 9.0, 8.0, 7.0, 6.0, 5.0, 4.0, 3.0, 2.0, 1.0, -5.404, -7.14, -7.3142, -6.06, -6.5673, -6.2408, -5.9453, -7.3858, -5.893, -7.7952, -6.7062, -6.0997, -6.9917, -7.2519, -7.4246, -5.5598, -7.622, -6.678, -6.8587, -7.8719, -8.1612, -6.4233, -6.8696, -6.9689, -7.485, -8.1815, -5.2859, -7.3336, -7.8919, -7.6726, -7.0971, -5.2062, -6.5939, -4.3919, -6.0011, -5.6426, -5.7567, -5.5327, -3.225, -5.013, -5.4453, -4.6648, -5.57, -5.312, -5.4407, -4.7599, -3.3338, -5.3706, -4.5202, -5.4131, -4.9196, -5.0371, -4.9735, -4.6751, -4.7501, -4.609, -5.3532, -5.1361, -5.5631, -5.305, -5.5562, -5.3103, -5.5459, -6.2462, -6.4411, -6.2054, -6.2177, -6.7444, -6.7559, -7.2582, -7.2816, -7.5152, -5.7667, -7.3002, -6.9755, -7.5343, -7.8336, -7.8422, -7.3409, -7.1639, -7.6008, -5.557, -7.0663, -7.0656, -7.6499, -6.3878, -6.7351, -7.6556, -7.4671, -7.9838, -7.0048, -7.7021, -7.712, -6.0406, -5.8439, -5.7717, -6.5413, -6.4921, -4.6785, -5.6299, -5.0387, -6.7248, -4.5379, -3.1167, -6.3105, -5.6765, -4.5212, -4.9174, -3.6315, -5.4048, -4.4046, -5.5612, -4.9366, -4.9996, -5.6998, -5.5202, -5.8091, -5.8091, -5.3445, -5.5944, -4.9585, -5.4394, -5.5575, -5.4336, -5.1001, -5.6285, -5.5759, -5.6555, -5.5798, -5.6667, -5.7031, -5.6928, -6.2922, -6.7592, -6.9601, -5.7624, -6.8494, -7.7721, -7.8106, -7.5224, -6.9607, -7.8174, -7.3288, -6.7271, -7.846, -7.8481, -7.5727, -7.5713, -6.769, -7.8651, -6.5753, -7.8698, -7.582, -6.6648, -6.6804, -6.5963, -7.2051, -7.905, -4.8346, -7.6331, -7.9249, -6.9515, -4.7702, -5.8846, -6.9729, -6.6787, -5.5219, -6.6803, -5.9015, -5.5165, -6.1552, -6.256, -5.1235, -4.9651, -4.0681, -5.7443, -6.0308, -6.208, -5.4452, -5.8187, -3.3288, -4.5992, -4.8535, -5.2968, -5.0537, -3.898, -4.7019, -5.4145, -5.4908, -5.4075, -5.2897, -5.6527, -4.8013, -5.0662, -5.4741, -5.2073, -5.4658, -5.2443, -5.5137, -5.4875, -5.6408, -5.6763, -5.64, -6.787, -6.6516, -7.0563, -5.4525, -7.1528, -7.1731, -7.1833, -7.2319, -7.5318, -6.6115, -7.348, -6.9415, -7.3387, -6.6483, -7.3676, -6.7912, -7.657, -5.4595, -7.157, -6.2323, -7.6816, -7.4147, -7.4075, -6.7349, -7.2034, -7.1987, -7.0378, -7.0381, -6.6382, -6.9047, -6.5477, -5.372, -5.5424, -6.8967, -6.6382, -6.2367, -6.1929, -6.2525, -5.184, -5.3554, -6.3961, -4.7289, -5.2625, -5.3288, -5.763, -5.3936, -5.2698, -3.55, -5.7606, -3.8529, -5.2342, -4.6456, -5.7818, -5.8776, -5.2649, -4.9358, -5.3827, -5.4067, -5.4998, -5.1559, -5.3367, -5.5767, -5.4121, -5.4524, -5.082, -5.4503, -5.3206, -5.422, -5.2522, -5.4961], \"loglift\": [30.0, 29.0, 28.0, 27.0, 26.0, 25.0, 24.0, 23.0, 22.0, 21.0, 20.0, 19.0, 18.0, 17.0, 16.0, 15.0, 14.0, 13.0, 12.0, 11.0, 10.0, 9.0, 8.0, 7.0, 6.0, 5.0, 4.0, 3.0, 2.0, 1.0, 0.9818, 0.9138, 0.8943, 0.8934, 0.8728, 0.871, 0.8385, 0.8223, 0.822, 0.821, 0.8154, 0.8142, 0.8036, 0.7995, 0.7939, 0.7927, 0.7785, 0.7663, 0.7517, 0.7454, 0.7448, 0.7436, 0.7435, 0.7396, 0.7313, 0.7242, 0.7237, 0.7204, 0.7201, 0.7166, 0.7134, 0.6715, 0.6963, 0.6213, 0.6727, 0.6419, 0.5995, 0.5761, 0.3111, 0.4653, 0.5153, 0.3945, 0.5142, 0.4637, 0.4608, 0.3076, -0.0385, 0.4249, 0.2136, 0.4323, 0.2989, 0.2861, 0.2562, 0.055, 0.0619, -0.1352, 0.2193, 0.0195, 0.2738, -0.1615, 0.2139, -0.2904, -0.1909, 1.2015, 1.1917, 1.1687, 1.1573, 1.1189, 1.1093, 1.0795, 1.0603, 1.05, 1.048, 1.0432, 1.0333, 1.0326, 1.022, 1.0148, 1.0071, 1.0032, 0.9758, 0.9704, 0.9556, 0.9508, 0.9363, 0.9348, 0.9327, 0.9232, 0.8924, 0.8922, 0.8876, 0.8847, 0.8806, 0.869, 0.8668, 0.8613, 0.8625, 0.8349, 0.6765, 0.7321, 0.6139, 0.8464, 0.4819, 0.1785, 0.768, 0.6141, 0.2089, 0.3123, -0.0955, 0.4329, 0.0692, 0.451, 0.2069, 0.1561, 0.4615, 0.3699, 0.5082, 0.5017, 0.2154, 0.3696, -0.1465, 0.2108, 0.254, 0.1227, -0.3663, 0.231, 0.0111, 0.1136, -0.3613, -0.0399, 0.1029, -0.6797, 1.3546, 1.3391, 1.2904, 1.234, 1.2335, 1.1691, 1.1289, 1.1274, 1.124, 1.1214, 1.1037, 1.1008, 1.0918, 1.0882, 1.0841, 1.0811, 1.076, 1.0675, 1.065, 1.0622, 1.0575, 1.0487, 1.0443, 1.0311, 1.0268, 1.0244, 1.017, 1.0137, 1.0096, 1.0057, 0.936, 0.9586, 0.9813, 0.9615, 0.8509, 0.9559, 0.8436, 0.7874, 0.8608, 0.8741, 0.6326, 0.5912, 0.4058, 0.7276, 0.7851, 0.8241, 0.644, 0.6906, -0.0336, 0.2128, 0.2059, 0.3864, 0.2695, -0.3619, 0.0282, 0.4048, 0.4172, 0.3626, 0.2827, 0.4931, -0.0675, 0.0013, 0.2069, -0.0516, 0.1211, -0.2245, 0.1131, -0.269, -0.1626, 0.1191, -0.6268, 1.7094, 1.6579, 1.6577, 1.6468, 1.5515, 1.529, 1.5182, 1.4705, 1.4551, 1.3797, 1.3503, 1.3496, 1.3453, 1.3422, 1.3227, 1.3162, 1.3152, 1.3055, 1.2879, 1.2857, 1.2751, 1.2688, 1.2634, 1.2577, 1.2523, 1.2454, 1.2426, 1.2283, 1.2267, 1.2174, 1.2151, 1.0041, 1.0045, 1.1957, 1.1306, 1.0477, 1.0199, 1.0278, 0.7308, 0.7544, 1.0281, 0.4145, 0.597, 0.5878, 0.7639, 0.6055, 0.5519, -0.2548, 0.7326, -0.3168, 0.4491, 0.0882, 0.7283, 0.7599, 0.3619, 0.1317, 0.3864, 0.3924, 0.3796, 0.0626, 0.2197, 0.4337, 0.2382, 0.2287, -0.27, 0.028, -0.3008, -0.0988, -0.7784, -0.3404]}, \"token.table\": {\"Topic\": [1, 2, 3, 4, 1, 2, 3, 4, 3, 4, 1, 2, 3, 4, 1, 2, 3, 4, 2, 1, 2, 3, 4, 1, 4, 1, 2, 3, 4, 1, 2, 3, 4, 1, 2, 3, 4, 1, 2, 3, 4, 2, 3, 1, 2, 3, 4, 1, 2, 4, 1, 2, 3, 4, 1, 2, 3, 4, 1, 2, 3, 4, 1, 2, 3, 4, 3, 1, 2, 3, 4, 1, 2, 3, 4, 1, 2, 3, 4, 1, 2, 3, 4, 1, 2, 3, 2, 3, 1, 3, 4, 3, 1, 2, 3, 4, 3, 1, 2, 3, 4, 1, 2, 3, 4, 1, 2, 3, 4, 1, 2, 3, 4, 1, 2, 4, 1, 2, 3, 4, 1, 2, 3, 1, 2, 3, 4, 1, 2, 3, 4, 3, 1, 2, 3, 4, 1, 2, 3, 4, 1, 2, 3, 4, 1, 2, 3, 4, 1, 2, 3, 4, 1, 2, 3, 4, 2, 1, 2, 3, 4, 1, 3, 2, 4, 1, 2, 4, 1, 1, 2, 3, 4, 1, 2, 3, 4, 1, 4, 1, 2, 3, 4, 1, 2, 3, 4, 1, 2, 3, 4, 1, 2, 3, 4, 2, 1, 3, 4, 1, 2, 3, 1, 2, 4, 1, 2, 3, 4, 2, 4, 1, 2, 1, 2, 3, 4, 1, 2, 1, 2, 3, 4, 1, 2, 3, 4, 1, 2, 3, 4, 1, 2, 4, 1, 2, 3, 1, 2, 3, 4, 1, 2, 3, 4, 1, 2, 3, 4, 2, 3, 4, 2, 4, 2, 1, 2, 3, 4, 1, 3, 1, 2, 3, 4, 1, 2, 3, 4, 1, 3, 4, 3, 2, 2, 3, 4, 1, 3, 1, 2, 3, 4, 1, 2, 3, 4, 1, 2, 3, 4, 1, 2, 3, 4, 1, 2, 3, 4, 1, 2, 3, 4, 2, 3, 4, 1, 2, 3, 1, 2, 3, 4, 2, 3, 1, 2, 3, 4, 1, 2, 3, 1, 3, 3, 1, 2, 3, 4, 1, 2, 3, 4, 1, 2, 3, 4, 1, 2, 3, 4, 2, 2, 3, 1, 2, 4, 1, 4, 1, 1, 2, 3, 4, 1, 2, 3, 4, 1, 2, 4, 1, 2, 4, 1, 2, 3, 4, 1, 2, 3, 4, 1, 2, 3, 4, 1, 2, 3, 4, 1, 2, 3, 4, 2, 4, 1, 2, 3, 4, 3, 2, 4, 1, 2, 3, 4, 2, 4, 1, 2, 3, 4, 2, 1, 2, 3, 4, 1, 1, 1, 3, 4, 2, 3, 1, 2, 3, 4, 1, 3, 4, 1, 2, 3, 4, 1, 2, 3, 4, 1, 3, 4, 1, 2, 3, 4, 1, 2, 3, 4, 1, 2, 3, 4, 1, 2, 3, 4, 4, 1, 3, 1, 2, 3, 2, 1, 3, 2, 3, 1, 2, 1, 2, 3, 4, 1, 2, 3, 4, 1, 2, 3, 4, 1, 2, 3, 4, 1, 2, 3, 4, 4, 1, 2, 3, 4, 1, 2, 3, 4, 1, 2, 3, 4, 2, 1, 1, 2, 3, 1, 3, 2, 4, 1, 2, 3, 4, 1, 1, 2, 3, 4, 1, 2, 3, 4, 1, 2, 3, 4, 1, 2, 3, 4, 1, 2, 3, 4, 1, 2, 3, 4, 1, 2, 3, 4, 1, 2, 3, 4, 1, 2, 4, 1, 2, 3, 4, 1, 2, 3, 4, 1, 3, 1, 2, 4, 1, 3, 4, 1, 2, 3, 4, 1, 2, 3, 4, 1, 1, 2, 3, 4, 1, 4, 1, 2, 3, 4, 1, 2, 3, 4, 1, 2, 3, 4, 1, 2, 3, 4, 1, 2, 3, 4, 1, 3, 4, 1, 2, 3, 4, 1, 2, 3, 4, 1, 2, 1, 2, 3, 4, 2, 1, 4, 1, 2, 3, 4, 2, 1, 2, 3, 4, 1, 2, 3, 4, 2, 3, 1, 3, 1, 2, 3, 4, 1, 2, 3, 1, 3, 1, 2, 3, 4, 2, 3, 2, 3, 2, 3, 4, 1, 4, 1, 2, 3, 4, 1, 2, 3, 4, 1, 2, 3, 4, 1, 2, 3, 4, 1, 4, 2, 4, 1, 2], \"Freq\": [0.3603988325147565, 0.4404874619624802, 0.12013294417158552, 0.08008862944772367, 0.1159987022460219, 0.1159987022460219, 0.34799610673806575, 0.4639948089840876, 0.2950685179541993, 0.5901370359083986, 0.162996559062413, 0.4618235840101702, 0.13583046588534417, 0.24449483859361953, 0.47985358691942365, 0.19013066651524332, 0.16296914272735144, 0.16296914272735144, 0.8242667862328553, 0.25124647309048975, 0.3140580913631122, 0.2198406639541785, 0.2198406639541785, 0.1991809334453898, 0.7967237337815593, 0.13124847123200284, 0.6562423561600143, 0.13124847123200284, 0.13124847123200284, 0.2039960147492607, 0.10199800737463036, 0.5099900368731517, 0.10199800737463036, 0.5592263747622068, 0.1016775226840376, 0.22030129914874813, 0.11862377646471053, 0.3331397141236554, 0.1110465713745518, 0.4997095711854831, 0.0555232856872759, 0.6909864996815399, 0.17274662492038498, 0.428740942947188, 0.07145682382453133, 0.07145682382453133, 0.428740942947188, 0.14746223083849103, 0.7373111541924551, 0.14746223083849103, 0.10926481364941854, 0.3277944409482556, 0.4916916614223834, 0.05463240682470927, 0.20139848300931415, 0.20139848300931415, 0.6041954490279424, 0.10069924150465707, 0.2672190829836813, 0.45278789061123775, 0.17072330301735195, 0.11134128457653387, 0.20100550771038894, 0.25843565277050007, 0.4881562330109446, 0.028715072530055563, 0.7455533316388181, 0.6085209570011916, 0.17114651915658513, 0.13311395934401066, 0.09508139953143618, 0.3602545137522157, 0.10087126385062038, 0.31702397210194977, 0.23056288880141804, 0.25566649020006654, 0.5681477560001479, 0.056814775600014786, 0.11362955120002957, 0.16513863846106241, 0.16513863846106241, 0.16513863846106241, 0.49541591538318724, 0.602512440396628, 0.34429282308378745, 0.06455490432821015, 0.8941259764858686, 0.1277322823551241, 0.8086818380956203, 0.08086818380956204, 0.08086818380956204, 0.7442341715809546, 0.205073433590153, 0.23925233918851183, 0.13671562239343532, 0.410146867180306, 0.7428051476524782, 0.49419011221205056, 0.0988380224424101, 0.0988380224424101, 0.29651406732723035, 0.10485608735626381, 0.7339926114938466, 0.10485608735626381, 0.10485608735626381, 0.3269736459184695, 0.27247803826539124, 0.09082601275513043, 0.30880844336744345, 0.2660963879571516, 0.19957229096786372, 0.1330481939785758, 0.39914458193572744, 0.2858906269193707, 0.2858906269193707, 0.5717812538387415, 0.27891963556602545, 0.4416227563128736, 0.16270312074684817, 0.11621651481917727, 0.27907856272173853, 0.27907856272173853, 0.5581571254434771, 0.13791054861242313, 0.22985091435403854, 0.5516421944496925, 0.04597018287080771, 0.1907855481032929, 0.1907855481032929, 0.1907855481032929, 0.5723566443098786, 0.749237202065266, 0.1396192278208643, 0.1396192278208643, 0.5584769112834572, 0.1396192278208643, 0.5328111405669762, 0.11582850881890785, 0.2625446199895245, 0.0849409064671991, 0.3258355086529613, 0.30954373322031326, 0.1792095297591287, 0.1792095297591287, 0.11423594717727727, 0.31732207549243685, 0.38078649059092423, 0.19039324529546212, 0.12518009748190992, 0.12518009748190992, 0.6259004874095496, 0.12518009748190992, 0.794122278272022, 0.09926528478400275, 0.09926528478400275, 0.09926528478400275, 0.8279675211200197, 0.37780224547100183, 0.3444667532235605, 0.21668069960836872, 0.061115069120309125, 0.22523370984843094, 0.6757011295452928, 0.22787574252668177, 0.45575148505336355, 0.1627340248976953, 0.3254680497953906, 0.4882020746930859, 0.8725487135723474, 0.1908079883067055, 0.4006967754440816, 0.22896958596804662, 0.1908079883067055, 0.7389568017770707, 0.03994361090686868, 0.07988722181373736, 0.1398026381740404, 0.29494729973887884, 0.5898945994777577, 0.08052148924817079, 0.6441719139853663, 0.16104297849634158, 0.08052148924817079, 0.044677012278650334, 0.804186221015706, 0.08935402455730067, 0.044677012278650334, 0.14900770896678495, 0.6705346903505323, 0.14900770896678495, 0.07450385448339247, 0.47052707798079985, 0.30248169298765704, 0.11763176949519996, 0.10082723099588568, 0.8194955413019535, 0.1805241672188967, 0.27078625082834507, 0.5415725016566901, 0.24562354277487417, 0.6877459197696477, 0.04912470855497483, 0.19037828815615812, 0.6663240085465534, 0.09518914407807906, 0.6395835121315507, 0.06616381159981559, 0.17643683093284157, 0.13232762319963118, 0.8597842578785657, 0.0781622052616878, 0.808640044043711, 0.2695466813479037, 0.23052055439762945, 0.23052055439762945, 0.23052055439762945, 0.4610411087952589, 0.9600880450487249, 0.029093577122688632, 0.7878967844394984, 0.14069585436419615, 0.02813917087283923, 0.02813917087283923, 0.29750548425660217, 0.2288503725050786, 0.3432755587576179, 0.1144251862525393, 0.24283960956633818, 0.19868695328154942, 0.24283960956633818, 0.3090685939935213, 0.7644193193747136, 0.10920275991067338, 0.10920275991067338, 0.7713450247788165, 0.1542690049557633, 0.1542690049557633, 0.11098275328964366, 0.22196550657928732, 0.5549137664482183, 0.11098275328964366, 0.7624120401286765, 0.12706867335477942, 0.06353433667738971, 0.06353433667738971, 0.12753353002294862, 0.25506706004589724, 0.08502235334863241, 0.5526452967661107, 0.2896655491138775, 0.2896655491138775, 0.579331098227755, 0.8605521873944273, 0.07823201703585703, 0.772921279261772, 0.25367878358585677, 0.19025908768939256, 0.4439378712752493, 0.12683939179292839, 0.28065180938381906, 0.5613036187676381, 0.2723927104429319, 0.2723927104429319, 0.24515343939863868, 0.2179141683543455, 0.16668296550789372, 0.16668296550789372, 0.5000488965236812, 0.20835370688486715, 0.4063456869825897, 0.5079321087282371, 0.10158642174564743, 0.7479505895610133, 0.6886841649535271, 0.19346842654393892, 0.19346842654393892, 0.5804052796318168, 0.16125259457611846, 0.8062629728805922, 0.45146345878254646, 0.16768642754780297, 0.28377703123474346, 0.1031916477217249, 0.24812114687594183, 0.4076275984390473, 0.19495232968824, 0.15950645156310547, 0.29489104935119204, 0.36042239365145695, 0.21297686897586093, 0.1310626886005298, 0.22345169767029796, 0.3437718425696892, 0.15469732915636014, 0.27501747405575133, 0.053576382994010505, 0.10715276598802101, 0.750069361916147, 0.10715276598802101, 0.3009848555852052, 0.5500757705522715, 0.10378788123627766, 0.05189394061813883, 0.3292476337494753, 0.6584952674989506, 0.8955068700085502, 0.1590878302725122, 0.1590878302725122, 0.6363513210900488, 0.21348992523945312, 0.14232661682630207, 0.21348992523945312, 0.42697985047890624, 0.7428645414614254, 0.1485729082922851, 0.18894728965760613, 0.458871989168472, 0.16195481970651954, 0.18894728965760613, 0.12305427540886686, 0.24610855081773372, 0.6152713770443343, 0.37334036056622955, 0.7466807211324591, 0.7423500967128087, 0.4898500621031793, 0.2525000320119481, 0.1481333521136762, 0.10941668053851084, 0.35976836061644046, 0.11992278687214682, 0.27981983603500926, 0.23984557374429363, 0.13401900536148054, 0.4020570160844416, 0.16752375670185068, 0.33504751340370137, 0.7256144167468163, 0.12093573612446938, 0.12093573612446938, 0.12093573612446938, 0.6878269176578724, 0.7822005628366371, 0.2607335209455457, 0.228069875035769, 0.228069875035769, 0.456139750071538, 0.3864071086670711, 0.3864071086670711, 0.9254621383219978, 0.6709684473637031, 0.1400923131858281, 0.11059919462039061, 0.08110607605495311, 0.2387489519618962, 0.13642797254965497, 0.5968723799047405, 0.03410699313741374, 0.7546547736203935, 0.08385053040226594, 0.16770106080453187, 0.38309767487568674, 0.12769922495856226, 0.510796899834249, 0.2306093426726429, 0.11530467133632145, 0.11530467133632145, 0.4612186853452858, 0.3453177122101907, 0.33208714852397647, 0.20639679350494156, 0.11642896043868498, 0.4724828465788816, 0.11058109175250422, 0.281479142642738, 0.140739571321369, 0.23049812697576993, 0.2593103928477412, 0.08643679761591373, 0.4033717222075974, 0.5736063185234259, 0.23302756690014179, 0.14340157963085648, 0.05377559236157118, 0.3804612005508192, 0.3804612005508192, 0.19435964916395226, 0.3887192983279045, 0.12957309944263484, 0.3239327486065871, 0.7474720702705946, 0.7879897869098447, 0.2626632623032816, 0.34756510467710094, 0.23171006978473396, 0.1655071927033814, 0.2648115083254102, 0.7930415526027733, 0.26434718420092446, 0.49044903267649936, 0.12455848448926968, 0.2101924425756426, 0.1712679161727458, 0.9112140014338916, 0.7001846521040898, 0.12253231411821572, 0.08752308151301122, 0.08752308151301122, 0.8999294576087769, 0.8120232818521317, 0.10267599378219514, 0.8214079502575611, 0.7203518678447137, 0.6281688447772068, 0.2093896149257356, 0.37386216661770044, 0.17255176920816945, 0.25882765381225414, 0.18693108330885022, 0.30601035109381053, 0.6120207021876211, 0.1020034503646035, 0.4669624542793048, 0.3845573152888392, 0.09156126554496172, 0.0640928858814732, 0.7893306591304274, 0.049333166195651715, 0.09866633239130343, 0.049333166195651715, 0.8129198308821566, 0.2914987703006929, 0.5829975406013858, 0.3797206351142994, 0.23113429963479093, 0.3136822637900734, 0.06603837132422598, 0.4032825872811812, 0.2104083064075728, 0.175340255339644, 0.2279423319415372, 0.5481333430904094, 0.11285098240096664, 0.2418235337163571, 0.09672941348654283, 0.28007352610210307, 0.14003676305105153, 0.5601470522042061, 0.14003676305105153, 0.5912114098745966, 0.28189879135875145, 0.5637975827175029, 0.8724722416180913, 0.05132189656577008, 0.05132189656577008, 0.925440521413328, 0.27993521348846745, 0.5598704269769349, 0.27704858375440505, 0.5540971675088101, 0.8337865768010493, 0.11911236811443561, 0.2858860226817993, 0.43723744645451657, 0.10090094918181151, 0.18498507349998777, 0.1491361644230815, 0.6711127399038668, 0.07456808221154075, 0.07456808221154075, 0.313870947668034, 0.29667253957663486, 0.31817054969088376, 0.06879363236559649, 0.4206959227368609, 0.22652857378138666, 0.12944489930364952, 0.22652857378138666, 0.22118487578454527, 0.11796526708509081, 0.545589360268545, 0.13271092547072716, 0.7842947431896962, 0.0742403408902619, 0.7424034089026189, 0.1484806817805238, 0.0742403408902619, 0.23806304843411066, 0.5025775466942336, 0.18516014878208606, 0.05290289965202459, 0.3798819073287779, 0.24119486179604946, 0.2653143479756544, 0.11456755935312349, 0.8229537871454767, 0.7231020578348731, 0.18430085387026632, 0.18430085387026632, 0.552902561610799, 0.8152480168909433, 0.09058311298788259, 0.7884437702296766, 0.2628145900765589, 0.38750717380047256, 0.13950258256817014, 0.4030074607524915, 0.06200114780807561, 0.7233651081723057, 0.366452033400668, 0.274839025050501, 0.23557630718614372, 0.11778815359307186, 0.3206739214816197, 0.34855861030610835, 0.13942344412244334, 0.1951928217714207, 0.5690052964829855, 0.1580570268008293, 0.17386272948091225, 0.11063991876058052, 0.4460946829549549, 0.19516642379279278, 0.2007426073297297, 0.16170932257117115, 0.6496357795279295, 0.08473510167755603, 0.1129801355700747, 0.16947020335511206, 0.1837151365323173, 0.1837151365323173, 0.48990703075284614, 0.06123837884410577, 0.8230393294125149, 0.04331785944276394, 0.08663571888552787, 0.04331785944276394, 0.3312104869267165, 0.3439493518085133, 0.17834410834515504, 0.14012751369976467, 0.28976025297405333, 0.14488012648702667, 0.5795205059481067, 0.19750464157859218, 0.32917440263098696, 0.4279267234202831, 0.06583488052619739, 0.1789114028186447, 0.1789114028186447, 0.4472785070466118, 0.1789114028186447, 0.7920129657703239, 0.19800324144258097, 0.14940000902825581, 0.747000045141279, 0.14940000902825581, 0.29016276696377974, 0.14508138348188987, 0.5803255339275595, 0.4347716142834644, 0.059287038311381504, 0.2173858071417322, 0.2766728454531137, 0.43299544738796314, 0.1443318157959877, 0.32474658554097235, 0.09020738487249232, 0.9002669525419373, 0.5752295844534191, 0.0939150341964766, 0.1760906891183936, 0.15261193056927447, 0.8350345144868947, 0.08350345144868948, 0.683553747210932, 0.026290528738881998, 0.13145264369440998, 0.157743172433292, 0.05938369950357613, 0.11876739900715226, 0.05938369950357613, 0.7719880935464897, 0.2326430657178658, 0.5816076642946645, 0.1163215328589329, 0.05816076642946645, 0.033517605315167655, 0.7373873169336884, 0.1675880265758383, 0.06703521063033531, 0.16104835982427548, 0.6441934392971019, 0.08052417991213774, 0.12078626986820662, 0.1955428932037774, 0.1955428932037774, 0.5866286796113322, 0.36561766111688676, 0.32310397959166737, 0.20406567132105308, 0.11053557196557043, 0.2680468171894347, 0.18763277203260428, 0.455679589222039, 0.05360936343788694, 0.7693756763515591, 0.15387513527031182, 0.14477289464303758, 0.14477289464303758, 0.14477289464303758, 0.5790915785721503, 0.7019649970192362, 0.29477204370328447, 0.5895440874065689, 0.0821779002069198, 0.1643558004138396, 0.3287116008276792, 0.410889501034599, 0.7804607626802175, 0.3275771528835308, 0.23658349930477224, 0.18198730715751713, 0.27298096073627565, 0.34600735324678344, 0.15137821704546778, 0.4108837319805554, 0.08650183831169586, 0.8923743323200456, 0.12748204747429223, 0.7258020878015182, 0.18145052195037956, 0.7187361407779909, 0.14374722815559818, 0.07187361407779909, 0.07187361407779909, 0.8418751440159818, 0.060133938858284414, 0.060133938858284414, 0.18776851153345844, 0.7510740461338338, 0.44011607144708864, 0.14146588010799277, 0.29865019133909587, 0.11002901786177216, 0.15879896428820675, 0.7939948214410337, 0.37019482361410955, 0.7403896472282191, 0.7716668681062712, 0.2938271795706277, 0.5876543591412554, 0.2895198680890324, 0.5790397361780648, 0.18710146366091315, 0.22452175639309577, 0.2619420491252784, 0.33678263458964364, 0.30239041315901377, 0.34438908165332127, 0.12599600548292242, 0.22679280986926034, 0.25156651773464156, 0.5171089531212076, 0.12578325886732078, 0.12578325886732078, 0.6984706567035613, 0.11641177611726022, 0.07760785074484014, 0.07760785074484014, 0.727386498618552, 0.181846624654638, 0.4809285406880459, 0.4809285406880459, 0.6471090763981193, 0.21570302546603978], \"Term\": [\"\\uac00\\ub2a5\", \"\\uac00\\ub2a5\", \"\\uac00\\ub2a5\", \"\\uac00\\ub2a5\", \"\\uac00\\uc744\", \"\\uac00\\uc744\", \"\\uac00\\uc744\", \"\\uac00\\uc744\", \"\\uac01\\uc2ec\", \"\\uac01\\uc2ec\", \"\\uac15\\ubcc0\", \"\\uac15\\ubcc0\", \"\\uac15\\ubcc0\", \"\\uac15\\ubcc0\", \"\\uac1c\\uc120\", \"\\uac1c\\uc120\", \"\\uac1c\\uc120\", \"\\uac1c\\uc120\", \"\\uac1c\\uc778\", \"\\uac70\\ub9ac\", \"\\uac70\\ub9ac\", \"\\uac70\\ub9ac\", \"\\uac70\\ub9ac\", \"\\uac74\\uc601\", \"\\uac74\\uc601\", \"\\uac80\\uc0c9\", \"\\uac80\\uc0c9\", \"\\uac80\\uc0c9\", \"\\uac80\\uc0c9\", \"\\uac8c\\uc2dc\\ud310\", \"\\uac8c\\uc2dc\\ud310\", \"\\uac8c\\uc2dc\\ud310\", \"\\uac8c\\uc2dc\\ud310\", \"\\uacbd\\uad00\", \"\\uacbd\\uad00\", \"\\uacbd\\uad00\", \"\\uacbd\\uad00\", \"\\uacbd\\ub85c\\ub2f9\", \"\\uacbd\\ub85c\\ub2f9\", \"\\uacbd\\ub85c\\ub2f9\", \"\\uacbd\\ub85c\\ub2f9\", \"\\uace0\\ubbfc\", \"\\uace0\\ubbfc\", \"\\uace0\\uc18d\\ub3c4\\ub85c\", \"\\uace0\\uc18d\\ub3c4\\ub85c\", \"\\uace0\\uc18d\\ub3c4\\ub85c\", \"\\uace0\\uc18d\\ub3c4\\ub85c\", \"\\uacf5\\ub8e1\", \"\\uacf5\\ub8e1\", \"\\uacf5\\ub8e1\", \"\\uacf5\\uc5f0\", \"\\uacf5\\uc5f0\", \"\\uacf5\\uc5f0\", \"\\uacf5\\uc5f0\", \"\\uacf5\\uc5f0\\uc7a5\", \"\\uacf5\\uc5f0\\uc7a5\", \"\\uacf5\\uc5f0\\uc7a5\", \"\\uacf5\\uc5f0\\uc7a5\", \"\\uacf5\\uc6d0\", \"\\uacf5\\uc6d0\", \"\\uacf5\\uc6d0\", \"\\uacf5\\uc6d0\", \"\\uad50\\ub7c9\", \"\\uad50\\ub7c9\", \"\\uad50\\ub7c9\", \"\\uad50\\ub7c9\", \"\\uad50\\uc0ac\", \"\\uad50\\uccb4\", \"\\uad50\\uccb4\", \"\\uad50\\uccb4\", \"\\uad50\\uccb4\", \"\\uad6c\\uac04\", \"\\uad6c\\uac04\", \"\\uad6c\\uac04\", \"\\uad6c\\uac04\", \"\\uadf8\\ub298\", \"\\uadf8\\ub298\", \"\\uadf8\\ub298\", \"\\uadf8\\ub298\", \"\\uae08\\uc5f0\", \"\\uae08\\uc5f0\", \"\\uae08\\uc5f0\", \"\\uae08\\uc5f0\", \"\\uae30\\uad6c\", \"\\uae30\\uad6c\", \"\\uae30\\uad6c\", \"\\uae30\\ub85d\", \"\\uae30\\ub85d\", \"\\uaf43\\ubcf4\\ub77c\\ub3d9\\uc0b0\", \"\\uaf43\\ubcf4\\ub77c\\ub3d9\\uc0b0\", \"\\uaf43\\ubcf4\\ub77c\\ub3d9\\uc0b0\", \"\\ub098\\uc740\", \"\\ub0a8\\uad6c\", \"\\ub0a8\\uad6c\", \"\\ub0a8\\uad6c\", \"\\ub0a8\\uad6c\", \"\\ub0a8\\uc790\", \"\\ub124\\uac70\\ub9ac\", \"\\ub124\\uac70\\ub9ac\", \"\\ub124\\uac70\\ub9ac\", \"\\ub124\\uac70\\ub9ac\", \"\\ub18d\\uc7a5\", \"\\ub18d\\uc7a5\", \"\\ub18d\\uc7a5\", \"\\ub18d\\uc7a5\", \"\\ub2e4\\ub9ac\", \"\\ub2e4\\ub9ac\", \"\\ub2e4\\ub9ac\", \"\\ub2e4\\ub9ac\", \"\\ub2e8\\uc18d\", \"\\ub2e8\\uc18d\", \"\\ub2e8\\uc18d\", \"\\ub2e8\\uc18d\", \"\\ub2e8\\uc21c\", \"\\ub2e8\\uc21c\", \"\\ub2e8\\uc21c\", \"\\ub300\\uad6c\\uc2dc\", \"\\ub300\\uad6c\\uc2dc\", \"\\ub300\\uad6c\\uc2dc\", \"\\ub300\\uad6c\\uc2dc\", \"\\ub300\\uc218\", \"\\ub300\\uc218\", \"\\ub300\\uc218\", \"\\ub300\\uc5ec\", \"\\ub300\\uc5ec\", \"\\ub300\\uc5ec\", \"\\ub300\\uc5ec\", \"\\ub300\\uc9c0\", \"\\ub300\\uc9c0\", \"\\ub300\\uc9c0\", \"\\ub300\\uc9c0\", \"\\ub300\\ucd9c\", \"\\ub300\\ud68c\", \"\\ub300\\ud68c\", \"\\ub300\\ud68c\", \"\\ub300\\ud68c\", \"\\ub3c4\\ub85c\", \"\\ub3c4\\ub85c\", \"\\ub3c4\\ub85c\", \"\\ub3c4\\ub85c\", \"\\ub3c4\\ub85d\", \"\\ub3c4\\ub85d\", \"\\ub3c4\\ub85d\", \"\\ub3c4\\ub85d\", \"\\ub3c4\\uc11c\\uad00\", \"\\ub3c4\\uc11c\\uad00\", \"\\ub3c4\\uc11c\\uad00\", \"\\ub3c4\\uc11c\\uad00\", \"\\ub3c4\\uc785\", \"\\ub3c4\\uc785\", \"\\ub3c4\\uc785\", \"\\ub3c4\\uc785\", \"\\ub3d9\\uc0b0\", \"\\ub3d9\\uc0b0\", \"\\ub3d9\\uc0b0\", \"\\ub3d9\\uc0b0\", \"\\ub3d9\\uc2dd\\ubb3c\", \"\\ub454\\uce58\", \"\\ub454\\uce58\", \"\\ub454\\uce58\", \"\\ub454\\uce58\", \"\\ub458\\ub808\\uae38\", \"\\ub458\\ub808\\uae38\", \"\\ubaa8\\uae30\", \"\\ubaa8\\uae30\", \"\\ubb34\\ub354\\uc704\", \"\\ubb34\\ub354\\uc704\", \"\\ubb34\\ub354\\uc704\", \"\\ubb34\\ub9ac\", \"\\ubb38\\ud654\", \"\\ubb38\\ud654\", \"\\ubb38\\ud654\", \"\\ubb38\\ud654\", \"\\ubc14\\ub2e5\", \"\\ubc14\\ub2e5\", \"\\ubc14\\ub2e5\", \"\\ubc14\\ub2e5\", \"\\ubc18\\ub3c4\", \"\\ubc18\\ub3c4\", \"\\ubc18\\ub824\", \"\\ubc18\\ub824\", \"\\ubc18\\ub824\", \"\\ubc18\\ub824\", \"\\ubc18\\ub824\\uacac\", \"\\ubc18\\ub824\\uacac\", \"\\ubc18\\ub824\\uacac\", \"\\ubc18\\ub824\\uacac\", \"\\ubc18\\ub824\\ub3d9\\ubb3c\", \"\\ubc18\\ub824\\ub3d9\\ubb3c\", \"\\ubc18\\ub824\\ub3d9\\ubb3c\", \"\\ubc18\\ub824\\ub3d9\\ubb3c\", \"\\ubc1c\\uc0dd\", \"\\ubc1c\\uc0dd\", \"\\ubc1c\\uc0dd\", \"\\ubc1c\\uc0dd\", \"\\ubc1c\\ud589\", \"\\ubc29\\uba74\", \"\\ubc29\\uba74\", \"\\ubc29\\uba74\", \"\\ubc29\\ubc94\", \"\\ubc29\\ubc94\", \"\\ubc29\\ubc94\", \"\\ubc29\\uc74c\\ubcbd\", \"\\ubc29\\uc74c\\ubcbd\", \"\\ubc29\\uc74c\\ubcbd\", \"\\ubc29\\uc9c0\", \"\\ubc29\\uc9c0\", \"\\ubc29\\uc9c0\", \"\\ubc29\\uc9c0\", \"\\ubc30\\ubcc0\", \"\\ubc30\\ubcc0\", \"\\ubc30\\uc218\", \"\\ubc30\\uc218\", \"\\ubc30\\ucd9c\", \"\\ubc30\\ucd9c\", \"\\ubc30\\ucd9c\", \"\\ubc30\\ucd9c\", \"\\ubc9a\\uaf43\", \"\\ubc9a\\uaf43\", \"\\ubca4\\uce58\", \"\\ubca4\\uce58\", \"\\ubca4\\uce58\", \"\\ubca4\\uce58\", \"\\ubcbd\\uba74\", \"\\ubcbd\\uba74\", \"\\ubcbd\\uba74\", \"\\ubcbd\\uba74\", \"\\ubcbd\\ud654\", \"\\ubcbd\\ud654\", \"\\ubcbd\\ud654\", \"\\ubcbd\\ud654\", \"\\ubcc4\\uad00\", \"\\ubcc4\\uad00\", \"\\ubcc4\\uad00\", \"\\ubcf4\\uac15\", \"\\ubcf4\\uac15\", \"\\ubcf4\\uac15\", \"\\ubcf4\\ub4dc\", \"\\ubcf4\\ub4dc\", \"\\ubcf4\\ub4dc\", \"\\ubcf4\\ub4dc\", \"\\ubcf4\\ub77c\", \"\\ubcf4\\ub77c\", \"\\ubcf4\\ub77c\", \"\\ubcf4\\ub77c\", \"\\ubcf5\\uac1c\", \"\\ubcf5\\uac1c\", \"\\ubcf5\\uac1c\", \"\\ubcf5\\uac1c\", \"\\ubcf5\\ud569\", \"\\ubcf5\\ud569\", \"\\ubcf5\\ud569\", \"\\ubd09\\ud22c\", \"\\ubd09\\ud22c\", \"\\ubd80\\uc5ec\", \"\\ubd81\\uad6c\", \"\\ubd81\\uad6c\", \"\\ubd81\\uad6c\", \"\\ubd81\\uad6c\", \"\\ubd88\\uac00\\ub2a5\", \"\\ubd88\\uac00\\ub2a5\", \"\\ubd88\\ud3b8\", \"\\ubd88\\ud3b8\", \"\\ubd88\\ud3b8\", \"\\ubd88\\ud3b8\", \"\\ube14\\ub7ed\", \"\\ube14\\ub7ed\", \"\\ube14\\ub7ed\", \"\\ube14\\ub7ed\", \"\\ube14\\ub85d\", \"\\ube14\\ub85d\", \"\\ube14\\ub85d\", \"\\ube44\\uc0b0\", \"\\ube48\\ud130\", \"\\ube57\\ubb3c\", \"\\ube57\\ubb3c\", \"\\ube57\\ubb3c\", \"\\ubfcc\\ub9ac\", \"\\ubfcc\\ub9ac\", \"\\uc0ac\\uace0\", \"\\uc0ac\\uace0\", \"\\uc0ac\\uace0\", \"\\uc0ac\\uace0\", \"\\uc0ac\\ub78c\", \"\\uc0ac\\ub78c\", \"\\uc0ac\\ub78c\", \"\\uc0ac\\ub78c\", \"\\uc0ac\\uc774\", \"\\uc0ac\\uc774\", \"\\uc0ac\\uc774\", \"\\uc0ac\\uc774\", \"\\uc0b0\\ucc45\", \"\\uc0b0\\ucc45\", \"\\uc0b0\\ucc45\", \"\\uc0b0\\ucc45\", \"\\uc0b0\\ucc45\\uae38\", \"\\uc0b0\\ucc45\\uae38\", \"\\uc0b0\\ucc45\\uae38\", \"\\uc0b0\\ucc45\\uae38\", \"\\uc0b0\\ucc45\\ub85c\", \"\\uc0b0\\ucc45\\ub85c\", \"\\uc0b0\\ucc45\\ub85c\", \"\\uc0b0\\ucc45\\ub85c\", \"\\uc0b4\\uade0\", \"\\uc0b4\\uade0\", \"\\uc0c1\\uc601\", \"\\uc0c1\\uc778\", \"\\uc0c1\\uc778\", \"\\uc0c1\\uc778\", \"\\uc0c1\\uc9d5\", \"\\uc0c1\\uc9d5\", \"\\uc0c1\\uc9d5\", \"\\uc0c1\\uc9d5\", \"\\uc0c1\\ud488\", \"\\uc0c1\\ud488\", \"\\uc0dd\\ud65c\", \"\\uc0dd\\ud65c\", \"\\uc0dd\\ud65c\", \"\\uc0dd\\ud65c\", \"\\uc11c\\ube44\\uc2a4\", \"\\uc11c\\ube44\\uc2a4\", \"\\uc11c\\ube44\\uc2a4\", \"\\uc11c\\uc11c\\ud788\", \"\\uc11c\\uc11c\\ud788\", \"\\uc120\\uc801\", \"\\uc124\\uce58\", \"\\uc124\\uce58\", \"\\uc124\\uce58\", \"\\uc124\\uce58\", \"\\uc13c\\ud130\", \"\\uc13c\\ud130\", \"\\uc13c\\ud130\", \"\\uc13c\\ud130\", \"\\uc18c\\uc74c\", \"\\uc18c\\uc74c\", \"\\uc18c\\uc74c\", \"\\uc18c\\uc74c\", \"\\uc18d\\ub3c4\", \"\\uc18d\\ub3c4\", \"\\uc18d\\ub3c4\", \"\\uc18d\\ub3c4\", \"\\uc218\\uc2dc\", \"\\uc218\\uc601\\uc7a5\", \"\\uc218\\uc601\\uc7a5\", \"\\uc220\\ub798\", \"\\uc220\\ub798\", \"\\uc220\\ub798\", \"\\uc2a4\\ud06c\\ub9b0\", \"\\uc2a4\\ud06c\\ub9b0\", \"\\uc2b9\\uac15\\uc7a5\", \"\\uc2dc\\uc124\", \"\\uc2dc\\uc124\", \"\\uc2dc\\uc124\", \"\\uc2dc\\uc124\", \"\\uc2dc\\uc7a5\", \"\\uc2dc\\uc7a5\", \"\\uc2dc\\uc7a5\", \"\\uc2dc\\uc7a5\", \"\\uc2dc\\uccad\", \"\\uc2dc\\uccad\", \"\\uc2dc\\uccad\", \"\\uc2dd\\uc218\", \"\\uc2dd\\uc218\", \"\\uc2dd\\uc218\", \"\\uc2e0\\uc131\\uad50\", \"\\uc2e0\\uc131\\uad50\", \"\\uc2e0\\uc131\\uad50\", \"\\uc2e0\\uc131\\uad50\", \"\\uc2e0\\ucc9c\", \"\\uc2e0\\ucc9c\", \"\\uc2e0\\ucc9c\", \"\\uc2e0\\ucc9c\", \"\\uc2e0\\ucc9c\\ub300\\ub85c\", \"\\uc2e0\\ucc9c\\ub300\\ub85c\", \"\\uc2e0\\ucc9c\\ub300\\ub85c\", \"\\uc2e0\\ucc9c\\ub300\\ub85c\", \"\\uc2e0\\ucc9c\\ub3d9\", \"\\uc2e0\\ucc9c\\ub3d9\", \"\\uc2e0\\ucc9c\\ub3d9\", \"\\uc2e0\\ucc9c\\ub3d9\", \"\\uc2e0\\ucc9c\\ub3d9\\ub85c\", \"\\uc2e0\\ucc9c\\ub3d9\\ub85c\", \"\\uc2e0\\ucc9c\\ub3d9\\ub85c\", \"\\uc2e0\\ucc9c\\ub3d9\\ub85c\", \"\\uc2e0\\ucd95\", \"\\uc2e0\\ucd95\", \"\\uc4f0\\ub808\\uae30\", \"\\uc4f0\\ub808\\uae30\", \"\\uc4f0\\ub808\\uae30\", \"\\uc4f0\\ub808\\uae30\", \"\\uc544\\uc774\\uc720\", \"\\uc544\\uce68\", \"\\uc544\\uce68\", \"\\uc544\\ud30c\\ud2b8\", \"\\uc544\\ud30c\\ud2b8\", \"\\uc544\\ud30c\\ud2b8\", \"\\uc544\\ud30c\\ud2b8\", \"\\uc548\\uc2ec\\ub3c4\\uc11c\\uad00\", \"\\uc548\\uc2ec\\ub3c4\\uc11c\\uad00\", \"\\uc548\\uc804\", \"\\uc548\\uc804\", \"\\uc548\\uc804\", \"\\uc548\\uc804\", \"\\uc560\\uc644\\uacac\", \"\\uc57c\\uac04\", \"\\uc57c\\uac04\", \"\\uc57c\\uac04\", \"\\uc57c\\uac04\", \"\\uc5ed\\uc8fc\\ud589\", \"\\uc5f4\\uc758\", \"\\uc5fc\\uc0c9\", \"\\uc5fc\\uc0c9\", \"\\uc601\\ud654\", \"\\uc608\\uc220\\uac00\", \"\\uc608\\uc220\\uac00\", \"\\uc694\\uccad\", \"\\uc694\\uccad\", \"\\uc694\\uccad\", \"\\uc694\\uccad\", \"\\uc6b0\\ubc29\", \"\\uc6b0\\ubc29\", \"\\uc6b0\\ubc29\", \"\\uc6b4\\ub3d9\", \"\\uc6b4\\ub3d9\", \"\\uc6b4\\ub3d9\", \"\\uc6b4\\ub3d9\", \"\\uc6b4\\ud589\", \"\\uc6b4\\ud589\", \"\\uc6b4\\ud589\", \"\\uc6b4\\ud589\", \"\\uc6d4\\ub9d0\", \"\\uc704\\uc0dd\", \"\\uc704\\uc0dd\", \"\\uc704\\uce58\", \"\\uc704\\uce58\", \"\\uc704\\uce58\", \"\\uc704\\uce58\", \"\\uc704\\ud574\", \"\\uc704\\ud574\", \"\\uc704\\ud574\", \"\\uc704\\ud574\", \"\\uc704\\ud5d8\", \"\\uc704\\ud5d8\", \"\\uc704\\ud5d8\", \"\\uc704\\ud5d8\", \"\\uc720\\ubaa8\\ucc28\", \"\\uc720\\ubaa8\\ucc28\", \"\\uc720\\ubaa8\\ucc28\", \"\\uc720\\ubaa8\\ucc28\", \"\\uc720\\ubcf4\", \"\\uc720\\ucc44\\uaf43\", \"\\uc720\\ucc44\\uaf43\", \"\\uc721\\uad50\", \"\\uc721\\uad50\", \"\\uc721\\uad50\", \"\\uc74c\\uc218\\ub300\", \"\\uc74d\\ub2c8\", \"\\uc74d\\ub2c8\", \"\\uc758\\uacac\", \"\\uc758\\uacac\", \"\\uc758\\uc790\", \"\\uc758\\uc790\", \"\\uc774\\ub098\", \"\\uc774\\ub098\", \"\\uc774\\ub098\", \"\\uc774\\ub098\", \"\\uc774\\uc57c\\uae30\", \"\\uc774\\uc57c\\uae30\", \"\\uc774\\uc57c\\uae30\", \"\\uc774\\uc57c\\uae30\", \"\\uc774\\uc6a9\", \"\\uc774\\uc6a9\", \"\\uc774\\uc6a9\", \"\\uc774\\uc6a9\", \"\\uc778\\uadfc\", \"\\uc778\\uadfc\", \"\\uc778\\uadfc\", \"\\uc778\\uadfc\", \"\\uc778\\ub3c4\", \"\\uc778\\ub3c4\", \"\\uc778\\ub3c4\", \"\\uc778\\ub3c4\", \"\\uc77c\\uccb4\\uc131\", \"\\uc790\\ub8cc\", \"\\uc790\\ub8cc\", \"\\uc790\\ub8cc\", \"\\uc790\\ub8cc\", \"\\uc790\\uc5f0\", \"\\uc790\\uc5f0\", \"\\uc790\\uc5f0\", \"\\uc790\\uc5f0\", \"\\uc790\\uc804\\uac70\", \"\\uc790\\uc804\\uac70\", \"\\uc790\\uc804\\uac70\", \"\\uc790\\uc804\\uac70\", \"\\uc790\\ud310\\uae30\", \"\\uc801\\uc6a9\", \"\\uc804\\uc2dc\\uc7a5\", \"\\uc804\\uc2dc\\uc7a5\", \"\\uc804\\uc2dc\\uc7a5\", \"\\uc804\\uc6a9\", \"\\uc804\\uc6a9\", \"\\uc811\\uc218\", \"\\uc811\\uc218\", \"\\uc815\\ube44\", \"\\uc815\\ube44\", \"\\uc815\\ube44\", \"\\uc815\\ube44\", \"\\uc815\\uc790\", \"\\uc81c\\uacf5\", \"\\uc81c\\uacf5\", \"\\uc81c\\uacf5\", \"\\uc81c\\uacf5\", \"\\uc81c\\uc548\", \"\\uc81c\\uc548\", \"\\uc81c\\uc548\", \"\\uc81c\\uc548\", \"\\uc870\\uba85\", \"\\uc870\\uba85\", \"\\uc870\\uba85\", \"\\uc870\\uba85\", \"\\uc870\\uc131\", \"\\uc870\\uc131\", \"\\uc870\\uc131\", \"\\uc870\\uc131\", \"\\uc870\\ud615\", \"\\uc870\\ud615\", \"\\uc870\\ud615\", \"\\uc870\\ud615\", \"\\uc885\\ud569\", \"\\uc885\\ud569\", \"\\uc885\\ud569\", \"\\uc885\\ud569\", \"\\uc88c\\ud68c\\uc804\", \"\\uc88c\\ud68c\\uc804\", \"\\uc88c\\ud68c\\uc804\", \"\\uc88c\\ud68c\\uc804\", \"\\uc8fc\\ubcc0\", \"\\uc8fc\\ubcc0\", \"\\uc8fc\\ubcc0\", \"\\uc8fc\\ubcc0\", \"\\uc8fc\\uc785\", \"\\uc8fc\\uc785\", \"\\uc8fc\\uc785\", \"\\uc911\\ub3d9\\uad50\", \"\\uc911\\ub3d9\\uad50\", \"\\uc911\\ub3d9\\uad50\", \"\\uc911\\ub3d9\\uad50\", \"\\uc99d\\uac00\", \"\\uc99d\\uac00\", \"\\uc99d\\uac00\", \"\\uc99d\\uac00\", \"\\uc9c0\\ubcd1\", \"\\uc9c0\\ubcd1\", \"\\uc9c0\\ubd95\", \"\\uc9c0\\ubd95\", \"\\uc9c0\\ubd95\", \"\\uc9c0\\ud558\\ub3c4\", \"\\uc9c0\\ud558\\ub3c4\", \"\\uc9c0\\ud558\\ub3c4\", \"\\uc9c0\\ud558\\ucc28\\ub3c4\", \"\\uc9c0\\ud558\\ucc28\\ub3c4\", \"\\uc9c0\\ud558\\ucc28\\ub3c4\", \"\\uc9c0\\ud558\\ucc28\\ub3c4\", \"\\uc9c4\\uc785\", \"\\uc9c4\\uc785\", \"\\uc9c4\\uc785\", \"\\uc9c4\\uc785\", \"\\ucc28\\ub2e8\\uae30\", \"\\ucc28\\ub7c9\", \"\\ucc28\\ub7c9\", \"\\ucc28\\ub7c9\", \"\\ucc28\\ub7c9\", \"\\ucc28\\ub85c\", \"\\ucc28\\ub85c\", \"\\ucc28\\uc120\", \"\\ucc28\\uc120\", \"\\ucc28\\uc120\", \"\\ucc28\\uc120\", \"\\ucca0\\uae38\", \"\\ucca0\\uae38\", \"\\ucca0\\uae38\", \"\\ucca0\\uae38\", \"\\ucca0\\ub3c4\", \"\\ucca0\\ub3c4\", \"\\ucca0\\ub3c4\", \"\\ucca0\\ub3c4\", \"\\uccad\\ub144\", \"\\uccad\\ub144\", \"\\uccad\\ub144\", \"\\uccad\\ub144\", \"\\uccb4\\ud5d8\", \"\\uccb4\\ud5d8\", \"\\uccb4\\ud5d8\", \"\\uccb4\\ud5d8\", \"\\ucd08\\uad50\", \"\\ucd08\\uad50\", \"\\ucd08\\uad50\", \"\\uce58\\ud558\", \"\\uce58\\ud558\", \"\\uce58\\ud558\", \"\\uce58\\ud558\", \"\\uce60\\uc131\", \"\\uce60\\uc131\", \"\\uce60\\uc131\", \"\\uce60\\uc131\", \"\\uce68\\uc218\", \"\\uce68\\uc218\", \"\\uce74\\uba54\\ub77c\", \"\\uce74\\uba54\\ub77c\", \"\\uce74\\uba54\\ub77c\", \"\\uce74\\uba54\\ub77c\", \"\\uce74\\ud398\", \"\\uce90\\uc2a4\", \"\\uce90\\uc2a4\", \"\\ud0c0\\uc77c\", \"\\ud0c0\\uc77c\", \"\\ud0c0\\uc77c\", \"\\ud0c0\\uc77c\", \"\\ud0c4\\uc18c\", \"\\ud1b5\\ud574\", \"\\ud1b5\\ud574\", \"\\ud1b5\\ud574\", \"\\ud1b5\\ud574\", \"\\ud1b5\\ud589\", \"\\ud1b5\\ud589\", \"\\ud1b5\\ud589\", \"\\ud1b5\\ud589\", \"\\ud30c\\uace0\\ub77c\", \"\\ud30c\\uace0\\ub77c\", \"\\ud30c\\ub77c\\uc194\", \"\\ud30c\\ub77c\\uc194\", \"\\ud45c\\uc2dc\", \"\\ud45c\\uc2dc\", \"\\ud45c\\uc2dc\", \"\\ud45c\\uc2dc\", \"\\ud45c\\uc9c0\", \"\\ud45c\\uc9c0\", \"\\ud45c\\uc9c0\", \"\\ud478\\ub978\", \"\\ud478\\ub978\", \"\\ud544\\uc694\", \"\\ud544\\uc694\", \"\\ud544\\uc694\", \"\\ud544\\uc694\", \"\\ud568\\uc9c0\", \"\\ud568\\uc9c0\", \"\\ud574\\ubc14\\ub77c\\uae30\", \"\\ud574\\ubc14\\ub77c\\uae30\", \"\\ud578\\ub4dc\", \"\\ud615\\ud3c9\\uc131\", \"\\ud615\\ud3c9\\uc131\", \"\\ud654\\ubb3c\", \"\\ud654\\ubb3c\", \"\\ud655\\ubcf4\", \"\\ud655\\ubcf4\", \"\\ud655\\ubcf4\", \"\\ud655\\ubcf4\", \"\\ud658\\uacbd\", \"\\ud658\\uacbd\", \"\\ud658\\uacbd\", \"\\ud658\\uacbd\", \"\\ud65c\\uc6a9\", \"\\ud65c\\uc6a9\", \"\\ud65c\\uc6a9\", \"\\ud65c\\uc6a9\", \"\\ud6a1\\ub2e8\\ubcf4\\ub3c4\", \"\\ud6a1\\ub2e8\\ubcf4\\ub3c4\", \"\\ud6a1\\ub2e8\\ubcf4\\ub3c4\", \"\\ud6a1\\ub2e8\\ubcf4\\ub3c4\", \"\\ud700\\uc2a4\", \"\\ud700\\uc2a4\", \"\\ud734\\uba3c\\uc2dc\\uc544\", \"\\ud734\\uba3c\\uc2dc\\uc544\", \"\\ud734\\uc9c0\", \"\\ud734\\uc9c0\"]}, \"R\": 30, \"lambda.step\": 0.01, \"plot.opts\": {\"xlab\": \"PC1\", \"ylab\": \"PC2\"}, \"topic.order\": [3, 2, 1, 4]};\n",
       "\n",
       "function LDAvis_load_lib(url, callback){\n",
       "  var s = document.createElement('script');\n",
       "  s.src = url;\n",
       "  s.async = true;\n",
       "  s.onreadystatechange = s.onload = callback;\n",
       "  s.onerror = function(){console.warn(\"failed to load library \" + url);};\n",
       "  document.getElementsByTagName(\"head\")[0].appendChild(s);\n",
       "}\n",
       "\n",
       "if(typeof(LDAvis) !== \"undefined\"){\n",
       "   // already loaded: just create the visualization\n",
       "   !function(LDAvis){\n",
       "       new LDAvis(\"#\" + \"ldavis_el1486821650120534482443256758\", ldavis_el1486821650120534482443256758_data);\n",
       "   }(LDAvis);\n",
       "}else if(typeof define === \"function\" && define.amd){\n",
       "   // require.js is available: use it to load d3/LDAvis\n",
       "   require.config({paths: {d3: \"https://d3js.org/d3.v5\"}});\n",
       "   require([\"d3\"], function(d3){\n",
       "      window.d3 = d3;\n",
       "      LDAvis_load_lib(\"https://cdn.jsdelivr.net/gh/bmabey/pyLDAvis@3.3.1/pyLDAvis/js/ldavis.v3.0.0.js\", function(){\n",
       "        new LDAvis(\"#\" + \"ldavis_el1486821650120534482443256758\", ldavis_el1486821650120534482443256758_data);\n",
       "      });\n",
       "    });\n",
       "}else{\n",
       "    // require.js not available: dynamically load d3 & LDAvis\n",
       "    LDAvis_load_lib(\"https://d3js.org/d3.v5.js\", function(){\n",
       "         LDAvis_load_lib(\"https://cdn.jsdelivr.net/gh/bmabey/pyLDAvis@3.3.1/pyLDAvis/js/ldavis.v3.0.0.js\", function(){\n",
       "                 new LDAvis(\"#\" + \"ldavis_el1486821650120534482443256758\", ldavis_el1486821650120534482443256758_data);\n",
       "            })\n",
       "         });\n",
       "}\n",
       "</script>"
      ],
      "text/plain": [
       "PreparedData(topic_coordinates=              x         y  topics  cluster       Freq\n",
       "topic                                                \n",
       "2     -0.043098  0.005878       1        1  35.854699\n",
       "1      0.045303 -0.009189       2        1  27.817100\n",
       "0     -0.009541 -0.038238       3        1  21.307749\n",
       "3      0.007336  0.041550       4        1  15.020452, topic_info=     Term        Freq       Total Category  logprob  loglift\n",
       "401    시장   58.000000   58.000000  Default  30.0000  30.0000\n",
       "722    인도   67.000000   67.000000  Default  29.0000  29.0000\n",
       "792    벚꽃   34.000000   34.000000  Default  28.0000  28.0000\n",
       "17     신천  755.000000  755.000000  Default  27.0000  27.0000\n",
       "194   도서관   78.000000   78.000000  Default  26.0000  26.0000\n",
       "..    ...         ...         ...      ...      ...      ...\n",
       "490    차량   13.158094   85.183380   Topic4  -5.4503   0.0280\n",
       "129    공원   14.979095  134.720917   Topic4  -5.3206  -0.3008\n",
       "402  신천대로   13.535619   99.474511   Topic4  -5.4220  -0.0988\n",
       "201    이용   16.039414  232.579665   Topic4  -5.2522  -0.7784\n",
       "26     치하   12.568489  117.609198   Topic4  -5.4961  -0.3404\n",
       "\n",
       "[303 rows x 6 columns], token_table=      Topic      Freq  Term\n",
       "term                       \n",
       "583       1  0.360399    가능\n",
       "583       2  0.440487    가능\n",
       "583       3  0.120133    가능\n",
       "583       4  0.080089    가능\n",
       "724       1  0.115999    가을\n",
       "...     ...       ...   ...\n",
       "785       4  0.181847    휀스\n",
       "1449      2  0.480929  휴먼시아\n",
       "1449      4  0.480929  휴먼시아\n",
       "1668      1  0.647109    휴지\n",
       "1668      2  0.215703    휴지\n",
       "\n",
       "[676 rows x 3 columns], R=30, lambda_step=0.01, plot_opts={'xlab': 'PC1', 'ylab': 'PC2'}, topic_order=[3, 2, 1, 4])"
      ]
     },
     "execution_count": 84,
     "metadata": {},
     "output_type": "execute_result"
    }
   ],
   "source": [
    "import pyLDAvis\n",
    "import pyLDAvis.gensim_models as gensimvis\n",
    "pyLDAvis.enable_notebook()\n",
    "\n",
    "import warnings\n",
    "warnings.filterwarnings(\"ignore\", category=DeprecationWarning) \n",
    "\n",
    "model = LdaModel(corpus=corpus, id2word=id2word, num_topics=4)\n",
    "ldaVis = gensimvis.prepare(model, corpus, dictionary)\n",
    "pyLDAvis.save_html(ldaVis, 'sincheon.html')\n",
    "ldaVis"
   ]
  },
  {
   "cell_type": "code",
   "execution_count": null,
   "metadata": {},
   "outputs": [],
   "source": []
  }
 ],
 "metadata": {
  "kernelspec": {
   "display_name": "Python 3.7.13 ('sklearn')",
   "language": "python",
   "name": "python3"
  },
  "language_info": {
   "codemirror_mode": {
    "name": "ipython",
    "version": 3
   },
   "file_extension": ".py",
   "mimetype": "text/x-python",
   "name": "python",
   "nbconvert_exporter": "python",
   "pygments_lexer": "ipython3",
   "version": "3.7.13"
  },
  "orig_nbformat": 4,
  "vscode": {
   "interpreter": {
    "hash": "4587f29e858e226412890b0be53498441dc114019e1a475fd5ac3bcafcae93fa"
   }
  }
 },
 "nbformat": 4,
 "nbformat_minor": 2
}
