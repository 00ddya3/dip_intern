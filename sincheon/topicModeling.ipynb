{
 "cells": [
  {
   "cell_type": "code",
   "execution_count": 3,
   "metadata": {},
   "outputs": [
    {
     "data": {
      "text/html": [
       "<div>\n",
       "<style scoped>\n",
       "    .dataframe tbody tr th:only-of-type {\n",
       "        vertical-align: middle;\n",
       "    }\n",
       "\n",
       "    .dataframe tbody tr th {\n",
       "        vertical-align: top;\n",
       "    }\n",
       "\n",
       "    .dataframe thead th {\n",
       "        text-align: right;\n",
       "    }\n",
       "</style>\n",
       "<table border=\"1\" class=\"dataframe\">\n",
       "  <thead>\n",
       "    <tr style=\"text-align: right;\">\n",
       "      <th></th>\n",
       "      <th>부서</th>\n",
       "      <th>사업명</th>\n",
       "      <th>제안취지</th>\n",
       "      <th>사업내용</th>\n",
       "    </tr>\n",
       "  </thead>\n",
       "  <tbody>\n",
       "    <tr>\n",
       "      <th>0</th>\n",
       "      <td>자연재난과</td>\n",
       "      <td>무더운 대구의 여름을 위한 물놀이사업</td>\n",
       "      <td>대프리카라고 불리는 대구시에 물놀이장을 각 구마다 설치하여 주민들의 편의를 도모하는...</td>\n",
       "      <td>현재 수도권지역이나 다른 광역시에서는 여름이 되면 각 구마다  물놀이를 할 수 있는...</td>\n",
       "    </tr>\n",
       "    <tr>\n",
       "      <th>1</th>\n",
       "      <td>공원녹지과</td>\n",
       "      <td>신천동로 중앙분리대 교각 주변 녹지공간 조성</td>\n",
       "      <td>○ 신천동로에 있는 신성교, 신천철도교, 신천교, 동신교 중앙분리대 교각 주변 나대...</td>\n",
       "      <td>○ 신천동로 신성교, 신천철도교, 신천교, 동신교 교각 주변 녹지&lt;br&gt;  공간 조...</td>\n",
       "    </tr>\n",
       "    <tr>\n",
       "      <th>2</th>\n",
       "      <td>도시디자인과</td>\n",
       "      <td>참 좋은 일자리가 만들어가는 학교 가는 길</td>\n",
       "      <td>효신초등학교 등굣길에 위치한 구 동부정류장 담벼락 보기 흉한 상태로 방치되어&lt;br&gt;...</td>\n",
       "      <td>󰋻구 동부정류장 담장 도색 &lt;br&gt;󰋻보호 팬스 설치 후 장미넝쿨 식재&lt;br&gt;󰋻도색,...</td>\n",
       "    </tr>\n",
       "    <tr>\n",
       "      <th>3</th>\n",
       "      <td>NaN</td>\n",
       "      <td>침산교-금호대교 사이 오수배출시설 개선 및 보행자 교각 설치</td>\n",
       "      <td>침산교 – 금호대교 사이 오수 배출시설에 대한 환경 개선 및 보행자 통행을 위한 교...</td>\n",
       "      <td>○ 신천과 금호강변은 많은 대구시민이 산책(걷기, 마라톤, 자전거 등)을 즐기는 곳...</td>\n",
       "    </tr>\n",
       "    <tr>\n",
       "      <th>4</th>\n",
       "      <td>여성가족정책관</td>\n",
       "      <td>제8회평화와인권을위한대구시민걷기대회 “양성평등한 세상 함께 만들어요!”</td>\n",
       "      <td>일본군‘위안부’문제를 올바르게 해결하고 전쟁 없는 평화로운 미래와 여성인권&lt;br&gt;이...</td>\n",
       "      <td>§ 사 업 명: 제8회평화와인권을위한대구시민걷기대회&lt;br&gt;“양성평등한 세상 함께 만...</td>\n",
       "    </tr>\n",
       "  </tbody>\n",
       "</table>\n",
       "</div>"
      ],
      "text/plain": [
       "        부서                                      사업명  \\\n",
       "0    자연재난과                     무더운 대구의 여름을 위한 물놀이사업   \n",
       "1    공원녹지과                 신천동로 중앙분리대 교각 주변 녹지공간 조성   \n",
       "2   도시디자인과                  참 좋은 일자리가 만들어가는 학교 가는 길   \n",
       "3      NaN        침산교-금호대교 사이 오수배출시설 개선 및 보행자 교각 설치   \n",
       "4  여성가족정책관  제8회평화와인권을위한대구시민걷기대회 “양성평등한 세상 함께 만들어요!”   \n",
       "\n",
       "                                                제안취지  \\\n",
       "0  대프리카라고 불리는 대구시에 물놀이장을 각 구마다 설치하여 주민들의 편의를 도모하는...   \n",
       "1  ○ 신천동로에 있는 신성교, 신천철도교, 신천교, 동신교 중앙분리대 교각 주변 나대...   \n",
       "2  효신초등학교 등굣길에 위치한 구 동부정류장 담벼락 보기 흉한 상태로 방치되어<br>...   \n",
       "3  침산교 – 금호대교 사이 오수 배출시설에 대한 환경 개선 및 보행자 통행을 위한 교...   \n",
       "4  일본군‘위안부’문제를 올바르게 해결하고 전쟁 없는 평화로운 미래와 여성인권<br>이...   \n",
       "\n",
       "                                                사업내용  \n",
       "0  현재 수도권지역이나 다른 광역시에서는 여름이 되면 각 구마다  물놀이를 할 수 있는...  \n",
       "1  ○ 신천동로 신성교, 신천철도교, 신천교, 동신교 교각 주변 녹지<br>  공간 조...  \n",
       "2  󰋻구 동부정류장 담장 도색 <br>󰋻보호 팬스 설치 후 장미넝쿨 식재<br>󰋻도색,...  \n",
       "3  ○ 신천과 금호강변은 많은 대구시민이 산책(걷기, 마라톤, 자전거 등)을 즐기는 곳...  \n",
       "4  § 사 업 명: 제8회평화와인권을위한대구시민걷기대회<br>“양성평등한 세상 함께 만...  "
      ]
     },
     "execution_count": 3,
     "metadata": {},
     "output_type": "execute_result"
    }
   ],
   "source": [
    "import pandas as pd\n",
    "import re\n",
    "\n",
    "df1 = pd.read_csv('./rawdata/sincheon_minwon.csv')\n",
    "df1.drop(columns=['Unnamed: 0'], inplace=True)\n",
    "df1.head()"
   ]
  },
  {
   "cell_type": "code",
   "execution_count": 4,
   "metadata": {},
   "outputs": [
    {
     "data": {
      "text/html": [
       "<div>\n",
       "<style scoped>\n",
       "    .dataframe tbody tr th:only-of-type {\n",
       "        vertical-align: middle;\n",
       "    }\n",
       "\n",
       "    .dataframe tbody tr th {\n",
       "        vertical-align: top;\n",
       "    }\n",
       "\n",
       "    .dataframe thead th {\n",
       "        text-align: right;\n",
       "    }\n",
       "</style>\n",
       "<table border=\"1\" class=\"dataframe\">\n",
       "  <thead>\n",
       "    <tr style=\"text-align: right;\">\n",
       "      <th></th>\n",
       "      <th>부서</th>\n",
       "      <th>사업명</th>\n",
       "      <th>제안취지</th>\n",
       "      <th>사업내용</th>\n",
       "      <th>text</th>\n",
       "    </tr>\n",
       "  </thead>\n",
       "  <tbody>\n",
       "    <tr>\n",
       "      <th>0</th>\n",
       "      <td>자연재난과</td>\n",
       "      <td>무더운 대구의 여름을 위한 물놀이사업</td>\n",
       "      <td>대프리카라고 불리는 대구시에 물놀이장을 각 구마다 설치하여 주민들의 편의를 도모하는...</td>\n",
       "      <td>현재 수도권지역이나 다른 광역시에서는 여름이 되면 각 구마다  물놀이를 할 수 있는...</td>\n",
       "      <td>무더운 대구의 여름을 위한 물놀이사업 대프리카라고 불리는 대구시에 물놀이장을 각 구...</td>\n",
       "    </tr>\n",
       "    <tr>\n",
       "      <th>1</th>\n",
       "      <td>공원녹지과</td>\n",
       "      <td>신천동로 중앙분리대 교각 주변 녹지공간 조성</td>\n",
       "      <td>신천동로에 있는 신성교  신천철도교  신천교  동신교 중앙분리대 교각 주변 나대...</td>\n",
       "      <td>신천동로 신성교  신천철도교  신천교  동신교 교각 주변 녹지      공간 조...</td>\n",
       "      <td>신천동로 중앙분리대 교각 주변 녹지공간 조성   신천동로에 있는 신성교  신천철도교...</td>\n",
       "    </tr>\n",
       "    <tr>\n",
       "      <th>2</th>\n",
       "      <td>도시디자인과</td>\n",
       "      <td>참 좋은 일자리가 만들어가는 학교 가는 길</td>\n",
       "      <td>효신초등학교 등굣길에 위치한 구 동부정류장 담벼락 보기 흉한 상태로 방치되어    ...</td>\n",
       "      <td>구 동부정류장 담장 도색      보호 팬스 설치 후 장미넝쿨 식재     도색 ...</td>\n",
       "      <td>참 좋은 일자리가 만들어가는 학교 가는 길 효신초등학교 등굣길에 위치한 구 동부정류...</td>\n",
       "    </tr>\n",
       "    <tr>\n",
       "      <th>3</th>\n",
       "      <td>NaN</td>\n",
       "      <td>침산교 금호대교 사이 오수배출시설 개선 및 보행자 교각 설치</td>\n",
       "      <td>침산교   금호대교 사이 오수 배출시설에 대한 환경 개선 및 보행자 통행을 위한 교...</td>\n",
       "      <td>신천과 금호강변은 많은 대구시민이 산책 걷기  마라톤  자전거 등 을 즐기는 곳...</td>\n",
       "      <td>침산교 금호대교 사이 오수배출시설 개선 및 보행자 교각 설치 침산교   금호대교 사...</td>\n",
       "    </tr>\n",
       "    <tr>\n",
       "      <th>4</th>\n",
       "      <td>여성가족정책관</td>\n",
       "      <td>제 회평화와인권을위한대구시민걷기대회  양성평등한 세상 함께 만들어요</td>\n",
       "      <td>일본군 위안부 문제를 올바르게 해결하고 전쟁 없는 평화로운 미래와 여성인권    이...</td>\n",
       "      <td>사 업 명  제 회평화와인권을위한대구시민걷기대회     양성평등한 세상 함께 만...</td>\n",
       "      <td>제 회평화와인권을위한대구시민걷기대회  양성평등한 세상 함께 만들어요   일본군 위안...</td>\n",
       "    </tr>\n",
       "  </tbody>\n",
       "</table>\n",
       "</div>"
      ],
      "text/plain": [
       "        부서                                      사업명  \\\n",
       "0    자연재난과                     무더운 대구의 여름을 위한 물놀이사업   \n",
       "1    공원녹지과                 신천동로 중앙분리대 교각 주변 녹지공간 조성   \n",
       "2   도시디자인과                  참 좋은 일자리가 만들어가는 학교 가는 길   \n",
       "3      NaN        침산교 금호대교 사이 오수배출시설 개선 및 보행자 교각 설치   \n",
       "4  여성가족정책관  제 회평화와인권을위한대구시민걷기대회  양성평등한 세상 함께 만들어요     \n",
       "\n",
       "                                                제안취지  \\\n",
       "0  대프리카라고 불리는 대구시에 물놀이장을 각 구마다 설치하여 주민들의 편의를 도모하는...   \n",
       "1    신천동로에 있는 신성교  신천철도교  신천교  동신교 중앙분리대 교각 주변 나대...   \n",
       "2  효신초등학교 등굣길에 위치한 구 동부정류장 담벼락 보기 흉한 상태로 방치되어    ...   \n",
       "3  침산교   금호대교 사이 오수 배출시설에 대한 환경 개선 및 보행자 통행을 위한 교...   \n",
       "4  일본군 위안부 문제를 올바르게 해결하고 전쟁 없는 평화로운 미래와 여성인권    이...   \n",
       "\n",
       "                                                사업내용  \\\n",
       "0  현재 수도권지역이나 다른 광역시에서는 여름이 되면 각 구마다  물놀이를 할 수 있는...   \n",
       "1    신천동로 신성교  신천철도교  신천교  동신교 교각 주변 녹지      공간 조...   \n",
       "2   구 동부정류장 담장 도색      보호 팬스 설치 후 장미넝쿨 식재     도색 ...   \n",
       "3    신천과 금호강변은 많은 대구시민이 산책 걷기  마라톤  자전거 등 을 즐기는 곳...   \n",
       "4    사 업 명  제 회평화와인권을위한대구시민걷기대회     양성평등한 세상 함께 만...   \n",
       "\n",
       "                                                text  \n",
       "0  무더운 대구의 여름을 위한 물놀이사업 대프리카라고 불리는 대구시에 물놀이장을 각 구...  \n",
       "1  신천동로 중앙분리대 교각 주변 녹지공간 조성   신천동로에 있는 신성교  신천철도교...  \n",
       "2  참 좋은 일자리가 만들어가는 학교 가는 길 효신초등학교 등굣길에 위치한 구 동부정류...  \n",
       "3  침산교 금호대교 사이 오수배출시설 개선 및 보행자 교각 설치 침산교   금호대교 사...  \n",
       "4  제 회평화와인권을위한대구시민걷기대회  양성평등한 세상 함께 만들어요   일본군 위안...  "
      ]
     },
     "execution_count": 4,
     "metadata": {},
     "output_type": "execute_result"
    }
   ],
   "source": [
    "#중복행 제거\n",
    "df1 = df1.drop_duplicates(subset=['사업명'] ,keep='first').reset_index(drop=True)   # 사업명을 기준으로 중복 데이터 18개 삭제\n",
    "\n",
    "\n",
    "#텍스트 정제\n",
    "df1['사업명'] = df1['사업명'].apply(lambda x : re.sub(r'[^가-힣]',' ', x))  #한글 빼고 전부 제거\n",
    "df1['제안취지'] = df1['제안취지'].apply(lambda x : re.sub(r'[^가-힣]',' ', x))  #한글 빼고 전부 제거\n",
    "df1['사업내용'] = df1['사업내용'].apply(lambda x : re.sub(r'[^가-힣]',' ', x))  #한글 빼고 전부 제거\n",
    "\n",
    "#모든 내용을 담은 열 생성\n",
    "df1['text'] = df1['사업명'] + ' ' + df1['제안취지'] + ' ' + df1['사업내용'] + ' '\n",
    "\n",
    "df1.head()\n"
   ]
  },
  {
   "cell_type": "code",
   "execution_count": 5,
   "metadata": {},
   "outputs": [
    {
     "name": "stderr",
     "output_type": "stream",
     "text": [
      "c:\\Anaconda3\\envs\\sklearn\\lib\\importlib\\_bootstrap.py:219: RuntimeWarning: numpy.ufunc size changed, may indicate binary incompatibility. Expected 192 from C header, got 216 from PyObject\n",
      "  return f(*args, **kwds)\n"
     ]
    },
    {
     "data": {
      "text/plain": [
       "\"\\n#외래어 읽어오기\\nloanwords = pd.read_csv('loanwords.txt', encoding = 'cp949')\\nloanwords = loanwords['word'].tolist()\\nfor word in loanwords :\\n    okt.add_dictionary(word, 'Noun')\\n\""
      ]
     },
     "execution_count": 5,
     "metadata": {},
     "output_type": "execute_result"
    }
   ],
   "source": [
    "from sklearn.feature_extraction.text import CountVectorizer\n",
    "from sklearn.decomposition import LatentDirichletAllocation\n",
    "from konlpy.tag import Okt\n",
    "from pykospacing import Spacing\n",
    "\n",
    "okt = Okt()\n",
    "spacing = Spacing()\n",
    "\n",
    "#불용어 읽어오기\n",
    "stopwords = pd.read_csv(\"stopwords.txt\")\n",
    "stopwords = stopwords['word'].tolist()\n",
    "\n",
    "\"\"\"\n",
    "#외래어 읽어오기\n",
    "loanwords = pd.read_csv('loanwords.txt', encoding = 'cp949')\n",
    "loanwords = loanwords['word'].tolist()\n",
    "for word in loanwords :\n",
    "    okt.add_dictionary(word, 'Noun')\n",
    "\"\"\""
   ]
  },
  {
   "cell_type": "code",
   "execution_count": 6,
   "metadata": {},
   "outputs": [
    {
     "data": {
      "text/html": [
       "<div>\n",
       "<style scoped>\n",
       "    .dataframe tbody tr th:only-of-type {\n",
       "        vertical-align: middle;\n",
       "    }\n",
       "\n",
       "    .dataframe tbody tr th {\n",
       "        vertical-align: top;\n",
       "    }\n",
       "\n",
       "    .dataframe thead th {\n",
       "        text-align: right;\n",
       "    }\n",
       "</style>\n",
       "<table border=\"1\" class=\"dataframe\">\n",
       "  <thead>\n",
       "    <tr style=\"text-align: right;\">\n",
       "      <th></th>\n",
       "      <th>부서</th>\n",
       "      <th>사업명</th>\n",
       "      <th>제안취지</th>\n",
       "      <th>사업내용</th>\n",
       "      <th>text</th>\n",
       "      <th>tokens</th>\n",
       "    </tr>\n",
       "  </thead>\n",
       "  <tbody>\n",
       "    <tr>\n",
       "      <th>0</th>\n",
       "      <td>자연재난과</td>\n",
       "      <td>무더운 대구의 여름을 위한 물놀이사업</td>\n",
       "      <td>대프리카라고 불리는 대구시에 물놀이장을 각 구마다 설치하여 주민들의 편의를 도모하는...</td>\n",
       "      <td>현재 수도권지역이나 다른 광역시에서는 여름이 되면 각 구마다  물놀이를 할 수 있는...</td>\n",
       "      <td>무더운 대구의 여름을 위한 물놀이사업 대프리카라고 불리는 대구시에 물놀이장을 각 구...</td>\n",
       "      <td>대구 여름 물놀이 사업 프리 카라 대구시 물놀이 구마 설치 주민 편의 목적 현재 수...</td>\n",
       "    </tr>\n",
       "    <tr>\n",
       "      <th>1</th>\n",
       "      <td>공원녹지과</td>\n",
       "      <td>신천동로 중앙분리대 교각 주변 녹지공간 조성</td>\n",
       "      <td>신천동로에 있는 신성교  신천철도교  신천교  동신교 중앙분리대 교각 주변 나대...</td>\n",
       "      <td>신천동로 신성교  신천철도교  신천교  동신교 교각 주변 녹지      공간 조...</td>\n",
       "      <td>신천동로 중앙분리대 교각 주변 녹지공간 조성   신천동로에 있는 신성교  신천철도교...</td>\n",
       "      <td>신천동로 중앙 분리 교각 주변 녹지 공간 조성 신천동로 성교 신천 도교 신천 신교 ...</td>\n",
       "    </tr>\n",
       "    <tr>\n",
       "      <th>2</th>\n",
       "      <td>도시디자인과</td>\n",
       "      <td>참 좋은 일자리가 만들어가는 학교 가는 길</td>\n",
       "      <td>효신초등학교 등굣길에 위치한 구 동부정류장 담벼락 보기 흉한 상태로 방치되어    ...</td>\n",
       "      <td>구 동부정류장 담장 도색      보호 팬스 설치 후 장미넝쿨 식재     도색 ...</td>\n",
       "      <td>참 좋은 일자리가 만들어가는 학교 가는 길 효신초등학교 등굣길에 위치한 구 동부정류...</td>\n",
       "      <td>일자리 학교 초등학교 등굣길 위치 정류장 담벼락 보기 상태 방치 도시 미관 크게 훼...</td>\n",
       "    </tr>\n",
       "    <tr>\n",
       "      <th>3</th>\n",
       "      <td>NaN</td>\n",
       "      <td>침산교 금호대교 사이 오수배출시설 개선 및 보행자 교각 설치</td>\n",
       "      <td>침산교   금호대교 사이 오수 배출시설에 대한 환경 개선 및 보행자 통행을 위한 교...</td>\n",
       "      <td>신천과 금호강변은 많은 대구시민이 산책 걷기  마라톤  자전거 등 을 즐기는 곳...</td>\n",
       "      <td>침산교 금호대교 사이 오수배출시설 개선 및 보행자 교각 설치 침산교   금호대교 사...</td>\n",
       "      <td>침산교 금호 대교 사이 오수 배출 시설 개선 보행자 교각 설치 침산교 금호 대교 사...</td>\n",
       "    </tr>\n",
       "    <tr>\n",
       "      <th>4</th>\n",
       "      <td>여성가족정책관</td>\n",
       "      <td>제 회평화와인권을위한대구시민걷기대회  양성평등한 세상 함께 만들어요</td>\n",
       "      <td>일본군 위안부 문제를 올바르게 해결하고 전쟁 없는 평화로운 미래와 여성인권    이...</td>\n",
       "      <td>사 업 명  제 회평화와인권을위한대구시민걷기대회     양성평등한 세상 함께 만...</td>\n",
       "      <td>제 회평화와인권을위한대구시민걷기대회  양성평등한 세상 함께 만들어요   일본군 위안...</td>\n",
       "      <td>평화 인권 대구 시민 걷기 대회 양성평등 세상 일본군 위안부 문제 해결 전쟁 미래 ...</td>\n",
       "    </tr>\n",
       "  </tbody>\n",
       "</table>\n",
       "</div>"
      ],
      "text/plain": [
       "        부서                                      사업명  \\\n",
       "0    자연재난과                     무더운 대구의 여름을 위한 물놀이사업   \n",
       "1    공원녹지과                 신천동로 중앙분리대 교각 주변 녹지공간 조성   \n",
       "2   도시디자인과                  참 좋은 일자리가 만들어가는 학교 가는 길   \n",
       "3      NaN        침산교 금호대교 사이 오수배출시설 개선 및 보행자 교각 설치   \n",
       "4  여성가족정책관  제 회평화와인권을위한대구시민걷기대회  양성평등한 세상 함께 만들어요     \n",
       "\n",
       "                                                제안취지  \\\n",
       "0  대프리카라고 불리는 대구시에 물놀이장을 각 구마다 설치하여 주민들의 편의를 도모하는...   \n",
       "1    신천동로에 있는 신성교  신천철도교  신천교  동신교 중앙분리대 교각 주변 나대...   \n",
       "2  효신초등학교 등굣길에 위치한 구 동부정류장 담벼락 보기 흉한 상태로 방치되어    ...   \n",
       "3  침산교   금호대교 사이 오수 배출시설에 대한 환경 개선 및 보행자 통행을 위한 교...   \n",
       "4  일본군 위안부 문제를 올바르게 해결하고 전쟁 없는 평화로운 미래와 여성인권    이...   \n",
       "\n",
       "                                                사업내용  \\\n",
       "0  현재 수도권지역이나 다른 광역시에서는 여름이 되면 각 구마다  물놀이를 할 수 있는...   \n",
       "1    신천동로 신성교  신천철도교  신천교  동신교 교각 주변 녹지      공간 조...   \n",
       "2   구 동부정류장 담장 도색      보호 팬스 설치 후 장미넝쿨 식재     도색 ...   \n",
       "3    신천과 금호강변은 많은 대구시민이 산책 걷기  마라톤  자전거 등 을 즐기는 곳...   \n",
       "4    사 업 명  제 회평화와인권을위한대구시민걷기대회     양성평등한 세상 함께 만...   \n",
       "\n",
       "                                                text  \\\n",
       "0  무더운 대구의 여름을 위한 물놀이사업 대프리카라고 불리는 대구시에 물놀이장을 각 구...   \n",
       "1  신천동로 중앙분리대 교각 주변 녹지공간 조성   신천동로에 있는 신성교  신천철도교...   \n",
       "2  참 좋은 일자리가 만들어가는 학교 가는 길 효신초등학교 등굣길에 위치한 구 동부정류...   \n",
       "3  침산교 금호대교 사이 오수배출시설 개선 및 보행자 교각 설치 침산교   금호대교 사...   \n",
       "4  제 회평화와인권을위한대구시민걷기대회  양성평등한 세상 함께 만들어요   일본군 위안...   \n",
       "\n",
       "                                              tokens  \n",
       "0  대구 여름 물놀이 사업 프리 카라 대구시 물놀이 구마 설치 주민 편의 목적 현재 수...  \n",
       "1  신천동로 중앙 분리 교각 주변 녹지 공간 조성 신천동로 성교 신천 도교 신천 신교 ...  \n",
       "2  일자리 학교 초등학교 등굣길 위치 정류장 담벼락 보기 상태 방치 도시 미관 크게 훼...  \n",
       "3  침산교 금호 대교 사이 오수 배출 시설 개선 보행자 교각 설치 침산교 금호 대교 사...  \n",
       "4  평화 인권 대구 시민 걷기 대회 양성평등 세상 일본군 위안부 문제 해결 전쟁 미래 ...  "
      ]
     },
     "execution_count": 6,
     "metadata": {},
     "output_type": "execute_result"
    }
   ],
   "source": [
    "# remove stopwords + tokeninzing\n",
    "content = df1['text'].tolist()\n",
    "\n",
    "tks=[]\n",
    "for sentence in content :\n",
    "    kospacing_sent = spacing(sentence) # 띄워쓰기 보완\n",
    "    noun_sent = okt.nouns(kospacing_sent) # 명사만 추출\n",
    "    over_two_sent = [word for word in noun_sent if len(word) > 1]   # 2글자 이상인 단어만 사용\n",
    "    stopwords_removed_sentence = [word for word in over_two_sent if not word in stopwords] # 불용어 제거\n",
    "    tks.append(stopwords_removed_sentence)\n",
    "\n",
    "clean_sents = []\n",
    "for tk in tks :\n",
    "    clean_sents.append(\" \".join(tk))\n",
    "\n",
    "#토큰화된 단어로만 이루어진 DF\n",
    "df2 = pd.DataFrame(columns=['tokens'], data = clean_sents)\n",
    "df3 = pd.concat([df1, df2], axis=1)\n",
    "\n",
    "df3.head()"
   ]
  },
  {
   "cell_type": "code",
   "execution_count": null,
   "metadata": {},
   "outputs": [],
   "source": [
    "clean_sents"
   ]
  },
  {
   "cell_type": "code",
   "execution_count": 7,
   "metadata": {},
   "outputs": [
    {
     "name": "stdout",
     "output_type": "stream",
     "text": [
      "(5, 1000)\n",
      "[[2.20101518 0.20150739 3.36105287 ... 1.20043162 8.82397627 0.2033385 ]\n",
      " [0.20294178 4.19664103 9.79445555 ... 0.20651032 2.67221504 6.26643157]\n",
      " [0.20000862 0.20000362 4.20975053 ... 0.2000082  1.71552193 1.43855566]\n",
      " [2.19499573 0.20000116 3.64268651 ... 3.19304449 6.63325677 5.87247945]\n",
      " [3.20103869 0.2018468  0.99205453 ... 0.20000537 6.15502999 0.21919483]]\n"
     ]
    }
   ],
   "source": [
    "## 텍스트 데이터를 단어 빈도수에 기반해 벡터화시키기\n",
    "# max_df = 토큰이 나타날 최대 문서 개수 -> 소수점이면 비중\n",
    "# max_features = corpus 중 빈도수가 가장 높은 순으로 해당 개수만큼만 뽑아냄\n",
    "# min_df = 토큰이 나타날 최소 문서 개수 -> 정수면 횟수\n",
    "# ngram_range = (min_n, max_n) 튜플, 단어장 생성에 사용할 토큰의 크기를 결정\n",
    "count_vect = CountVectorizer(max_df=0.95, max_features=1000,\n",
    "                            min_df=2, ngram_range=(1,1))\n",
    "# feature 리스케일링 해서 feature 평균이 0 분산이 1 되게 만들어줌\n",
    "#fit_transfrom은 train dataset에서만 사용\n",
    "ftr_vect = count_vect.fit_transform(df3['tokens'])\n",
    "\n",
    "# LDA 클래스 사용해 피쳐 벡터화시킨 거 토픽모델링\n",
    "# n_components = 토픽개수\n",
    "lda = LatentDirichletAllocation(n_components=5, random_state=42)\n",
    "lda.fit(ftr_vect)\n",
    "\n",
    "# 각 토픽\n",
    "print(lda.components_.shape)\n",
    "# 단어들을 벡터화한 feature\n",
    "print(lda.components_)"
   ]
  },
  {
   "cell_type": "code",
   "execution_count": 8,
   "metadata": {},
   "outputs": [
    {
     "name": "stdout",
     "output_type": "stream",
     "text": [
      "\n",
      "Topic # 1\n",
      "신천*247.6+이용*129.1+설치*96.0+도서관*65.0+시장*60.4+시설*53.8+인도*50.8+대구*48.4+주민*45.9+개선*44.6\n",
      "\n",
      "Topic # 2\n",
      "설치*335.2+신천*136.9+도로*108.7+차량*84.0+안전*72.2+사고*63.8+운동*61.7+신천대로*60.8+주민*46.0+차선*42.2\n",
      "\n",
      "Topic # 3\n",
      "신천*42.2+보라*42.2+벚꽃*41.2+동산*37.2+화장실*32.0+마을*29.3+공간*29.3+문화*27.3+나무*21.7+조성*19.9\n",
      "\n",
      "Topic # 4\n",
      "신천*285.0+설치*190.8+대구*131.4+주민*111.6+사업*98.2+자전거*96.8+지역*85.9+시민*78.1+환경*61.7+공간*52.7\n",
      "\n",
      "Topic # 5\n",
      "설치*129.6+신천*115.3+공원*92.5+공간*71.2+조성*63.7+시설*57.3+주민*46.5+이용*40.7+자전거*37.2+벤치*37.2\n"
     ]
    },
    {
     "name": "stderr",
     "output_type": "stream",
     "text": [
      "c:\\Anaconda3\\envs\\sklearn\\lib\\site-packages\\sklearn\\utils\\deprecation.py:87: FutureWarning: Function get_feature_names is deprecated; get_feature_names is deprecated in 1.0 and will be removed in 1.2. Please use get_feature_names_out instead.\n",
      "  warnings.warn(msg, category=FutureWarning)\n"
     ]
    }
   ],
   "source": [
    "# lda_model = 벡터화시킨 텍스트 데이터를 fit까지만 적용한 모델\n",
    "def display_topic_words(lda_model, feature_names, num_top_words):\n",
    "    for topic_idx, topic in enumerate(lda_model.components_):\n",
    "        print('\\nTopic #', topic_idx+1)\n",
    "\n",
    "        # topic 별로 1000개의 features 중에서 높은 값 순으로 정렬 후 index 반환\n",
    "        #argsort = 디폴트가 오름차순 -> [::-1]로 내림차순으로 변경\n",
    "        topic_word_idx = topic.argsort()[::-1]\n",
    "        top_idx = topic_word_idx[:num_top_words]\n",
    "\n",
    "        # CountVectorizer 함수 할당시킨 객체에 get_feature_names()로 벡터화시킨 features\n",
    "        # 벡터화시킨 feature는 숫자-알파벳 순으로 정렬, 단어들 순서는 fit_transform 시키고 난 이후에도 동일\n",
    "        feature_concat = '+'.join([str(feature_names[i])+'*'+str(round(topic[i], 1)) for i in top_idx])\n",
    "        print(feature_concat)\n",
    "\n",
    "feature_names = count_vect.get_feature_names()\n",
    "display_topic_words(lda, feature_names, 10)"
   ]
  },
  {
   "cell_type": "code",
   "execution_count": 9,
   "metadata": {},
   "outputs": [
    {
     "name": "stdout",
     "output_type": "stream",
     "text": [
      "Number of unique words in initital documents: 3467\n",
      "Number of unique words after removing rare and common words: 1673\n"
     ]
    }
   ],
   "source": [
    "from gensim.corpora import Dictionary\n",
    "\n",
    "# Create a dictionary representation of the documents.\n",
    "dictionary = Dictionary(tks)\n",
    "print('Number of unique words in initital documents:', len(dictionary))\n",
    "\n",
    "# Filter out words that occur less than 10 documents, or more than 20% of the documents.\n",
    "dictionary.filter_extremes(no_below=2, no_above=0.9)\n",
    "print('Number of unique words after removing rare and common words:', len(dictionary))"
   ]
  },
  {
   "cell_type": "code",
   "execution_count": 10,
   "metadata": {},
   "outputs": [
    {
     "name": "stdout",
     "output_type": "stream",
     "text": [
      "Number of unique tokens: 1673\n",
      "Number of documents: 482\n"
     ]
    }
   ],
   "source": [
    "corpus = [dictionary.doc2bow(tk) for tk in tks]\n",
    "print('Number of unique tokens: %d' % len(dictionary))\n",
    "print('Number of documents: %d' % len(corpus))"
   ]
  },
  {
   "cell_type": "code",
   "execution_count": 11,
   "metadata": {},
   "outputs": [],
   "source": [
    "from gensim.models import LdaModel\n",
    "\n",
    "# Make a index to word dictionary.\n",
    "temp = dictionary[0]  # This is only to \"load\" the dictionary.\n",
    "id2word = dictionary.id2token"
   ]
  },
  {
   "cell_type": "code",
   "execution_count": 12,
   "metadata": {},
   "outputs": [
    {
     "data": {
      "image/png": "[encoded data removed]",
      "text/plain": [
       "<Figure size 432x288 with 1 Axes>"
      ]
     },
     "metadata": {
      "needs_background": "light"
     },
     "output_type": "display_data"
    }
   ],
   "source": [
    "#perplexity : 확률 모델이 결과를 얼마나 정확하게 에측하는지 판단, 낮을수록 좋음\n",
    "#동일 모델 내 파라미터에 따른 성능평가에 주로 사용, perplexity가 낮다고 해서 결과가 해석 용이한것은 아님\n",
    "\n",
    "import matplotlib.pyplot as plt\n",
    "perplexity_values=[]\n",
    "\n",
    "for i in range(2, 10) :\n",
    "    model = LdaModel(corpus=corpus, id2word=id2word, num_topics=i)\n",
    "    perplexity_values.append(model.log_perplexity(corpus))\n",
    "\n",
    "x=range(2, 10)\n",
    "plt.plot(x, perplexity_values)\n",
    "plt.xlabel(\"num of topics\")\n",
    "plt.ylabel(\"perplexity score\")\n",
    "plt.show()\n",
    "\n",
    "#전부 음수여서 좋은 결과는 아닌 것 같음,,,"
   ]
  },
  {
   "cell_type": "code",
   "execution_count": 13,
   "metadata": {},
   "outputs": [
    {
     "data": {
      "image/png": "[encoded data removed]",
      "text/plain": [
       "<Figure size 432x288 with 1 Axes>"
      ]
     },
     "metadata": {
      "needs_background": "light"
     },
     "output_type": "display_data"
    }
   ],
   "source": [
    "#coherence : 토픽이 얼마나 의미론적으로 일관성 있는지 판단, 높을수록 좋음\n",
    "#해당 모델이 얼마나 실제로 의미있는 결과를 내는지 확인\n",
    "\n",
    "from gensim.models import CoherenceModel\n",
    "\n",
    "coherence_values=[]\n",
    "for i in range(2, 10) :\n",
    "    model = LdaModel(corpus=corpus, id2word=id2word, num_topics=i)\n",
    "    coherence_model_lda = CoherenceModel(model=model, texts=tks, dictionary=dictionary, topn=10)\n",
    "    coherence_lda = coherence_model_lda.get_coherence()\n",
    "    coherence_values.append(coherence_lda)\n",
    "\n",
    "x=range(2, 10)\n",
    "plt.plot(x, coherence_values)\n",
    "plt.xlabel(\"num of topics\")\n",
    "plt.ylabel(\"coherence score\")\n",
    "plt.show()\n",
    "\n",
    "#2가 최적 개수"
   ]
  },
  {
   "cell_type": "code",
   "execution_count": 14,
   "metadata": {},
   "outputs": [],
   "source": [
    "# Set training parameters.\n",
    "num_topics = 4\n",
    "chunksize = 500 # size of the doc looked at every pass\n",
    "passes = 20 # number of passes through documents\n",
    "iterations = 40\n",
    "eval_every = 1  # Don't evaluate model perplexity, takes too much time.\n",
    "\n",
    "\n",
    "model = LdaModel(corpus=corpus, id2word=id2word, chunksize=chunksize, alpha='auto', eta='auto', \\\n",
    "                iterations=iterations, num_topics=num_topics, passes=passes, eval_every=eval_every)"
   ]
  },
  {
   "cell_type": "code",
   "execution_count": 15,
   "metadata": {},
   "outputs": [
    {
     "name": "stderr",
     "output_type": "stream",
     "text": [
      "c:\\Anaconda3\\envs\\sklearn\\lib\\site-packages\\pyLDAvis\\_prepare.py:247: FutureWarning: In a future version of pandas all arguments of DataFrame.drop except for the argument 'labels' will be keyword-only\n",
      "  by='saliency', ascending=False).head(R).drop('saliency', 1)\n"
     ]
    },
    {
     "data": {
      "text/html": [
       "\n",
       "<link rel=\"stylesheet\" type=\"text/css\" href=\"https://cdn.jsdelivr.net/gh/bmabey/pyLDAvis@3.3.1/pyLDAvis/js/ldavis.v1.0.0.css\">\n",
       "\n",
       "\n",
       "<div id=\"ldavis_el2441627024190226646843024404\"></div>\n",
       "<script type=\"text/javascript\">\n",
       "\n",
       "var ldavis_el2441627024190226646843024404_data = {\"mdsDat\": {\"x\": [-0.05177061915456026, 0.049536106802825795, 0.11548501613643487, -0.11325050378470046], \"y\": [0.11145443084866741, -0.0832035084506002, 0.02925742176762566, -0.05750834416569283], \"topics\": [1, 2, 3, 4], \"cluster\": [1, 1, 1, 1], \"Freq\": [31.542369325108478, 26.199179494346765, 26.128321959019633, 16.13012922152512]}, \"tinfo\": {\"Term\": [\"\\ub3c4\\uc11c\\uad00\", \"\\uc790\\uc804\\uac70\", \"\\uc778\\ub3c4\", \"\\uacf5\\uc6d0\", \"\\uc9c0\\ud558\\ucc28\\ub3c4\", \"\\uc6b4\\ub3d9\", \"\\uc124\\uce58\", \"\\ud654\\uc7a5\\uc2e4\", \"\\uae30\\uad6c\", \"\\uc2e0\\ucc9c\\ub300\\ub85c\", \"\\uc870\\uc131\", \"\\ubcbd\\ud654\", \"\\uad50\\ub7c9\", \"\\ubcf4\\ub77c\", \"\\ubb38\\ud654\", \"\\ubc9a\\uaf43\", \"\\ubcf5\\uac1c\", \"\\ub9c8\\uc744\", \"\\uacf5\\uac04\", \"\\uad6c\\ucd95\", \"\\ub3d9\\uc0b0\", \"\\ub9cc\\uc6d0\", \"\\ub3c4\\ub85c\", \"\\uacc4\\ub2e8\", \"\\uc2dc\\uc7a5\", \"\\ubcbd\\uba74\", \"\\uc2e0\\ud638\\ub4f1\", \"\\ubcf4\\ub3c4\", \"\\ube14\\ub7ed\", \"\\uc548\\uc804\", \"\\uae30\\uad6c\", \"\\ud654\\uc7a5\\uc2e4\", \"\\ub3d9\\uc0b0\", \"\\ubc9a\\uaf43\", \"\\ubcf4\\ub77c\", \"\\ubc18\\ub824\\uacac\", \"\\ub180\\uc774\\ud130\", \"\\ubd80\\uc9c0\", \"\\uc8fc\\ucc28\\uc7a5\", \"\\uac70\\uce58\", \"\\uad11\\uc7a5\", \"\\ubd84\\uc218\", \"\\uacf5\\uc6a9\", \"\\ub9e4\\ud2b8\", \"\\uacf5\\uc601\", \"\\ud3ec\\ud1a0\", \"\\ubc29\\uc1a1\", \"\\ub178\\uc0c1\", \"\\uacf5\\ud130\", \"\\ub85c\\uace0\", \"\\ubca4\\uce58\", \"\\uc218\\uac70\", \"\\ucc10\\ube75\", \"\\uae08\\uc5f0\", \"\\ub2f4\\ubc30\", \"\\ubaa8\\uc784\", \"\\ub18d\\uad6c\\uc7a5\", \"\\ub2e4\\ubcc0\", \"\\uc2a4\\ud3ec\\uce20\", \"\\ub18d\\uad6c\", \"\\ub9c8\\uc74c\", \"\\ub180\\uc774\", \"\\ud734\\uc2dd\", \"\\ubcc4\\uad00\", \"\\uc6b4\\ub3d9\", \"\\uccad\\ub144\", \"\\uc794\\ub514\", \"\\uacf5\\uac04\", \"\\uc790\\uc5f0\", \"\\uccb4\\uc721\", \"\\uc870\\uc131\", \"\\uae08\\ud638\\uac15\", \"\\uc804\\uae30\\ucc28\", \"\\uc2dc\\ubbfc\", \"\\uc2e0\\ucc9c\", \"\\uc2dc\\uc124\", \"\\uac77\\uae30\", \"\\ubd88\\ubc95\", \"\\ub300\\uad6c\", \"\\uac15\\ubcc0\", \"\\uc8fc\\ucc28\", \"\\uc124\\uce58\", \"\\uc2dc\\uc7a5\", \"\\uc0ac\\uc5c5\", \"\\uc774\\uc6a9\", \"\\uc8fc\\ubbfc\", \"\\uc9c0\\uc5ed\", \"\\uc704\\uce58\", \"\\uc0b0\\ucc45\\ub85c\", \"\\uacf5\\uc6d0\", \"\\uac1c\\uc120\", \"\\uc81c\\uacf5\", \"\\ubcf5\\uac1c\", \"\\ud45c\\uc9c0\", \"\\ub4a4\\ud3b8\", \"\\ub450\\uc0b0\", \"\\ucca0\\uae38\", \"\\ubd09\\ud22c\", \"\\ucca0\\ub85c\", \"\\uc704\\ube0c\", \"\\ubcf4\\uad00\", \"\\ubc30\\ubcc0\", \"\\ud68c\\uc804\\uad50\\ucc28\\ub85c\", \"\\ud574\\ucda9\", \"\\uc7a0\\uc218\\uad50\", \"\\ub2e8\\uacc4\", \"\\uc5ec\\uc18c\", \"\\uc2e0\\ud638\\ub4f1\", \"\\ube48\\ubc88\", \"\\uce74\\uba54\\ub77c\", \"\\uc624\\uc5fc\", \"\\ubc30\\ub2ec\", \"\\uc54c\\ub9bc\", \"\\uc9c0\\ud558\\ub3c4\", \"\\uce68\\uc218\", \"\\ud568\\uc9c0\", \"\\uad6c\\ub984\\ub2e4\\ub9ac\", \"\\ud6a1\\ub2e8\\ubcf4\\ub3c4\", \"\\ud3ed\\uc5fc\", \"\\uc640\\uc774\\ud30c\\uc774\", \"\\ud0dc\\ud48d\", \"\\ucc28\\ub2e8\\uae30\", \"\\ud64d\\uc218\", \"\\ubc8c\\ub808\", \"\\ub2e8\\uc18d\", \"\\uc2a4\\ub9c8\\ud2b8\", \"\\uc2e0\\ucc9c\\ub3d9\", \"\\ub124\\uac70\\ub9ac\", \"\\ubbf8\\uc138\\uba3c\\uc9c0\", \"\\uadf8\\ub298\", \"\\ubc29\\ubc94\", \"\\uacf5\\uc6d0\", \"\\uc790\\uc804\\uac70\", \"\\uc124\\uce58\", \"\\uc548\\uc804\", \"\\uc2e0\\ucc9c\\uc5ed\", \"\\uc694\\uccad\", \"\\uc544\\ud30c\\ud2b8\", \"\\uc2e0\\ucc9c\", \"\\uc0ac\\uace0\", \"\\uc8fc\\ubbfc\", \"\\ub3c4\\ub85c\", \"\\ubc29\\uc9c0\", \"\\uc704\\ud5d8\", \"\\uc0ac\\uc5c5\", \"\\uad6c\\uac04\", \"\\ucc28\\ub7c9\", \"\\uc778\\uadfc\", \"\\ub2e4\\ub9ac\", \"\\ub300\\uad6c\", \"\\uc0b0\\ucc45\\ub85c\", \"\\uc9c0\\uc5ed\", \"\\uc774\\uc6a9\", \"\\uc2e0\\ucc9c\\ub3d9\\ub85c\", \"\\uc2dc\\uc124\", \"\\ud658\\uacbd\", \"\\uac1c\\uc120\", \"\\ube14\\ub7ed\", \"\\ubcf4\\ub3c4\", \"\\ud1b5\\ub85c\", \"\\ub0b4\\ubd80\", \"\\uc9c0\\ud558\\ucc28\\ub3c4\", \"\\ub3d9\\uc778\", \"\\uad50\\ub7c9\", \"\\ube14\\ub85d\", \"\\uace8\\ubaa9\\uae38\", \"\\uacc4\\ub2e8\", \"\\ub179\\uc0c9\", \"\\ud30c\\uc190\", \"\\ubc29\\uc74c\\ubcbd\", \"\\ub18d\\uc7a5\", \"\\uc778\\ub3c4\", \"\\uc554\\uc0b0\", \"\\uc870\\uacbd\", \"\\ub4dc\\ub9bc\", \"\\ubfcc\\ub9ac\", \"\\uad6c\\uc554\\uc11c\\uc6d0\", \"\\uc88c\\ud68c\\uc804\", \"\\uc218\\ub2ec\", \"\\ud654\\uae30\", \"\\ud559\\uc2b5\", \"\\uace0\\uc18d\\ub3c4\\ub85c\", \"\\uc7ac\\uc815\", \"\\uc218\\ud655\", \"\\ucd08\\uad50\", \"\\uc2dc\\uacf5\", \"\\ud478\\ub978\", \"\\uad50\\uac01\", \"\\uc2e4\\ucc9c\", \"\\uc9c0\\ud558\", \"\\ubcbd\\ud654\", \"\\ubcbd\\uba74\", \"\\ud0c0\\uc77c\", \"\\ub3c4\\uc0c9\", \"\\uc2e0\\ucc9c\\ub300\\ub85c\", \"\\uc18c\\uc74c\", \"\\ubcf5\\uc9c0\", \"\\ub3c4\\uc2dc\", \"\\ubbf8\\uad00\", \"\\uc815\\ube44\", \"\\ud589\\uc815\", \"\\uc720\\ub3c4\", \"\\uc0dd\\ud0dc\", \"\\uc870\\ud615\", \"\\ud1b5\\ud589\", \"\\uc131\\uad50\", \"\\ub300\\ubd09\", \"\\uc13c\\ud130\", \"\\uac1c\\uc120\", \"\\uc2e0\\uad50\", \"\\uc9c4\\uc785\", \"\\ucc28\\ub7c9\", \"\\ub3c4\\ub85c\", \"\\uc2e0\\ucc9c\", \"\\uc124\\uce58\", \"\\uc8fc\\ubbfc\", \"\\ud658\\uacbd\", \"\\uacbd\\uad00\", \"\\uc774\\uc6a9\", \"\\uc870\\uc131\", \"\\uc0ac\\uc5c5\", \"\\ub300\\uad6c\", \"\\uc2e0\\ucc9c\\ub3d9\\ub85c\", \"\\uc2dc\\ubbfc\", \"\\ud65c\\uc6a9\", \"\\uc548\\uc804\", \"\\uc0ac\\uace0\", \"\\ub3c4\\uc11c\\uad00\", \"\\uc2dd\\uc218\", \"\\uad6c\\ucd95\", \"\\uc2b9\\uac15\\uc7a5\", \"\\ud50c\\ub7ab\\ud3fc\", \"\\uba54\\ud0c0\", \"\\uc11c\\ube44\\uc2a4\", \"\\ub9cc\\uc6d0\", \"\\uc9c0\\uc6d0\", \"\\uc5f0\\uad6c\", \"\\ud1b5\\ud569\", \"\\uc811\\uadfc\", \"\\ud648\\ud398\\uc774\\uc9c0\", \"\\uc0ac\\ud68c\", \"\\ucde8\\uc57d\", \"\\ucee8\\ud150\\uce20\", \"\\uc120\\ud589\", \"\\uc774\\uc2dd\", \"\\uc778\\uc99d\", \"\\uc218\\uc9d1\", \"\\uc628\\ub77c\\uc778\", \"\\ub300\\uba74\", \"\\uc7a5\\ud130\", \"\\uac1c\\uad00\", \"\\uc2ec\\uc7a5\", \"\\ub3c5\\uc11c\", \"\\ub7a8\\ud504\", \"\\uc911\\uace0\", \"\\uc804\\uad6c\", \"\\uac70\\ub798\", \"\\ubcc4\\uc790\\ub9ac\", \"\\ud3ec\\ud568\", \"\\uc804\\uc6a9\", \"\\ub9c8\\uc744\", \"\\uc815\\ubcf4\", \"\\ud65c\\uc131\\ud654\", \"\\uc804\\ub3d9\", \"\\ubb38\\ud654\", \"\\ub3c4\\uc785\", \"\\ucca8\\ubd80\\ud30c\\uc77c\", \"\\ud310\\ub9e4\", \"\\ucda9\\uaca9\", \"\\uc2dc\\uc2a4\\ud15c\", \"\\uc790\\uc804\\uac70\", \"\\uc790\\ub8cc\", \"\\ud655\\uc778\", \"\\ucf54\\ub85c\\ub098\", \"\\uac70\\ub9ac\", \"\\ud559\\uc0dd\", \"\\uc774\\uc6a9\", \"\\uac00\\ub85c\\uc218\", \"\\ub300\\uad50\", \"\\uc81c\\uc791\", \"\\uc9c0\\uc5ed\", \"\\uc2dc\\uc7a5\", \"\\uc124\\uce58\", \"\\uc2e0\\ucc9c\", \"\\ud64d\\ubcf4\", \"\\uc548\\uc2ec\", \"\\ub3d9\\uad6c\", \"\\uc0b0\\ucc45\\ub85c\", \"\\uc8fc\\ubbfc\", \"\\ub3c4\\ub85c\", \"\\ub300\\uad6c\", \"\\ud658\\uacbd\", \"\\uacf5\\uc6d0\", \"\\uc81c\\uacf5\", \"\\uc2dc\\ubbfc\", \"\\uc2dc\\uc124\", \"\\uc9c4\\uc785\", \"\\uc0ac\\uc5c5\", \"\\uc2e0\\ucc9c\\ub300\\ub85c\"], \"Freq\": [79.0, 165.0, 70.0, 150.0, 52.0, 122.0, 705.0, 44.0, 41.0, 95.0, 189.0, 47.0, 37.0, 41.0, 50.0, 39.0, 29.0, 31.0, 161.0, 22.0, 35.0, 23.0, 132.0, 30.0, 61.0, 45.0, 30.0, 25.0, 25.0, 98.0, 40.51183144356502, 44.08044944365356, 34.575864656981075, 37.50680640102267, 39.27335060387847, 20.165495431574943, 27.01773051997247, 11.281272911909891, 32.97670182468949, 9.522294156629533, 8.645794523852734, 8.643786580015432, 8.628244784322215, 7.72953878554495, 7.703521982141049, 8.518611937641197, 6.793727580958599, 6.7884080448007404, 6.773822553607143, 6.767998999158139, 32.14857168920804, 8.433078851186325, 5.8557103725613, 5.852316008908473, 5.844746496669397, 5.83433319794304, 4.919381847148261, 4.9187119166777, 4.917236813291887, 4.916815935847889, 7.339039159519375, 15.212470733007644, 37.149515076921716, 8.086261056736548, 97.77283809193395, 23.46385764150405, 24.039745098011355, 110.65608362725409, 27.25612969362444, 31.044978559931664, 122.04992407299183, 34.879029442015394, 15.131722864199636, 108.38707309573358, 347.4879111558359, 78.26264181988196, 17.75804984683268, 33.03972036973715, 99.79641388655952, 35.04898559223702, 20.416991690499156, 214.41111925096385, 35.39575017654462, 75.83723485603709, 86.0880032031246, 73.53273907192478, 51.29690647717016, 30.79355176980418, 34.021447492840835, 39.172919416644724, 32.985579050075465, 30.161229045283708, 28.822253479529554, 24.81127207600335, 15.001237069961919, 14.073808065587851, 17.50453618425802, 12.247832464199885, 13.117545761066678, 12.216100610802018, 11.324731032976569, 11.310968736517015, 10.41154066502872, 9.480469746966227, 8.55202115408104, 8.547696650131105, 9.389264761673768, 27.87431484762174, 8.3996519072443, 6.708658530069662, 6.65737586747301, 5.782860499009289, 12.404247531552453, 5.781033710683525, 5.781007315556507, 5.778030804605018, 5.777828237351153, 23.071992803908934, 5.760377989190931, 4.858888642434518, 4.858380689699448, 4.857879796126254, 9.633529563986597, 8.038089001980554, 12.613473723508111, 17.814219774286457, 28.410992846970608, 24.494270283548914, 23.628058330973168, 25.258687894176372, 15.107948271617657, 87.37853651880043, 91.90764567194279, 299.45745487399034, 55.920657173307575, 24.304227824374433, 40.9491324226065, 35.66883023131326, 201.78560453327907, 37.538101207093966, 73.34941110637422, 48.73369377421113, 26.015248350714522, 21.11868956514308, 52.69215255801097, 31.575049155849666, 33.636795853211886, 27.183447565352164, 23.381513112453952, 47.05465923109649, 30.642719251612395, 35.12974352316389, 41.26677506419134, 24.148425369504764, 31.374134359704104, 25.69547691144361, 24.4928216207637, 24.362300152231036, 25.156253521080007, 21.564084191526028, 17.848974427849477, 49.537957330244225, 10.439958366597379, 34.53053141144524, 9.506449386542812, 9.475697749152463, 28.398199576333834, 8.587334594570965, 8.5870193218766, 8.586516109925594, 8.578841209402775, 65.12221841425293, 6.730717572475925, 6.711853246113104, 7.532873540998281, 5.802952065078699, 5.802589654525177, 20.65692649910046, 5.778041849143942, 5.772046158331108, 5.764765501721242, 13.13475019123098, 6.53488915231614, 4.874954541465621, 4.874029843592149, 5.688140769030824, 4.871696825653848, 27.448235810353378, 11.374054427261454, 16.764910186545915, 38.84274929284915, 36.58184615726027, 10.984067613952034, 25.100373731678793, 65.2568686272062, 25.304834501864285, 19.394553816743965, 40.13012707903871, 26.69700770730074, 49.32481095037398, 18.50379765058524, 14.138615180888012, 15.692896096146972, 24.23987884673918, 28.919453695976998, 31.44360647046058, 19.134881757705315, 30.102481729951688, 51.96513344830116, 25.462436566967323, 31.243700319393678, 40.2628574955463, 51.58653195842824, 152.54561511149714, 116.92446790850545, 65.10817745402389, 44.34756725453666, 30.452327901378577, 55.41024245216367, 45.7707583956587, 45.84870604930548, 46.274891065367896, 28.504280573557754, 35.72605526335658, 28.455644097787076, 28.940324136163962, 27.700698837840882, 76.38069362327072, 7.301956448965524, 20.26108368211568, 5.536862563249992, 5.536175117935782, 5.532322174022442, 7.081188620566439, 20.40075563892945, 5.492725853018781, 13.2173564850378, 4.647163959367794, 4.646224060249356, 4.640718450937975, 4.635811852524351, 4.544862346152134, 3.764399898679894, 3.764353035997672, 3.7640771508523323, 3.7622461049219615, 3.7622083124362984, 3.7611947179708176, 3.7592272411672036, 3.757337616884055, 3.7572680787104353, 4.4885957597225365, 3.734096371975899, 8.192009546363241, 2.879094671256016, 2.878996788718149, 2.8788777423883105, 6.412497449442429, 6.243914241096485, 8.193899926496103, 22.0395360777385, 18.635272112686735, 16.77965955493554, 5.482571767970854, 25.78831634209389, 5.964077891380749, 9.269604830464587, 6.411681887601823, 5.391605632904945, 7.644157580597434, 52.330571609372036, 8.45660985548395, 10.984339095259644, 14.413482609473055, 24.582702792057802, 7.99651506482641, 49.528806032655304, 11.175493487742939, 15.24853781418488, 10.339621965340795, 32.370246574959964, 19.941496818054777, 75.1513010412555, 65.5488895352451, 14.324804809414038, 9.348884395188936, 14.728393787207734, 21.365369531291638, 33.841148257355826, 24.517873562151546, 28.2240178558814, 20.902862068349375, 22.00894381644404, 16.942397021599138, 21.11825202603862, 18.501477643243266, 14.242439866160165, 17.53225457932962, 13.576749418397794], \"Total\": [79.0, 165.0, 70.0, 150.0, 52.0, 122.0, 705.0, 44.0, 41.0, 95.0, 189.0, 47.0, 37.0, 41.0, 50.0, 39.0, 29.0, 31.0, 161.0, 22.0, 35.0, 23.0, 132.0, 30.0, 61.0, 45.0, 30.0, 25.0, 25.0, 98.0, 41.21700540590416, 44.961262735659155, 35.59004592129328, 39.331825116892865, 41.20140281199119, 21.52503476447895, 29.013038265652213, 12.16202328374086, 35.57460365809624, 10.286276452299495, 9.35252528440928, 9.351941285604815, 9.351190856097151, 8.416019399673562, 8.415403709760191, 9.34475141513022, 7.4788876044890085, 7.478736463181471, 7.47803642252098, 7.47763997441566, 35.560145428333456, 9.341158831801993, 6.541682478856108, 6.541539069770467, 6.541375769211146, 6.54036482324244, 5.60451042048175, 5.604511002344259, 5.604419206807444, 5.604381854508557, 8.410149330003705, 17.76389975133411, 44.89123813303469, 9.34575792863275, 122.14022619470052, 28.911232054178104, 29.81615718987258, 161.9458727570971, 35.30593502661027, 40.86870056213698, 189.24915967940936, 47.22284168265805, 18.566192175034246, 180.08312282173836, 767.3680203358571, 139.01863406331466, 23.22537649109123, 52.19094109803955, 221.3499820389053, 58.67077531101531, 28.8191564518357, 705.9443430747151, 61.565744729333716, 191.91034804268315, 232.2938267521349, 245.83147588967873, 139.02446451726877, 63.96119906846322, 92.97650581717552, 150.38581380689695, 117.76218552911045, 75.58174337692087, 29.614682534227473, 25.894978024124935, 15.72770292976288, 14.801968230648969, 18.507292761076066, 12.9522759622887, 13.878505126606706, 12.950346964458918, 12.026154550169489, 12.026569026174133, 11.101097230630687, 10.175251009940602, 9.249399176830163, 9.249064463783863, 10.171056249368062, 30.545908869666818, 9.250530093252552, 7.398436337236653, 7.395874128811582, 6.472757658468978, 13.88718709440129, 6.472527580030736, 6.472745471161596, 6.472530117714693, 6.472497376844857, 25.91925530486067, 6.472909155593965, 5.547074303152761, 5.54708459400159, 5.5470851146408675, 11.106788550392048, 9.250184473950029, 14.808051429809801, 21.164370203535377, 36.12907249522302, 31.48985864428089, 31.207599382878293, 34.3337919392512, 19.27712051427793, 150.38581380689695, 165.4599250426757, 705.9443430747151, 98.159486498519, 35.197347851780364, 71.17711276008468, 62.16113672485281, 767.3680203358571, 78.4370094967527, 245.83147588967873, 132.4624120680685, 48.27360032422405, 36.144923094508044, 191.91034804268315, 76.64006945630217, 88.86925288813227, 63.108525181894905, 47.41207591936081, 221.3499820389053, 92.97650581717552, 139.02446451726877, 232.2938267521349, 55.64743680524972, 139.01863406331466, 120.83976909578587, 117.76218552911045, 25.06520822641772, 25.98774556698399, 22.27896251435509, 18.56405371759115, 52.803739773133685, 11.134736222128014, 37.05434954045023, 10.205898859386927, 10.205952216430095, 30.6318723724405, 9.277258646192308, 9.277310104471225, 9.277138866067363, 9.276990438048221, 70.56937354212843, 7.4198424330806025, 7.419457198339529, 8.349406787323774, 6.491105108246827, 6.491118353238531, 23.20124775206692, 6.491147057842682, 6.489070058508755, 6.490444671010996, 14.845499018673864, 7.42045301880072, 5.562397497349069, 5.562390862453698, 6.491572584149172, 5.562366882982859, 31.59603266095845, 12.988151949900994, 19.483552432530075, 47.41798729724645, 45.48926712311299, 13.000377452509348, 32.53807706263569, 95.95842487915918, 33.409365669035594, 24.915864953834053, 57.62771404381681, 36.22781801788803, 74.13898210287849, 23.988342658814098, 17.587263336344996, 20.3672620195875, 36.30890733774556, 46.04378843031805, 52.921739283023335, 26.955318591618255, 51.757132257567065, 117.76218552911045, 42.77904719861109, 59.637958323966004, 88.86925288813227, 132.4624120680685, 767.3680203358571, 705.9443430747151, 245.83147588967873, 120.83976909578587, 59.48928325387354, 232.2938267521349, 189.24915967940936, 191.91034804268315, 221.3499820389053, 55.64743680524972, 180.08312282173836, 69.27636467868093, 98.159486498519, 78.4370094967527, 79.90699783071577, 8.007915918297973, 22.239119780418285, 6.235616628771959, 6.2356472986358105, 6.235691002383756, 8.019867373004905, 23.158553392362577, 6.237279358738869, 15.151850802711934, 5.349661855966197, 5.349556337014765, 5.34993692431173, 5.349980819249444, 5.35400889130643, 4.463435063833444, 4.463436506080161, 4.463454345919613, 4.46347964895539, 4.463511970372578, 4.463485415373828, 4.463570611792996, 4.4634724129660865, 4.463544711841785, 5.356494372847017, 4.464681700488904, 9.829928695538506, 3.5772918471948523, 3.5772962398711563, 3.57730361099002, 8.049657303812474, 8.067899595350937, 10.74987424499964, 31.456413451657873, 28.815476855657586, 28.964407751965936, 7.166216760085921, 50.903019343322214, 8.067120625798534, 14.422117117128943, 8.978620161614174, 7.177865315703956, 11.694552790522778, 165.4599250426757, 13.522018291133648, 19.900447447653328, 30.014727362122855, 70.43418870372207, 12.620992603139163, 232.2938267521349, 21.734852583998325, 36.498869132099145, 19.997948447262885, 139.02446451726877, 61.565744729333716, 705.9443430747151, 767.3680203358571, 39.354371198955604, 17.19424182789801, 42.947128800986285, 92.97650581717552, 245.83147588967873, 132.4624120680685, 221.3499820389053, 120.83976909578587, 150.38581380689695, 75.58174337692087, 180.08312282173836, 139.01863406331466, 59.637958323966004, 191.91034804268315, 95.95842487915918], \"Category\": [\"Default\", \"Default\", \"Default\", \"Default\", \"Default\", \"Default\", \"Default\", \"Default\", \"Default\", \"Default\", \"Default\", \"Default\", \"Default\", \"Default\", \"Default\", \"Default\", \"Default\", \"Default\", \"Default\", \"Default\", \"Default\", \"Default\", \"Default\", \"Default\", \"Default\", \"Default\", \"Default\", \"Default\", \"Default\", \"Default\", \"Topic1\", \"Topic1\", \"Topic1\", \"Topic1\", \"Topic1\", \"Topic1\", \"Topic1\", \"Topic1\", \"Topic1\", \"Topic1\", \"Topic1\", \"Topic1\", \"Topic1\", \"Topic1\", \"Topic1\", \"Topic1\", \"Topic1\", \"Topic1\", \"Topic1\", \"Topic1\", \"Topic1\", \"Topic1\", \"Topic1\", \"Topic1\", \"Topic1\", \"Topic1\", \"Topic1\", \"Topic1\", \"Topic1\", \"Topic1\", \"Topic1\", \"Topic1\", \"Topic1\", \"Topic1\", \"Topic1\", \"Topic1\", \"Topic1\", \"Topic1\", \"Topic1\", \"Topic1\", \"Topic1\", \"Topic1\", \"Topic1\", \"Topic1\", \"Topic1\", \"Topic1\", \"Topic1\", \"Topic1\", \"Topic1\", \"Topic1\", \"Topic1\", \"Topic1\", \"Topic1\", \"Topic1\", \"Topic1\", \"Topic1\", \"Topic1\", \"Topic1\", \"Topic1\", \"Topic1\", \"Topic1\", \"Topic1\", \"Topic2\", \"Topic2\", \"Topic2\", \"Topic2\", \"Topic2\", \"Topic2\", \"Topic2\", \"Topic2\", \"Topic2\", \"Topic2\", \"Topic2\", \"Topic2\", \"Topic2\", \"Topic2\", \"Topic2\", \"Topic2\", \"Topic2\", \"Topic2\", \"Topic2\", \"Topic2\", \"Topic2\", \"Topic2\", \"Topic2\", \"Topic2\", \"Topic2\", \"Topic2\", \"Topic2\", \"Topic2\", \"Topic2\", \"Topic2\", \"Topic2\", \"Topic2\", \"Topic2\", \"Topic2\", \"Topic2\", \"Topic2\", \"Topic2\", \"Topic2\", \"Topic2\", \"Topic2\", \"Topic2\", \"Topic2\", \"Topic2\", \"Topic2\", \"Topic2\", \"Topic2\", \"Topic2\", \"Topic2\", \"Topic2\", \"Topic2\", \"Topic2\", \"Topic2\", \"Topic2\", \"Topic2\", \"Topic2\", \"Topic2\", \"Topic2\", \"Topic2\", \"Topic2\", \"Topic2\", \"Topic2\", \"Topic2\", \"Topic2\", \"Topic2\", \"Topic2\", \"Topic3\", \"Topic3\", \"Topic3\", \"Topic3\", \"Topic3\", \"Topic3\", \"Topic3\", \"Topic3\", \"Topic3\", \"Topic3\", \"Topic3\", \"Topic3\", \"Topic3\", \"Topic3\", \"Topic3\", \"Topic3\", \"Topic3\", \"Topic3\", \"Topic3\", \"Topic3\", \"Topic3\", \"Topic3\", \"Topic3\", \"Topic3\", \"Topic3\", \"Topic3\", \"Topic3\", \"Topic3\", \"Topic3\", \"Topic3\", \"Topic3\", \"Topic3\", \"Topic3\", \"Topic3\", \"Topic3\", \"Topic3\", \"Topic3\", \"Topic3\", \"Topic3\", \"Topic3\", \"Topic3\", \"Topic3\", \"Topic3\", \"Topic3\", \"Topic3\", \"Topic3\", \"Topic3\", \"Topic3\", \"Topic3\", \"Topic3\", \"Topic3\", \"Topic3\", \"Topic3\", \"Topic3\", \"Topic3\", \"Topic3\", \"Topic3\", \"Topic3\", \"Topic3\", \"Topic3\", \"Topic3\", \"Topic3\", \"Topic3\", \"Topic3\", \"Topic3\", \"Topic3\", \"Topic3\", \"Topic3\", \"Topic3\", \"Topic3\", \"Topic4\", \"Topic4\", \"Topic4\", \"Topic4\", \"Topic4\", \"Topic4\", \"Topic4\", \"Topic4\", \"Topic4\", \"Topic4\", \"Topic4\", \"Topic4\", \"Topic4\", \"Topic4\", \"Topic4\", \"Topic4\", \"Topic4\", \"Topic4\", \"Topic4\", \"Topic4\", \"Topic4\", \"Topic4\", \"Topic4\", \"Topic4\", \"Topic4\", \"Topic4\", \"Topic4\", \"Topic4\", \"Topic4\", \"Topic4\", \"Topic4\", \"Topic4\", \"Topic4\", \"Topic4\", \"Topic4\", \"Topic4\", \"Topic4\", \"Topic4\", \"Topic4\", \"Topic4\", \"Topic4\", \"Topic4\", \"Topic4\", \"Topic4\", \"Topic4\", \"Topic4\", \"Topic4\", \"Topic4\", \"Topic4\", \"Topic4\", \"Topic4\", \"Topic4\", \"Topic4\", \"Topic4\", \"Topic4\", \"Topic4\", \"Topic4\", \"Topic4\", \"Topic4\", \"Topic4\", \"Topic4\", \"Topic4\", \"Topic4\", \"Topic4\", \"Topic4\", \"Topic4\", \"Topic4\", \"Topic4\", \"Topic4\", \"Topic4\", \"Topic4\", \"Topic4\"], \"logprob\": [30.0, 29.0, 28.0, 27.0, 26.0, 25.0, 24.0, 23.0, 22.0, 21.0, 20.0, 19.0, 18.0, 17.0, 16.0, 15.0, 14.0, 13.0, 12.0, 11.0, 10.0, 9.0, 8.0, 7.0, 6.0, 5.0, 4.0, 3.0, 2.0, 1.0, -5.0543, -4.9699, -5.2128, -5.1314, -5.0854, -5.752, -5.4594, -6.3328, -5.2601, -6.5023, -6.5989, -6.5991, -6.6009, -6.7109, -6.7143, -6.6137, -6.8399, -6.8407, -6.8429, -6.8437, -5.2856, -6.6238, -6.9885, -6.9891, -6.9904, -6.9922, -7.1627, -7.1629, -7.1632, -7.1633, -6.7627, -6.0338, -5.141, -6.6658, -4.1733, -5.6005, -5.5762, -4.0495, -5.4507, -5.3205, -3.9515, -5.204, -6.0391, -4.0702, -2.9052, -4.3959, -5.8791, -5.2582, -4.1528, -5.1992, -5.7396, -3.388, -5.1893, -4.4273, -4.3006, -4.4582, -4.8183, -5.3286, -5.2289, -5.0879, -5.2599, -5.3494, -5.2092, -5.359, -5.8622, -5.926, -5.7079, -6.065, -5.9964, -6.0676, -6.1433, -6.1446, -6.2274, -6.3211, -6.4242, -6.4247, -6.3308, -5.2426, -6.4421, -6.6669, -6.6746, -6.8154, -6.0523, -6.8157, -6.8157, -6.8163, -6.8163, -5.4317, -6.8193, -6.9895, -6.9896, -6.9897, -6.3051, -6.4861, -6.0356, -5.6903, -5.2235, -5.3719, -5.4079, -5.3412, -5.8551, -4.1001, -4.0495, -2.8684, -4.5464, -5.3797, -4.858, -4.996, -3.2631, -4.945, -4.2751, -4.684, -5.3116, -5.5202, -4.6059, -5.118, -5.0547, -5.2677, -5.4184, -4.719, -5.1479, -5.0113, -4.8503, -5.3861, -5.1243, -5.324, -5.3719, -5.3746, -5.3425, -5.4966, -5.6857, -4.6649, -6.222, -5.0258, -6.3156, -6.3189, -5.2213, -6.4173, -6.4174, -6.4174, -6.4183, -4.3914, -6.6609, -6.6637, -6.5483, -6.8093, -6.8093, -5.5396, -6.8136, -6.8146, -6.8159, -5.9924, -6.6905, -6.9835, -6.9837, -6.8292, -6.9842, -5.2553, -6.1363, -5.7483, -4.9081, -4.9681, -6.1712, -5.3447, -4.3893, -5.3366, -5.6026, -4.8755, -5.2831, -4.6692, -5.6496, -5.9187, -5.8144, -5.3796, -5.2031, -5.1194, -5.6161, -5.163, -4.617, -5.3304, -5.1258, -4.8722, -4.6244, -3.5402, -3.8061, -4.3916, -4.7756, -5.1515, -4.5529, -4.744, -4.7423, -4.733, -5.2176, -4.9917, -5.2193, -5.2024, -5.2462, -3.7496, -6.0971, -5.0766, -6.3739, -6.374, -6.3747, -6.1278, -5.0697, -6.3819, -5.5038, -6.549, -6.5492, -6.5504, -6.5515, -6.5713, -6.7597, -6.7597, -6.7598, -6.7603, -6.7603, -6.7605, -6.7611, -6.7616, -6.7616, -6.5837, -6.7678, -5.9821, -7.0278, -7.0278, -7.0279, -6.227, -6.2537, -5.9819, -4.9924, -5.1602, -5.2651, -6.3837, -4.8354, -6.2995, -5.8585, -6.2272, -6.4004, -6.0513, -4.1277, -5.9503, -5.6888, -5.4171, -4.8832, -6.0063, -4.1827, -5.6716, -5.3608, -5.7493, -4.608, -5.0925, -3.7658, -3.9025, -5.4233, -5.85, -5.3955, -5.0235, -4.5636, -4.8859, -4.7451, -5.0454, -4.9938, -5.2555, -5.0351, -5.1674, -5.4291, -5.2212, -5.4769], \"loglift\": [30.0, 29.0, 28.0, 27.0, 26.0, 25.0, 24.0, 23.0, 22.0, 21.0, 20.0, 19.0, 18.0, 17.0, 16.0, 15.0, 14.0, 13.0, 12.0, 11.0, 10.0, 9.0, 8.0, 7.0, 6.0, 5.0, 4.0, 3.0, 2.0, 1.0, 1.1366, 1.1341, 1.1249, 1.1063, 1.1059, 1.0886, 1.0826, 1.0787, 1.078, 1.0767, 1.0753, 1.0751, 1.0734, 1.0688, 1.0655, 1.0613, 1.0578, 1.057, 1.0549, 1.0541, 1.053, 1.0516, 1.0431, 1.0425, 1.0412, 1.0396, 1.0234, 1.0233, 1.023, 1.023, 1.0176, 0.9988, 0.9645, 1.0091, 0.9313, 0.9451, 0.9385, 0.773, 0.8951, 0.8789, 0.7152, 0.8508, 0.9493, 0.6461, 0.3616, 0.5793, 0.8854, 0.6966, 0.3572, 0.6386, 0.8092, -0.0378, 0.6003, 0.2254, 0.1612, -0.0531, 0.1568, 0.4229, 0.1485, -0.1914, -0.1188, 0.2352, 1.3123, 1.2967, 1.2922, 1.289, 1.2837, 1.2835, 1.2831, 1.2811, 1.2793, 1.2781, 1.2753, 1.2687, 1.2611, 1.2606, 1.2595, 1.2479, 1.243, 1.2416, 1.2342, 1.2267, 1.2265, 1.2265, 1.2264, 1.2259, 1.2259, 1.2231, 1.2228, 1.207, 1.2069, 1.2068, 1.1971, 1.199, 1.179, 1.1671, 1.0991, 1.0882, 1.0612, 1.0325, 1.0957, 0.7965, 0.7515, 0.4819, 0.7768, 0.9691, 0.7866, 0.784, 0.0037, 0.6025, 0.13, 0.3395, 0.7212, 0.8021, 0.0469, 0.4527, 0.3679, 0.4972, 0.6325, -0.209, 0.2295, -0.0362, -0.3885, 0.5046, -0.1492, -0.2087, -0.2308, 1.3137, 1.3096, 1.3095, 1.3029, 1.2783, 1.2777, 1.2716, 1.2712, 1.2679, 1.2664, 1.2649, 1.2648, 1.2648, 1.2639, 1.2618, 1.2447, 1.2419, 1.2392, 1.2301, 1.23, 1.226, 1.2258, 1.2251, 1.2236, 1.2197, 1.2151, 1.2102, 1.21, 1.21, 1.2096, 1.2014, 1.2094, 1.1919, 1.1427, 1.1242, 1.1736, 1.0826, 0.9566, 1.0643, 1.0916, 0.9803, 1.0369, 0.9346, 1.0826, 1.1239, 1.0814, 0.9381, 0.8771, 0.8215, 0.9995, 0.8002, 0.5241, 0.8233, 0.6957, 0.5504, 0.3991, -0.2734, -0.4559, 0.0136, 0.3397, 0.6725, -0.0911, -0.0773, -0.0895, -0.223, 0.6732, -0.2754, 0.4524, 0.1208, 0.3013, 1.7793, 1.7322, 1.7313, 1.7056, 1.7055, 1.7048, 1.7, 1.6977, 1.6974, 1.6879, 1.6837, 1.6835, 1.6823, 1.6812, 1.6606, 1.6542, 1.6541, 1.6541, 1.6536, 1.6536, 1.6533, 1.6527, 1.6523, 1.6522, 1.6477, 1.6458, 1.6422, 1.6074, 1.6073, 1.6073, 1.5971, 1.5682, 1.553, 1.4687, 1.3886, 1.2786, 1.5567, 1.1445, 1.5224, 1.3825, 1.4878, 1.5383, 1.3993, 0.6733, 1.3551, 1.2302, 1.091, 0.7718, 1.3681, 0.279, 1.1593, 0.9517, 1.1648, 0.3671, 0.6972, -0.4156, -0.6357, 0.8139, 1.2152, 0.7543, 0.3539, -0.1585, 0.1376, -0.2351, 0.0699, -0.0973, 0.3291, -0.3188, -0.1923, 0.3924, -0.5685, -0.1311]}, \"token.table\": {\"Topic\": [2, 3, 4, 1, 2, 3, 4, 4, 1, 2, 3, 4, 4, 1, 2, 3, 4, 1, 1, 2, 3, 4, 1, 2, 3, 4, 2, 3, 2, 3, 3, 1, 2, 3, 4, 1, 1, 1, 2, 3, 4, 1, 1, 1, 3, 3, 4, 1, 2, 3, 4, 2, 3, 2, 4, 1, 2, 3, 1, 1, 3, 4, 1, 3, 1, 2, 3, 1, 3, 1, 2, 1, 2, 1, 1, 3, 1, 2, 3, 4, 1, 2, 2, 3, 1, 1, 3, 4, 1, 2, 3, 4, 4, 1, 2, 3, 1, 2, 3, 4, 1, 2, 3, 2, 3, 4, 1, 2, 3, 4, 2, 4, 4, 1, 2, 3, 4, 1, 2, 3, 2, 2, 3, 1, 4, 1, 1, 3, 4, 1, 2, 2, 4, 1, 4, 1, 1, 3, 4, 1, 2, 3, 2, 3, 4, 1, 2, 2, 4, 1, 3, 1, 2, 3, 4, 2, 2, 2, 3, 1, 3, 1, 2, 1, 2, 3, 4, 1, 2, 3, 1, 2, 3, 4, 2, 3, 1, 2, 2, 2, 3, 4, 2, 1, 1, 1, 2, 4, 3, 3, 2, 3, 1, 2, 3, 4, 1, 2, 3, 4, 4, 1, 2, 3, 4, 1, 3, 4, 4, 4, 1, 2, 3, 4, 1, 2, 3, 1, 2, 3, 4, 1, 2, 3, 1, 3, 4, 3, 2, 4, 1, 4, 3, 1, 2, 3, 4, 1, 2, 3, 4, 2, 4, 1, 2, 3, 4, 4, 1, 2, 3, 1, 2, 3, 4, 1, 2, 3, 4, 1, 2, 3, 1, 2, 3, 1, 2, 3, 2, 3, 2, 3, 4, 1, 2, 3, 1, 2, 3, 4, 1, 2, 3, 4, 1, 2, 3, 2, 1, 2, 4, 2, 4, 2, 1, 2, 3, 4, 1, 2, 3, 4, 2, 1, 2, 3, 4, 1, 2, 3, 4, 2, 3, 4, 4, 1, 2, 3, 4, 1, 2, 3, 4, 1, 2, 3, 4, 1, 2, 3, 4, 1, 2, 3, 4, 1, 2, 3, 4, 1, 3, 4, 2, 4, 3, 4, 1, 4, 3, 4, 3, 4, 4, 1, 2, 3, 4, 1, 2, 3, 4, 1, 2, 3, 4, 1, 3, 4, 3, 1, 2, 3, 4, 1, 3, 2, 3, 1, 2, 3, 4, 1, 2, 3, 4, 1, 3, 4, 1, 2, 3, 4, 4, 2, 3, 2, 3, 4, 2, 3, 4, 1, 2, 1, 2, 3, 4, 2, 3, 2, 1, 2, 3, 4, 1, 2, 4, 1, 2, 4, 3, 1, 4, 4, 2, 2, 4, 1, 2, 3, 4, 1, 3, 2, 3, 4, 1, 2, 3, 4, 3, 3, 4, 1, 1, 4, 2, 2, 4, 3, 4, 1, 2, 3, 4, 3, 2, 2, 2, 3, 4, 4, 1, 2, 3, 4, 1, 2, 3, 1, 1, 2, 3, 4, 1, 2, 3, 4, 1, 2, 3, 4, 1, 2, 3, 4, 2, 2, 3, 1, 2, 3], \"Freq\": [0.23004526856929822, 0.23004526856929822, 0.506099590852456, 0.5965491305418087, 0.15339834785360795, 0.20453113047147728, 0.05113278261786932, 0.896148746844184, 0.280225777500049, 0.2038005654545811, 0.44156789181825906, 0.0679335218181937, 0.8386204600536405, 0.2555577104141301, 0.24136005983556733, 0.15617415636419063, 0.3549412644640696, 0.972169088238388, 0.7750143472121722, 0.08611270524579691, 0.043056352622898454, 0.12916905786869537, 0.33619500700065563, 0.11766825245022947, 0.5042925105009834, 0.033619500700065565, 0.0652914707818971, 0.9140805909465594, 0.06736048405931787, 0.8756862927711324, 0.8818383438550018, 0.6854141949420909, 0.07409883188563145, 0.16672237174267077, 0.0802737345427674, 0.9506376967657053, 0.9624442638909281, 0.2593329717261629, 0.578512013850671, 0.013299126755187839, 0.14629039430706622, 0.936074606285506, 0.9623069413138137, 0.12659817271750667, 0.85453766584317, 0.9445584778594586, 0.053974770163397634, 0.2609600975297053, 0.4175361560475284, 0.18267206827079369, 0.1435280536413379, 0.9269992169428758, 0.9243399478314082, 0.044965808443574624, 0.8993161688714925, 0.23300659636299048, 0.7281456136343453, 0.02912582454537381, 0.9172153427512176, 0.7411667479734342, 0.04235238559848195, 0.1905857351931688, 0.9947350516184498, 0.9696158109553057, 0.03175625560267853, 0.7621501344642848, 0.1905375336160712, 0.9359869858313185, 0.9701141623009396, 0.8444091787262796, 0.11258789049683728, 0.9306160820793664, 0.034467262299235794, 0.8921590515781236, 0.8921385856875991, 0.9701422093837474, 0.44292513231686215, 0.4851084782518014, 0.042183345934939255, 0.021091672967469628, 0.8921384930654247, 0.9730713884891695, 0.8779007867186328, 0.1350616594951743, 0.9172382403470405, 0.2739810914088141, 0.3013792005496955, 0.4109716371132212, 0.45177324650707956, 0.2123334258583274, 0.20781569339325662, 0.12649650902198228, 0.8961435469244696, 0.18549215001876282, 0.1112952900112577, 0.7048701700712987, 0.0603944913511694, 0.3699162595259126, 0.3925641937826011, 0.18873278547240438, 0.18439934199092403, 0.06146644733030801, 0.7683305916288501, 0.012514548501978709, 0.025029097003957418, 0.9511056861503819, 0.22558590455480407, 0.052058285666493245, 0.6941104755532432, 0.017352761888831083, 0.24791993237389176, 0.7437597971216753, 0.8959205310340446, 0.1629911054691797, 0.3958355418537221, 0.09313777455381696, 0.3492666545768136, 0.9834210407427358, 0.028097744021221026, 0.8980904262578796, 0.9458201626869855, 0.9537311371525344, 0.9581519027370603, 0.1017301377225522, 0.8138411017804176, 0.9361242349123682, 0.06358003918894296, 0.25432015675577185, 0.6993804310783726, 0.8323276704525431, 0.11890395292179187, 0.08636118008388109, 0.863611800838811, 0.9505681510561039, 0.9622029054528749, 0.9173800181111993, 0.2946780012955714, 0.19645200086371428, 0.5107752022456571, 0.11041239077730101, 0.13801548847162626, 0.7452836377467819, 0.7690434533444869, 0.03204347722268695, 0.19226086333612172, 0.929150648016811, 0.04645753240084055, 0.7781245123663565, 0.20749986996436173, 0.935968070411759, 0.9701266877570365, 0.2900135872603373, 0.5385966620549122, 0.14500679363016866, 0.02071525623288124, 0.9269619405802378, 0.9146415720111072, 0.864847617096638, 0.10810595213707976, 0.9661387410084651, 0.02542470371074908, 0.8998838338412188, 0.08436410942261426, 0.1318992452386953, 0.043966415079565106, 0.8133786789719544, 0.021983207539782553, 0.16871234854087866, 0.021089043567609832, 0.8224726991367836, 0.8560033398136999, 0.10700041747671249, 0.1242288910269982, 0.7453733461619892, 0.9146730947212859, 0.9619918717290019, 0.9465697121518762, 0.024271018260304516, 0.9792439938021605, 0.08027014128169932, 0.7625663421761435, 0.12040521192254898, 0.9264780981302971, 0.9044547723161867, 0.9623670343026481, 0.6322936376642493, 0.3448874387259542, 0.01916041326255301, 0.9575025183594911, 0.9798255046200511, 0.86481530456674, 0.9243418339316541, 0.050996334838155716, 0.48446518096247926, 0.35697434386709, 0.11474175338585035, 0.3960182490164454, 0.27617062102462636, 0.239695255983638, 0.09379379581968443, 0.9345827899064238, 0.3656837789414881, 0.3334175631525333, 0.07528783684089461, 0.22586351052268386, 0.14729520330787985, 0.7855744176420257, 0.09819680220525322, 0.8728323891692017, 0.8961704719113042, 0.30314004510317444, 0.42354613778434186, 0.16573544521995986, 0.10624067001279479, 0.09447913216268651, 0.30233322292059683, 0.5857706194086564, 0.13524706054355584, 0.15456806919263524, 0.5796302594723822, 0.11592605189447644, 0.029931726627387543, 0.20952208639171283, 0.7482931656846886, 0.8564247909760387, 0.9243358602930937, 0.8961553204182652, 0.8988929687932052, 0.8504859736857755, 0.14174766228096258, 0.8921531055219277, 0.9622143818648515, 0.9242752695472478, 0.5997230518203953, 0.08329486830838824, 0.19990768394013175, 0.11661281563174353, 0.5610758624234192, 0.22299168891187174, 0.07912608316227707, 0.13667232546211494, 0.3420395864339152, 0.6840791728678304, 0.5684979553788105, 0.08121399362554436, 0.01624279872510887, 0.32485597450217746, 0.8741350522930816, 0.23375929701222217, 0.16363150790855552, 0.5843982425305554, 0.4521950235144372, 0.26323744884702105, 0.19938282016630804, 0.08600827536585837, 0.07294825867364045, 0.10421179810520065, 0.6773766876838042, 0.1458965173472809, 0.05535708120557038, 0.7749991368779853, 0.16607124361671113, 0.05391083888552048, 0.43128671108416383, 0.521138109226698, 0.028411231556738376, 0.6818695573617211, 0.28411231556738376, 0.9166530326359025, 0.06547521661685017, 0.07699324768121633, 0.8469257244933796, 0.746757061909125, 0.1286977751937007, 0.5791399883716531, 0.2895699941858266, 0.058159005207050155, 0.17447701562115045, 0.23263602082820062, 0.5234310468634514, 0.09168752120698787, 0.5705001319545911, 0.29543756833362755, 0.04075000942532794, 0.07200882318372138, 0.8641058782046567, 0.9434162602687116, 0.8848638508472686, 0.0659985379357759, 0.0659985379357759, 0.8579809931650866, 0.9464736524828886, 0.8961606519924049, 0.9013760636229763, 0.25289028034436084, 0.5760278607843775, 0.0702473000956558, 0.11239568015304927, 0.8023564639857534, 0.10643504114096729, 0.03274924342798993, 0.05731117599898239, 0.9266161001657283, 0.48466883753723894, 0.17197926493256865, 0.2345171794535027, 0.1094413504116346, 0.08299920827486358, 0.5809944579240451, 0.3319968330994543, 0.027666402758287863, 0.11371865888121978, 0.7960306121685384, 0.05685932944060989, 0.8961668900358996, 0.3702207725552897, 0.1765006008693823, 0.23676909872722016, 0.21524463520656378, 0.3169143937741357, 0.42783443159508316, 0.20599435595318819, 0.047537159066120355, 0.028340906254553076, 0.042511359381829615, 0.9210794532729749, 0.8961618097522052, 0.07395345712967252, 0.14790691425934505, 0.22186037138901757, 0.5916276570373802, 0.7647439440323548, 0.028323849778976104, 0.08497154933692831, 0.1416192488948805, 0.12087519074387086, 0.556025877421806, 0.006043759537193542, 0.31427549593406423, 0.8049327030027831, 0.10061658787534788, 0.06707772525023192, 0.9730361754247875, 0.8961632625711474, 0.9433386320571742, 0.8386221880545323, 0.8079201086892946, 0.16158402173785893, 0.139543643944704, 0.69771821972352, 0.1860486880514263, 0.7441947522057052, 0.9346569481666905, 0.06940714568141262, 0.2429250098849442, 0.03470357284070631, 0.6593678839734199, 0.20232271302545463, 0.06744090434181821, 0.6609208625498184, 0.08092908521018184, 0.39692124922803246, 0.11907637476840974, 0.26461416615202166, 0.22492204122921838, 0.3500359058560374, 0.10001025881601068, 0.5000512940800533, 0.9434652445419588, 0.6446527963805475, 0.07926058971891978, 0.24306580847135398, 0.03698827520216256, 0.33049741454282733, 0.6609948290856547, 0.08620226038583752, 0.905123734051294, 0.3010192235643935, 0.2969513962189287, 0.26440877745521046, 0.1383061297458024, 0.6939828385825657, 0.10409742578738485, 0.10409742578738485, 0.10409742578738485, 0.927628043791001, 0.056219881441878845, 0.8386232178267652, 0.3668419092789607, 0.2517542514659534, 0.1438595722662591, 0.23017531562601456, 0.8016315628054477, 0.10265068482381917, 0.8725308210024629, 0.9269948912247831, 0.9469026287687257, 0.05681415772612354, 0.23474982030654098, 0.5198031735359122, 0.23474982030654098, 0.9171952352308564, 0.9013743068054063, 0.11252485730456067, 0.3825845148355063, 0.4500994292182427, 0.05626242865228034, 0.9725895749516111, 0.054032754163978396, 0.9367003060781733, 0.138675895068459, 0.0693379475342295, 0.20801384260268854, 0.6240415278080655, 0.795538562898296, 0.13835453267796452, 0.06917726633898226, 0.7585266860361132, 0.09787441110143397, 0.12234301387679246, 0.8988940410049475, 0.13931718638021376, 0.6965859319010689, 0.9338796594302913, 0.9269636859246441, 0.946145872036324, 0.8961707614862396, 0.2665358210148401, 0.13326791050742004, 0.09995093288056503, 0.46643768677597014, 0.15384168708224374, 0.8461292789523406, 0.9013743914067605, 0.9874786577617631, 0.9346385126050094, 0.043436912299837545, 0.17374764919935018, 0.6298352283476445, 0.17374764919935018, 0.9701087813872283, 0.22275137649218035, 0.6682541294765411, 0.9631074814283418, 0.12394799763946518, 0.7436879858367911, 0.9269402452241631, 0.9654381624386346, 0.03861752649754538, 0.8988979161544831, 0.9622096492392436, 0.07923307076111229, 0.07923307076111229, 0.15846614152222457, 0.6338645660888983, 0.9244358906252564, 0.9269945277780286, 0.8844990645643578, 0.08337382988253818, 0.7920513838841127, 0.12506074482380725, 0.9345904579320345, 0.3557419309083392, 0.15246082753214538, 0.12705068961012114, 0.3557419309083392, 0.09003502636814868, 0.9003502636814869, 0.924631718551495, 0.9786202015430325, 0.050250126417027904, 0.1507503792510837, 0.20100050566811162, 0.5527513905873069, 0.24826263923278394, 0.21516095400174606, 0.36411853754141643, 0.17378384746294875, 0.2416759237731999, 0.06905026393519997, 0.10357539590279996, 0.5869272434491998, 0.3031336892084715, 0.12991443823220208, 0.404178252277962, 0.15878431339491364, 0.9008118560035231, 0.8873711736496835, 0.0771627107521464, 0.8242142907787686, 0.06682818573881907, 0.11138030956469847], \"Term\": [\"\\uac00\\ub85c\\uc218\", \"\\uac00\\ub85c\\uc218\", \"\\uac00\\ub85c\\uc218\", \"\\uac15\\ubcc0\", \"\\uac15\\ubcc0\", \"\\uac15\\ubcc0\", \"\\uac15\\ubcc0\", \"\\uac1c\\uad00\", \"\\uac1c\\uc120\", \"\\uac1c\\uc120\", \"\\uac1c\\uc120\", \"\\uac1c\\uc120\", \"\\uac70\\ub798\", \"\\uac70\\ub9ac\", \"\\uac70\\ub9ac\", \"\\uac70\\ub9ac\", \"\\uac70\\ub9ac\", \"\\uac70\\uce58\", \"\\uac77\\uae30\", \"\\uac77\\uae30\", \"\\uac77\\uae30\", \"\\uac77\\uae30\", \"\\uacbd\\uad00\", \"\\uacbd\\uad00\", \"\\uacbd\\uad00\", \"\\uacbd\\uad00\", \"\\uacc4\\ub2e8\", \"\\uacc4\\ub2e8\", \"\\uace0\\uc18d\\ub3c4\\ub85c\", \"\\uace0\\uc18d\\ub3c4\\ub85c\", \"\\uace8\\ubaa9\\uae38\", \"\\uacf5\\uac04\", \"\\uacf5\\uac04\", \"\\uacf5\\uac04\", \"\\uacf5\\uac04\", \"\\uacf5\\uc601\", \"\\uacf5\\uc6a9\", \"\\uacf5\\uc6d0\", \"\\uacf5\\uc6d0\", \"\\uacf5\\uc6d0\", \"\\uacf5\\uc6d0\", \"\\uacf5\\ud130\", \"\\uad11\\uc7a5\", \"\\uad50\\uac01\", \"\\uad50\\uac01\", \"\\uad50\\ub7c9\", \"\\uad50\\ub7c9\", \"\\uad6c\\uac04\", \"\\uad6c\\uac04\", \"\\uad6c\\uac04\", \"\\uad6c\\uac04\", \"\\uad6c\\ub984\\ub2e4\\ub9ac\", \"\\uad6c\\uc554\\uc11c\\uc6d0\", \"\\uad6c\\ucd95\", \"\\uad6c\\ucd95\", \"\\uadf8\\ub298\", \"\\uadf8\\ub298\", \"\\uadf8\\ub298\", \"\\uae08\\uc5f0\", \"\\uae08\\ud638\\uac15\", \"\\uae08\\ud638\\uac15\", \"\\uae08\\ud638\\uac15\", \"\\uae30\\uad6c\", \"\\ub0b4\\ubd80\", \"\\ub124\\uac70\\ub9ac\", \"\\ub124\\uac70\\ub9ac\", \"\\ub124\\uac70\\ub9ac\", \"\\ub178\\uc0c1\", \"\\ub179\\uc0c9\", \"\\ub180\\uc774\", \"\\ub180\\uc774\", \"\\ub180\\uc774\\ud130\", \"\\ub180\\uc774\\ud130\", \"\\ub18d\\uad6c\", \"\\ub18d\\uad6c\\uc7a5\", \"\\ub18d\\uc7a5\", \"\\ub2e4\\ub9ac\", \"\\ub2e4\\ub9ac\", \"\\ub2e4\\ub9ac\", \"\\ub2e4\\ub9ac\", \"\\ub2e4\\ubcc0\", \"\\ub2e8\\uacc4\", \"\\ub2e8\\uc18d\", \"\\ub2e8\\uc18d\", \"\\ub2f4\\ubc30\", \"\\ub300\\uad50\", \"\\ub300\\uad50\", \"\\ub300\\uad50\", \"\\ub300\\uad6c\", \"\\ub300\\uad6c\", \"\\ub300\\uad6c\", \"\\ub300\\uad6c\", \"\\ub300\\uba74\", \"\\ub300\\ubd09\", \"\\ub300\\ubd09\", \"\\ub300\\ubd09\", \"\\ub3c4\\ub85c\", \"\\ub3c4\\ub85c\", \"\\ub3c4\\ub85c\", \"\\ub3c4\\ub85c\", \"\\ub3c4\\uc0c9\", \"\\ub3c4\\uc0c9\", \"\\ub3c4\\uc0c9\", \"\\ub3c4\\uc11c\\uad00\", \"\\ub3c4\\uc11c\\uad00\", \"\\ub3c4\\uc11c\\uad00\", \"\\ub3c4\\uc2dc\", \"\\ub3c4\\uc2dc\", \"\\ub3c4\\uc2dc\", \"\\ub3c4\\uc2dc\", \"\\ub3c4\\uc785\", \"\\ub3c4\\uc785\", \"\\ub3c5\\uc11c\", \"\\ub3d9\\uad6c\", \"\\ub3d9\\uad6c\", \"\\ub3d9\\uad6c\", \"\\ub3d9\\uad6c\", \"\\ub3d9\\uc0b0\", \"\\ub3d9\\uc0b0\", \"\\ub3d9\\uc778\", \"\\ub450\\uc0b0\", \"\\ub4a4\\ud3b8\", \"\\ub4dc\\ub9bc\", \"\\ub7a8\\ud504\", \"\\ub7a8\\ud504\", \"\\ub85c\\uace0\", \"\\ub9c8\\uc744\", \"\\ub9c8\\uc744\", \"\\ub9c8\\uc744\", \"\\ub9c8\\uc74c\", \"\\ub9c8\\uc74c\", \"\\ub9cc\\uc6d0\", \"\\ub9cc\\uc6d0\", \"\\ub9e4\\ud2b8\", \"\\uba54\\ud0c0\", \"\\ubaa8\\uc784\", \"\\ubb38\\ud654\", \"\\ubb38\\ud654\", \"\\ubb38\\ud654\", \"\\ubbf8\\uad00\", \"\\ubbf8\\uad00\", \"\\ubbf8\\uad00\", \"\\ubbf8\\uc138\\uba3c\\uc9c0\", \"\\ubbf8\\uc138\\uba3c\\uc9c0\", \"\\ubbf8\\uc138\\uba3c\\uc9c0\", \"\\ubc18\\ub824\\uacac\", \"\\ubc18\\ub824\\uacac\", \"\\ubc29\\ubc94\", \"\\ubc29\\ubc94\", \"\\ubc29\\uc1a1\", \"\\ubc29\\uc74c\\ubcbd\", \"\\ubc29\\uc9c0\", \"\\ubc29\\uc9c0\", \"\\ubc29\\uc9c0\", \"\\ubc29\\uc9c0\", \"\\ubc30\\ub2ec\", \"\\ubc30\\ubcc0\", \"\\ubc8c\\ub808\", \"\\ubc8c\\ub808\", \"\\ubc9a\\uaf43\", \"\\ubc9a\\uaf43\", \"\\ubca4\\uce58\", \"\\ubca4\\uce58\", \"\\ubcbd\\uba74\", \"\\ubcbd\\uba74\", \"\\ubcbd\\uba74\", \"\\ubcbd\\uba74\", \"\\ubcbd\\ud654\", \"\\ubcbd\\ud654\", \"\\ubcbd\\ud654\", \"\\ubcc4\\uad00\", \"\\ubcc4\\uad00\", \"\\ubcc4\\uc790\\ub9ac\", \"\\ubcc4\\uc790\\ub9ac\", \"\\ubcf4\\uad00\", \"\\ubcf4\\ub3c4\", \"\\ubcf4\\ub77c\", \"\\ubcf4\\ub77c\", \"\\ubcf5\\uac1c\", \"\\ubcf5\\uc9c0\", \"\\ubcf5\\uc9c0\", \"\\ubcf5\\uc9c0\", \"\\ubd09\\ud22c\", \"\\ubd80\\uc9c0\", \"\\ubd84\\uc218\", \"\\ubd88\\ubc95\", \"\\ubd88\\ubc95\", \"\\ubd88\\ubc95\", \"\\ube14\\ub7ed\", \"\\ube14\\ub85d\", \"\\ube48\\ubc88\", \"\\ubfcc\\ub9ac\", \"\\uc0ac\\uace0\", \"\\uc0ac\\uace0\", \"\\uc0ac\\uace0\", \"\\uc0ac\\uace0\", \"\\uc0ac\\uc5c5\", \"\\uc0ac\\uc5c5\", \"\\uc0ac\\uc5c5\", \"\\uc0ac\\uc5c5\", \"\\uc0ac\\ud68c\", \"\\uc0b0\\ucc45\\ub85c\", \"\\uc0b0\\ucc45\\ub85c\", \"\\uc0b0\\ucc45\\ub85c\", \"\\uc0b0\\ucc45\\ub85c\", \"\\uc0dd\\ud0dc\", \"\\uc0dd\\ud0dc\", \"\\uc0dd\\ud0dc\", \"\\uc11c\\ube44\\uc2a4\", \"\\uc120\\ud589\", \"\\uc124\\uce58\", \"\\uc124\\uce58\", \"\\uc124\\uce58\", \"\\uc124\\uce58\", \"\\uc131\\uad50\", \"\\uc131\\uad50\", \"\\uc131\\uad50\", \"\\uc13c\\ud130\", \"\\uc13c\\ud130\", \"\\uc13c\\ud130\", \"\\uc13c\\ud130\", \"\\uc18c\\uc74c\", \"\\uc18c\\uc74c\", \"\\uc18c\\uc74c\", \"\\uc218\\uac70\", \"\\uc218\\ub2ec\", \"\\uc218\\uc9d1\", \"\\uc218\\ud655\", \"\\uc2a4\\ub9c8\\ud2b8\", \"\\uc2a4\\ub9c8\\ud2b8\", \"\\uc2a4\\ud3ec\\uce20\", \"\\uc2b9\\uac15\\uc7a5\", \"\\uc2dc\\uacf5\", \"\\uc2dc\\ubbfc\", \"\\uc2dc\\ubbfc\", \"\\uc2dc\\ubbfc\", \"\\uc2dc\\ubbfc\", \"\\uc2dc\\uc124\", \"\\uc2dc\\uc124\", \"\\uc2dc\\uc124\", \"\\uc2dc\\uc124\", \"\\uc2dc\\uc2a4\\ud15c\", \"\\uc2dc\\uc2a4\\ud15c\", \"\\uc2dc\\uc7a5\", \"\\uc2dc\\uc7a5\", \"\\uc2dc\\uc7a5\", \"\\uc2dc\\uc7a5\", \"\\uc2dd\\uc218\", \"\\uc2e0\\uad50\", \"\\uc2e0\\uad50\", \"\\uc2e0\\uad50\", \"\\uc2e0\\ucc9c\", \"\\uc2e0\\ucc9c\", \"\\uc2e0\\ucc9c\", \"\\uc2e0\\ucc9c\", \"\\uc2e0\\ucc9c\\ub300\\ub85c\", \"\\uc2e0\\ucc9c\\ub300\\ub85c\", \"\\uc2e0\\ucc9c\\ub300\\ub85c\", \"\\uc2e0\\ucc9c\\ub300\\ub85c\", \"\\uc2e0\\ucc9c\\ub3d9\", \"\\uc2e0\\ucc9c\\ub3d9\", \"\\uc2e0\\ucc9c\\ub3d9\", \"\\uc2e0\\ucc9c\\ub3d9\\ub85c\", \"\\uc2e0\\ucc9c\\ub3d9\\ub85c\", \"\\uc2e0\\ucc9c\\ub3d9\\ub85c\", \"\\uc2e0\\ucc9c\\uc5ed\", \"\\uc2e0\\ucc9c\\uc5ed\", \"\\uc2e0\\ucc9c\\uc5ed\", \"\\uc2e0\\ud638\\ub4f1\", \"\\uc2e0\\ud638\\ub4f1\", \"\\uc2e4\\ucc9c\", \"\\uc2e4\\ucc9c\", \"\\uc2ec\\uc7a5\", \"\\uc544\\ud30c\\ud2b8\", \"\\uc544\\ud30c\\ud2b8\", \"\\uc544\\ud30c\\ud2b8\", \"\\uc548\\uc2ec\", \"\\uc548\\uc2ec\", \"\\uc548\\uc2ec\", \"\\uc548\\uc2ec\", \"\\uc548\\uc804\", \"\\uc548\\uc804\", \"\\uc548\\uc804\", \"\\uc548\\uc804\", \"\\uc54c\\ub9bc\", \"\\uc54c\\ub9bc\", \"\\uc554\\uc0b0\", \"\\uc5ec\\uc18c\", \"\\uc5f0\\uad6c\", \"\\uc5f0\\uad6c\", \"\\uc5f0\\uad6c\", \"\\uc624\\uc5fc\", \"\\uc628\\ub77c\\uc778\", \"\\uc640\\uc774\\ud30c\\uc774\", \"\\uc694\\uccad\", \"\\uc694\\uccad\", \"\\uc694\\uccad\", \"\\uc694\\uccad\", \"\\uc6b4\\ub3d9\", \"\\uc6b4\\ub3d9\", \"\\uc6b4\\ub3d9\", \"\\uc6b4\\ub3d9\", \"\\uc704\\ube0c\", \"\\uc704\\uce58\", \"\\uc704\\uce58\", \"\\uc704\\uce58\", \"\\uc704\\uce58\", \"\\uc704\\ud5d8\", \"\\uc704\\ud5d8\", \"\\uc704\\ud5d8\", \"\\uc704\\ud5d8\", \"\\uc720\\ub3c4\", \"\\uc720\\ub3c4\", \"\\uc720\\ub3c4\", \"\\uc774\\uc2dd\", \"\\uc774\\uc6a9\", \"\\uc774\\uc6a9\", \"\\uc774\\uc6a9\", \"\\uc774\\uc6a9\", \"\\uc778\\uadfc\", \"\\uc778\\uadfc\", \"\\uc778\\uadfc\", \"\\uc778\\uadfc\", \"\\uc778\\ub3c4\", \"\\uc778\\ub3c4\", \"\\uc778\\ub3c4\", \"\\uc778\\uc99d\", \"\\uc790\\ub8cc\", \"\\uc790\\ub8cc\", \"\\uc790\\ub8cc\", \"\\uc790\\ub8cc\", \"\\uc790\\uc5f0\", \"\\uc790\\uc5f0\", \"\\uc790\\uc5f0\", \"\\uc790\\uc5f0\", \"\\uc790\\uc804\\uac70\", \"\\uc790\\uc804\\uac70\", \"\\uc790\\uc804\\uac70\", \"\\uc790\\uc804\\uac70\", \"\\uc794\\ub514\", \"\\uc794\\ub514\", \"\\uc794\\ub514\", \"\\uc7a0\\uc218\\uad50\", \"\\uc7a5\\ud130\", \"\\uc7ac\\uc815\", \"\\uc804\\uad6c\", \"\\uc804\\uae30\\ucc28\", \"\\uc804\\uae30\\ucc28\", \"\\uc804\\ub3d9\", \"\\uc804\\ub3d9\", \"\\uc804\\uc6a9\", \"\\uc804\\uc6a9\", \"\\uc811\\uadfc\", \"\\uc815\\ubcf4\", \"\\uc815\\ubcf4\", \"\\uc815\\ubcf4\", \"\\uc815\\ubcf4\", \"\\uc815\\ube44\", \"\\uc815\\ube44\", \"\\uc815\\ube44\", \"\\uc815\\ube44\", \"\\uc81c\\uacf5\", \"\\uc81c\\uacf5\", \"\\uc81c\\uacf5\", \"\\uc81c\\uacf5\", \"\\uc81c\\uc791\", \"\\uc81c\\uc791\", \"\\uc81c\\uc791\", \"\\uc870\\uacbd\", \"\\uc870\\uc131\", \"\\uc870\\uc131\", \"\\uc870\\uc131\", \"\\uc870\\uc131\", \"\\uc870\\ud615\", \"\\uc870\\ud615\", \"\\uc88c\\ud68c\\uc804\", \"\\uc88c\\ud68c\\uc804\", \"\\uc8fc\\ubbfc\", \"\\uc8fc\\ubbfc\", \"\\uc8fc\\ubbfc\", \"\\uc8fc\\ubbfc\", \"\\uc8fc\\ucc28\", \"\\uc8fc\\ucc28\", \"\\uc8fc\\ucc28\", \"\\uc8fc\\ucc28\", \"\\uc8fc\\ucc28\\uc7a5\", \"\\uc8fc\\ucc28\\uc7a5\", \"\\uc911\\uace0\", \"\\uc9c0\\uc5ed\", \"\\uc9c0\\uc5ed\", \"\\uc9c0\\uc5ed\", \"\\uc9c0\\uc5ed\", \"\\uc9c0\\uc6d0\", \"\\uc9c0\\ud558\", \"\\uc9c0\\ud558\", \"\\uc9c0\\ud558\\ub3c4\", \"\\uc9c0\\ud558\\ucc28\\ub3c4\", \"\\uc9c0\\ud558\\ucc28\\ub3c4\", \"\\uc9c4\\uc785\", \"\\uc9c4\\uc785\", \"\\uc9c4\\uc785\", \"\\ucc10\\ube75\", \"\\ucc28\\ub2e8\\uae30\", \"\\ucc28\\ub7c9\", \"\\ucc28\\ub7c9\", \"\\ucc28\\ub7c9\", \"\\ucc28\\ub7c9\", \"\\ucca0\\uae38\", \"\\ucca0\\uae38\", \"\\ucca0\\ub85c\", \"\\ucca8\\ubd80\\ud30c\\uc77c\", \"\\ucca8\\ubd80\\ud30c\\uc77c\", \"\\ucca8\\ubd80\\ud30c\\uc77c\", \"\\ucca8\\ubd80\\ud30c\\uc77c\", \"\\uccad\\ub144\", \"\\uccad\\ub144\", \"\\uccad\\ub144\", \"\\uccb4\\uc721\", \"\\uccb4\\uc721\", \"\\uccb4\\uc721\", \"\\ucd08\\uad50\", \"\\ucda9\\uaca9\", \"\\ucda9\\uaca9\", \"\\ucde8\\uc57d\", \"\\uce68\\uc218\", \"\\uce74\\uba54\\ub77c\", \"\\ucee8\\ud150\\uce20\", \"\\ucf54\\ub85c\\ub098\", \"\\ucf54\\ub85c\\ub098\", \"\\ucf54\\ub85c\\ub098\", \"\\ucf54\\ub85c\\ub098\", \"\\ud0c0\\uc77c\", \"\\ud0c0\\uc77c\", \"\\ud0dc\\ud48d\", \"\\ud1b5\\ub85c\", \"\\ud1b5\\ud569\", \"\\ud1b5\\ud589\", \"\\ud1b5\\ud589\", \"\\ud1b5\\ud589\", \"\\ud1b5\\ud589\", \"\\ud30c\\uc190\", \"\\ud310\\ub9e4\", \"\\ud310\\ub9e4\", \"\\ud3ec\\ud1a0\", \"\\ud3ec\\ud568\", \"\\ud3ec\\ud568\", \"\\ud3ed\\uc5fc\", \"\\ud45c\\uc9c0\", \"\\ud45c\\uc9c0\", \"\\ud478\\ub978\", \"\\ud50c\\ub7ab\\ud3fc\", \"\\ud559\\uc0dd\", \"\\ud559\\uc0dd\", \"\\ud559\\uc0dd\", \"\\ud559\\uc0dd\", \"\\ud559\\uc2b5\", \"\\ud568\\uc9c0\", \"\\ud574\\ucda9\", \"\\ud589\\uc815\", \"\\ud589\\uc815\", \"\\ud589\\uc815\", \"\\ud648\\ud398\\uc774\\uc9c0\", \"\\ud64d\\ubcf4\", \"\\ud64d\\ubcf4\", \"\\ud64d\\ubcf4\", \"\\ud64d\\ubcf4\", \"\\ud64d\\uc218\", \"\\ud64d\\uc218\", \"\\ud654\\uae30\", \"\\ud654\\uc7a5\\uc2e4\", \"\\ud655\\uc778\", \"\\ud655\\uc778\", \"\\ud655\\uc778\", \"\\ud655\\uc778\", \"\\ud658\\uacbd\", \"\\ud658\\uacbd\", \"\\ud658\\uacbd\", \"\\ud658\\uacbd\", \"\\ud65c\\uc131\\ud654\", \"\\ud65c\\uc131\\ud654\", \"\\ud65c\\uc131\\ud654\", \"\\ud65c\\uc131\\ud654\", \"\\ud65c\\uc6a9\", \"\\ud65c\\uc6a9\", \"\\ud65c\\uc6a9\", \"\\ud65c\\uc6a9\", \"\\ud68c\\uc804\\uad50\\ucc28\\ub85c\", \"\\ud6a1\\ub2e8\\ubcf4\\ub3c4\", \"\\ud6a1\\ub2e8\\ubcf4\\ub3c4\", \"\\ud734\\uc2dd\", \"\\ud734\\uc2dd\", \"\\ud734\\uc2dd\"]}, \"R\": 30, \"lambda.step\": 0.01, \"plot.opts\": {\"xlab\": \"PC1\", \"ylab\": \"PC2\"}, \"topic.order\": [4, 1, 2, 3]};\n",
       "\n",
       "function LDAvis_load_lib(url, callback){\n",
       "  var s = document.createElement('script');\n",
       "  s.src = url;\n",
       "  s.async = true;\n",
       "  s.onreadystatechange = s.onload = callback;\n",
       "  s.onerror = function(){console.warn(\"failed to load library \" + url);};\n",
       "  document.getElementsByTagName(\"head\")[0].appendChild(s);\n",
       "}\n",
       "\n",
       "if(typeof(LDAvis) !== \"undefined\"){\n",
       "   // already loaded: just create the visualization\n",
       "   !function(LDAvis){\n",
       "       new LDAvis(\"#\" + \"ldavis_el2441627024190226646843024404\", ldavis_el2441627024190226646843024404_data);\n",
       "   }(LDAvis);\n",
       "}else if(typeof define === \"function\" && define.amd){\n",
       "   // require.js is available: use it to load d3/LDAvis\n",
       "   require.config({paths: {d3: \"https://d3js.org/d3.v5\"}});\n",
       "   require([\"d3\"], function(d3){\n",
       "      window.d3 = d3;\n",
       "      LDAvis_load_lib(\"https://cdn.jsdelivr.net/gh/bmabey/pyLDAvis@3.3.1/pyLDAvis/js/ldavis.v3.0.0.js\", function(){\n",
       "        new LDAvis(\"#\" + \"ldavis_el2441627024190226646843024404\", ldavis_el2441627024190226646843024404_data);\n",
       "      });\n",
       "    });\n",
       "}else{\n",
       "    // require.js not available: dynamically load d3 & LDAvis\n",
       "    LDAvis_load_lib(\"https://d3js.org/d3.v5.js\", function(){\n",
       "         LDAvis_load_lib(\"https://cdn.jsdelivr.net/gh/bmabey/pyLDAvis@3.3.1/pyLDAvis/js/ldavis.v3.0.0.js\", function(){\n",
       "                 new LDAvis(\"#\" + \"ldavis_el2441627024190226646843024404\", ldavis_el2441627024190226646843024404_data);\n",
       "            })\n",
       "         });\n",
       "}\n",
       "</script>"
      ],
      "text/plain": [
       "PreparedData(topic_coordinates=              x         y  topics  cluster       Freq\n",
       "topic                                                \n",
       "3     -0.051771  0.111454       1        1  31.542369\n",
       "0      0.049536 -0.083204       2        1  26.199179\n",
       "1      0.115485  0.029257       3        1  26.128322\n",
       "2     -0.113251 -0.057508       4        1  16.130129, topic_info=     Term        Freq       Total Category  logprob  loglift\n",
       "182   도서관   79.000000   79.000000  Default  30.0000  30.0000\n",
       "105   자전거  165.000000  165.000000  Default  29.0000  29.0000\n",
       "661    인도   70.000000   70.000000  Default  28.0000  28.0000\n",
       "119    공원  150.000000  150.000000  Default  27.0000  27.0000\n",
       "753  지하차도   52.000000   52.000000  Default  26.0000  26.0000\n",
       "..    ...         ...         ...      ...      ...      ...\n",
       "98     시민   21.118252  180.083123   Topic4  -5.0351  -0.3188\n",
       "99     시설   18.501478  139.018634   Topic4  -5.1674  -0.1923\n",
       "332    진입   14.242440   59.637958   Topic4  -5.4291   0.3924\n",
       "8      사업   17.532255  191.910348   Topic4  -5.2212  -0.5685\n",
       "377  신천대로   13.576749   95.958425   Topic4  -5.4769  -0.1311\n",
       "\n",
       "[299 rows x 6 columns], token_table=      Topic      Freq  Term\n",
       "term                       \n",
       "650       2  0.230045   가로수\n",
       "650       3  0.230045   가로수\n",
       "650       4  0.506100   가로수\n",
       "79        1  0.596549    강변\n",
       "79        2  0.153398    강변\n",
       "...     ...       ...   ...\n",
       "645       2  0.887371  횡단보도\n",
       "645       3  0.077163  횡단보도\n",
       "476       1  0.824214    휴식\n",
       "476       2  0.066828    휴식\n",
       "476       3  0.111380    휴식\n",
       "\n",
       "[492 rows x 3 columns], R=30, lambda_step=0.01, plot_opts={'xlab': 'PC1', 'ylab': 'PC2'}, topic_order=[4, 1, 2, 3])"
      ]
     },
     "execution_count": 15,
     "metadata": {},
     "output_type": "execute_result"
    }
   ],
   "source": [
    "import pyLDAvis\n",
    "import pyLDAvis.gensim_models as gensimvis\n",
    "pyLDAvis.enable_notebook()\n",
    "\n",
    "import warnings\n",
    "warnings.filterwarnings(\"ignore\", category=DeprecationWarning) \n",
    "\n",
    "gensimvis.prepare(model, corpus, dictionary)"
   ]
  },
  {
   "cell_type": "code",
   "execution_count": null,
   "metadata": {},
   "outputs": [],
   "source": []
  }
 ],
 "metadata": {
  "kernelspec": {
   "display_name": "Python 3.7.13 ('sklearn')",
   "language": "python",
   "name": "python3"
  },
  "language_info": {
   "codemirror_mode": {
    "name": "ipython",
    "version": 3
   },
   "file_extension": ".py",
   "mimetype": "text/x-python",
   "name": "python",
   "nbconvert_exporter": "python",
   "pygments_lexer": "ipython3",
   "version": "3.7.13"
  },
  "orig_nbformat": 4,
  "vscode": {
   "interpreter": {
    "hash": "4587f29e858e226412890b0be53498441dc114019e1a475fd5ac3bcafcae93fa"
   }
  }
 },
 "nbformat": 4,
 "nbformat_minor": 2
}
