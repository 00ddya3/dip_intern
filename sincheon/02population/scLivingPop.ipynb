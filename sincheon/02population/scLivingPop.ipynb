{
 "cells": [
  {
   "cell_type": "code",
   "execution_count": 18,
   "metadata": {},
   "outputs": [],
   "source": [
    "import os\n",
    "#os.chdir(r'C:\\Users\\빅데이터활용센터\\Desktop\\신천')\n",
    "from shapely.geometry import Point, LineString, Polygon\n",
    "import geopandas as gpd\n",
    "import pandas as pd\n",
    "from fiona.crs import from_string\n",
    "from shapely.geometry import MultiPoint"
   ]
  },
  {
   "cell_type": "code",
   "execution_count": 3,
   "metadata": {},
   "outputs": [],
   "source": [
    "df = pd.read_csv('merge_right.csv')\n",
    "df = gpd.GeoDataFrame(df)\n",
    "\n",
    "df['lon'] = df['lon'].astype(float)\n",
    "df['lat'] = df['lat'].astype(float)\n",
    "\n",
    "#4326 좌표계 -> 5181 좌표계\n",
    "df['geometry'] = df.apply(lambda row : Point([row['lon'], row['lat']]), axis=1)\n",
    "df = gpd.GeoDataFrame(df, geometry='geometry', crs = 'epsg:4326')\n",
    "df = df.to_crs(epsg=5181)"
   ]
  },
  {
   "cell_type": "code",
   "execution_count": 4,
   "metadata": {
    "scrolled": true
   },
   "outputs": [
    {
     "name": "stderr",
     "output_type": "stream",
     "text": [
      "C:\\ProgramData\\Anaconda3\\lib\\site-packages\\pyproj\\crs\\crs.py:131: FutureWarning: '+init=<authority>:<code>' syntax is deprecated. '<authority>:<code>' is the preferred initialization method. When making the change, be mindful of axis order changes: https://pyproj4.github.io/pyproj/stable/gotchas.html#axis-order-changes-in-proj-6\n",
      "  in_crs_string = _prepare_from_proj_string(in_crs_string)\n",
      "C:\\ProgramData\\Anaconda3\\lib\\site-packages\\pyproj\\crs\\crs.py:131: FutureWarning: '+init=<authority>:<code>' syntax is deprecated. '<authority>:<code>' is the preferred initialization method. When making the change, be mindful of axis order changes: https://pyproj4.github.io/pyproj/stable/gotchas.html#axis-order-changes-in-proj-6\n",
      "  in_crs_string = _prepare_from_proj_string(in_crs_string)\n",
      "<ipython-input-4-8f275427d317>:10: DeprecationWarning: This function is deprecated. See: https://pyproj4.github.io/pyproj/stable/gotchas.html#upgrading-to-pyproj-2-from-pyproj-1\n",
      "  final_sum['x'], final_sum['y'] = transform(epsg5179, epsg5181, final_sum['X_COORD'].tolist(), final_sum['Y_COORD'].tolist())\n",
      "<ipython-input-4-8f275427d317>:11: DeprecationWarning: This function is deprecated. See: https://pyproj4.github.io/pyproj/stable/gotchas.html#upgrading-to-pyproj-2-from-pyproj-1\n",
      "  final_mean['x'], final_mean['y'] = transform(epsg5179, epsg5181, final_mean['X_COORD'].tolist(), final_mean['Y_COORD'].tolist())\n"
     ]
    }
   ],
   "source": [
    "from pyproj import Proj, transform\n",
    "\n",
    "final_sum = pd.read_csv('final_sum.csv')\n",
    "final_mean = pd.read_csv('final_mean.csv')\n",
    "\n",
    "epsg5179 = Proj(init=\"epsg:5179\")\n",
    "epsg5181 = Proj(init=\"epsg:5181\")\n",
    "\n",
    "#5179 좌표계 -> 5181 좌표계             \n",
    "final_sum['x'], final_sum['y'] = transform(epsg5179, epsg5181, final_sum['X_COORD'].tolist(), final_sum['Y_COORD'].tolist())\n",
    "final_mean['x'], final_mean['y'] = transform(epsg5179, epsg5181, final_mean['X_COORD'].tolist(), final_mean['Y_COORD'].tolist())"
   ]
  },
  {
   "cell_type": "code",
   "execution_count": 5,
   "metadata": {},
   "outputs": [],
   "source": [
    "#gpd로 만들기\n",
    "sumPoint = gpd.GeoDataFrame(final_sum, \n",
    "                           geometry = gpd.points_from_xy(final_sum.x, final_sum.y),\n",
    "                          crs='epsg:5181')\n",
    "\n",
    "meanPoint = gpd.GeoDataFrame(final_mean, \n",
    "                           geometry = gpd.points_from_xy(final_mean.x, final_mean.y),\n",
    "                          crs='epsg:5181')"
   ]
  },
  {
   "cell_type": "code",
   "execution_count": 6,
   "metadata": {},
   "outputs": [
    {
     "data": {
      "text/html": [
       "<div>\n",
       "<style scoped>\n",
       "    .dataframe tbody tr th:only-of-type {\n",
       "        vertical-align: middle;\n",
       "    }\n",
       "\n",
       "    .dataframe tbody tr th {\n",
       "        vertical-align: top;\n",
       "    }\n",
       "\n",
       "    .dataframe thead th {\n",
       "        text-align: right;\n",
       "    }\n",
       "</style>\n",
       "<table border=\"1\" class=\"dataframe\">\n",
       "  <thead>\n",
       "    <tr style=\"text-align: right;\">\n",
       "      <th></th>\n",
       "      <th>qun</th>\n",
       "      <th>time</th>\n",
       "      <th>geometry</th>\n",
       "    </tr>\n",
       "  </thead>\n",
       "  <tbody>\n",
       "    <tr>\n",
       "      <th>0</th>\n",
       "      <td>#f0f921</td>\n",
       "      <td>5</td>\n",
       "      <td>POLYGON ((344903.627 260878.767, 344758.842 26...</td>\n",
       "    </tr>\n",
       "    <tr>\n",
       "      <th>1</th>\n",
       "      <td>#f89540</td>\n",
       "      <td>10</td>\n",
       "      <td>POLYGON ((344628.423 260747.433, 344510.023 26...</td>\n",
       "    </tr>\n",
       "    <tr>\n",
       "      <th>2</th>\n",
       "      <td>#cc4778</td>\n",
       "      <td>15</td>\n",
       "      <td>POLYGON ((344804.757 260546.835, 344402.275 26...</td>\n",
       "    </tr>\n",
       "    <tr>\n",
       "      <th>3</th>\n",
       "      <td>#7e03a8</td>\n",
       "      <td>20</td>\n",
       "      <td>POLYGON ((344835.830 260244.593, 343993.612 26...</td>\n",
       "    </tr>\n",
       "    <tr>\n",
       "      <th>4</th>\n",
       "      <td>#0d0887</td>\n",
       "      <td>25</td>\n",
       "      <td>POLYGON ((343869.233 260652.640, 343672.925 26...</td>\n",
       "    </tr>\n",
       "  </tbody>\n",
       "</table>\n",
       "</div>"
      ],
      "text/plain": [
       "       qun time                                           geometry\n",
       "0  #f0f921    5  POLYGON ((344903.627 260878.767, 344758.842 26...\n",
       "1  #f89540   10  POLYGON ((344628.423 260747.433, 344510.023 26...\n",
       "2  #cc4778   15  POLYGON ((344804.757 260546.835, 344402.275 26...\n",
       "3  #7e03a8   20  POLYGON ((344835.830 260244.593, 343993.612 26...\n",
       "4  #0d0887   25  POLYGON ((343869.233 260652.640, 343672.925 26..."
      ]
     },
     "execution_count": 6,
     "metadata": {},
     "output_type": "execute_result"
    }
   ],
   "source": [
    "L_qun= ['#f0f921', '#f89540', '#cc4778', '#7e03a8','#0d0887']\n",
    "L_time = [5, 10, 15, 20, 25]\n",
    "\n",
    "qun_df = pd.DataFrame()\n",
    "\n",
    "for i in range(5) :\n",
    "    #특정 색상값을 가진 df만 추출\n",
    "    qun = L_qun[i]\n",
    "    df_t = df[df.Qunatity == qun]\n",
    "    \n",
    "    #추출된 df의 점들로 폴리곤 생성, 경계값만 가져와서 저장\n",
    "    poly_t = Polygon(Polygon(MultiPoint([[p.x, p.y] for p in df_t.geometry]).convex_hull).exterior)\n",
    "    \n",
    "    #특정 색상값이 나타내는 시간\n",
    "    time = L_time[i]\n",
    "    \n",
    "    #전체 통합\n",
    "    qun_df = qun_df.append(pd.DataFrame([qun, time, poly_t]).T, ignore_index=True)\n",
    "    \n",
    "qun_df.columns = ['qun', 'time', 'geometry']\n",
    "\n",
    "qun_gdf = gpd.GeoDataFrame(qun_df, geometry='geometry', crs='epsg:5181')\n",
    "qun_gdf"
   ]
  },
  {
   "cell_type": "code",
   "execution_count": null,
   "metadata": {},
   "outputs": [],
   "source": [
    "#spatail join\n",
    "sumTime = gpd.sjoin(sumPoint, qun_gdf)\n",
    "\n",
    "#relocate columns\n",
    "sumTime = sumTime[['geometry', 'qun', 'time', 'month', \n",
    "            'H_M_10', 'H_M_20', 'H_M_30', 'H_M_40','H_M_50', 'H_M_60', 'H_M_70', \n",
    "            'H_W_10', 'H_W_20', 'H_W_30', 'H_W_40', 'H_W_50', 'H_W_60', 'H_W_70', \n",
    "            'W_M_10', 'W_M_20', 'W_M_30', 'W_M_40', 'W_M_50', 'W_M_60', 'W_M_70', \n",
    "            'W_W_10', 'W_W_20', 'W_W_30', 'W_W_40', 'W_W_50', 'W_W_60', 'W_W_70', \n",
    "            'V_M_10', 'V_M_20', 'V_M_30', 'V_M_40', 'V_M_50', 'V_M_60', 'V_M_70',\n",
    "            'V_W_10', 'V_W_20', 'V_W_30', 'V_W_40','V_W_50', 'V_W_60', 'V_W_70']].reset_index(drop=True)\n",
    "       \n",
    "sumTime"
   ]
  },
  {
   "cell_type": "code",
   "execution_count": null,
   "metadata": {},
   "outputs": [],
   "source": [
    "#spatail join\n",
    "meanTime = gpd.sjoin(meanPoint, qun_gdf)\n",
    "\n",
    "#relocate columns\n",
    "meanTime = meanTime[['geometry', 'qun', 'time', 'month', \n",
    "            'H_M_10', 'H_M_20', 'H_M_30', 'H_M_40','H_M_50', 'H_M_60', 'H_M_70', \n",
    "            'H_W_10', 'H_W_20', 'H_W_30', 'H_W_40', 'H_W_50', 'H_W_60', 'H_W_70', \n",
    "            'W_M_10', 'W_M_20', 'W_M_30', 'W_M_40', 'W_M_50', 'W_M_60', 'W_M_70', \n",
    "            'W_W_10', 'W_W_20', 'W_W_30', 'W_W_40', 'W_W_50', 'W_W_60', 'W_W_70', \n",
    "            'V_M_10', 'V_M_20', 'V_M_30', 'V_M_40', 'V_M_50', 'V_M_60', 'V_M_70',\n",
    "            'V_W_10', 'V_W_20', 'V_W_30', 'V_W_40','V_W_50', 'V_W_60', 'V_W_70']].reset_index(drop=True)\n",
    "\n",
    "meanTime"
   ]
  },
  {
   "cell_type": "code",
   "execution_count": null,
   "metadata": {},
   "outputs": [],
   "source": [
    "#grouping by month\n",
    "sumTimeGroup = sumTime.groupby(['time','month']).sum().reset_index()\n",
    "sumTimeGroup.to_csv('C:/Users/빅데이터활용센터/Desktop/신천/timeSumFinal.csv', index=False)\n",
    "\n",
    "meanTimeGroup = meanTime.groupby(['time','month']).mean().reset_index()\n",
    "meanTimeGroup.to_csv('C:/Users/빅데이터활용센터/Desktop/신천/timeMeanFinal.csv', index=False)"
   ]
  },
  {
   "cell_type": "markdown",
   "metadata": {},
   "source": [
    "# 가보자고"
   ]
  },
  {
   "cell_type": "code",
   "execution_count": 52,
   "metadata": {
    "scrolled": true
   },
   "outputs": [
    {
     "data": {
      "text/html": [
       "<div>\n",
       "<style scoped>\n",
       "    .dataframe tbody tr th:only-of-type {\n",
       "        vertical-align: middle;\n",
       "    }\n",
       "\n",
       "    .dataframe tbody tr th {\n",
       "        vertical-align: top;\n",
       "    }\n",
       "\n",
       "    .dataframe thead th {\n",
       "        text-align: right;\n",
       "    }\n",
       "</style>\n",
       "<table border=\"1\" class=\"dataframe\">\n",
       "  <thead>\n",
       "    <tr style=\"text-align: right;\">\n",
       "      <th></th>\n",
       "      <th>osmid</th>\n",
       "      <th>color</th>\n",
       "      <th>street_cou</th>\n",
       "      <th>geometry</th>\n",
       "    </tr>\n",
       "  </thead>\n",
       "  <tbody>\n",
       "    <tr>\n",
       "      <th>0</th>\n",
       "      <td>288219584</td>\n",
       "      <td>#0d0887</td>\n",
       "      <td>3</td>\n",
       "      <td>POINT (344435.700 266862.435)</td>\n",
       "    </tr>\n",
       "    <tr>\n",
       "      <th>1</th>\n",
       "      <td>7966967340</td>\n",
       "      <td>#0d0887</td>\n",
       "      <td>3</td>\n",
       "      <td>POINT (344468.146 266835.327)</td>\n",
       "    </tr>\n",
       "    <tr>\n",
       "      <th>2</th>\n",
       "      <td>3114875253</td>\n",
       "      <td>#0d0887</td>\n",
       "      <td>3</td>\n",
       "      <td>POINT (343764.014 267384.475)</td>\n",
       "    </tr>\n",
       "    <tr>\n",
       "      <th>3</th>\n",
       "      <td>7966967333</td>\n",
       "      <td>#0d0887</td>\n",
       "      <td>3</td>\n",
       "      <td>POINT (344482.927 266820.217)</td>\n",
       "    </tr>\n",
       "    <tr>\n",
       "      <th>4</th>\n",
       "      <td>288219613</td>\n",
       "      <td>#0d0887</td>\n",
       "      <td>3</td>\n",
       "      <td>POINT (344495.659 266807.761)</td>\n",
       "    </tr>\n",
       "    <tr>\n",
       "      <th>...</th>\n",
       "      <td>...</td>\n",
       "      <td>...</td>\n",
       "      <td>...</td>\n",
       "      <td>...</td>\n",
       "    </tr>\n",
       "    <tr>\n",
       "      <th>1131</th>\n",
       "      <td>8257688116</td>\n",
       "      <td>#0d0887</td>\n",
       "      <td>3</td>\n",
       "      <td>POINT (344683.661 265719.275)</td>\n",
       "    </tr>\n",
       "    <tr>\n",
       "      <th>1132</th>\n",
       "      <td>8257688111</td>\n",
       "      <td>#0d0887</td>\n",
       "      <td>3</td>\n",
       "      <td>POINT (344726.866 265550.908)</td>\n",
       "    </tr>\n",
       "    <tr>\n",
       "      <th>1133</th>\n",
       "      <td>8257688112</td>\n",
       "      <td>#0d0887</td>\n",
       "      <td>4</td>\n",
       "      <td>POINT (344760.453 265571.372)</td>\n",
       "    </tr>\n",
       "    <tr>\n",
       "      <th>1134</th>\n",
       "      <td>9143510593</td>\n",
       "      <td>#0d0887</td>\n",
       "      <td>3</td>\n",
       "      <td>POINT (346792.676 257830.515)</td>\n",
       "    </tr>\n",
       "    <tr>\n",
       "      <th>1135</th>\n",
       "      <td>9221188585</td>\n",
       "      <td>#0d0887</td>\n",
       "      <td>3</td>\n",
       "      <td>POINT (344667.505 266810.532)</td>\n",
       "    </tr>\n",
       "  </tbody>\n",
       "</table>\n",
       "<p>1136 rows × 4 columns</p>\n",
       "</div>"
      ],
      "text/plain": [
       "           osmid    color  street_cou                       geometry\n",
       "0      288219584  #0d0887           3  POINT (344435.700 266862.435)\n",
       "1     7966967340  #0d0887           3  POINT (344468.146 266835.327)\n",
       "2     3114875253  #0d0887           3  POINT (343764.014 267384.475)\n",
       "3     7966967333  #0d0887           3  POINT (344482.927 266820.217)\n",
       "4      288219613  #0d0887           3  POINT (344495.659 266807.761)\n",
       "...          ...      ...         ...                            ...\n",
       "1131  8257688116  #0d0887           3  POINT (344683.661 265719.275)\n",
       "1132  8257688111  #0d0887           3  POINT (344726.866 265550.908)\n",
       "1133  8257688112  #0d0887           4  POINT (344760.453 265571.372)\n",
       "1134  9143510593  #0d0887           3  POINT (346792.676 257830.515)\n",
       "1135  9221188585  #0d0887           3  POINT (344667.505 266810.532)\n",
       "\n",
       "[1136 rows x 4 columns]"
      ]
     },
     "execution_count": 52,
     "metadata": {},
     "output_type": "execute_result"
    }
   ],
   "source": [
    "df5 = pd.read_csv('./node_csv/node5_4326.csv')\n",
    "df5 = gpd.GeoDataFrame(df5[['osmid', 'color', 'street_cou', 'lon', 'lat']])\n",
    "\n",
    "epsg5181 = from_string(\"+proj=tmerc +lat_0=38 +lon_0=127 +k=1 +x_0=200000 +y_0=500000 +ellps=GRS80 +units=m +no_defs\")\n",
    "epsg4326 = from_string(\"+proj=longlat +ellps=WGS84 +datum=WGS84 +no_defs\")\n",
    "\n",
    "df5['lon'] = df5['lon'].astype(float)\n",
    "df5['lat'] = df5['lat'].astype(float)\n",
    "\n",
    "#4326 좌표계 -> 5181 좌표계\n",
    "df5['geometry'] = df5.apply(lambda row : Point([row['lon'], row['lat']]), axis=1)\n",
    "df5 = gpd.GeoDataFrame(df5[['osmid', 'color', 'street_cou', 'geometry']], geometry='geometry', crs = epsg4326)\n",
    "df5 = df5.to_crs(epsg5181)\n",
    "df5"
   ]
  },
  {
   "cell_type": "code",
   "execution_count": 41,
   "metadata": {},
   "outputs": [
    {
     "data": {
      "image/svg+xml": "<svg xmlns=\"http://www.w3.org/2000/svg\" xmlns:xlink=\"http://www.w3.org/1999/xlink\" width=\"300\" height=\"300\" viewBox=\"342926.40136576496 256859.84980364985 4407.9853970841505 12116.034073994408\" preserveAspectRatio=\"xMinYMin meet\"><g transform=\"matrix(1,0,0,-1,0,525835.7336812941)\"><path fill-rule=\"evenodd\" fill=\"#66cc99\" stroke=\"#555555\" stroke-width=\"80.77356049329605\" opacity=\"0.6\" d=\"M 346885.64476010855,257308.59180639038 L 346640.3302752824,257358.32577625642 L 346007.11639222153,258363.50431090093 L 344812.4831507071,260396.29112791992 L 344721.0997635117,260687.68896305206 L 343375.1433685055,267456.11247529817 L 343439.9217793504,268203.50668673555 L 343906.19713905454,268454.9260812006 L 343966.42152498534,268479.9850606022 L 344110.723020973,268527.1418749037 L 346316.28959863214,264763.0293928414 L 346362.77518643293,264486.06406555726 L 346404.1237566859,264050.39333897893 L 346885.64476010855,257308.59180639038 z\" /></g></svg>",
      "text/plain": [
       "<shapely.geometry.polygon.Polygon at 0x29ba42a8310>"
      ]
     },
     "execution_count": 41,
     "metadata": {},
     "output_type": "execute_result"
    }
   ],
   "source": [
    "#poly_df = pd.DataFrame()\n",
    "poly_t = Polygon(Polygon(MultiPoint([[p.x, p.y] for p in df5.geometry]).convex_hull).exterior)\n",
    "poly_t"
   ]
  },
  {
   "cell_type": "code",
   "execution_count": 48,
   "metadata": {},
   "outputs": [
    {
     "data": {
      "text/html": [
       "<div>\n",
       "<style scoped>\n",
       "    .dataframe tbody tr th:only-of-type {\n",
       "        vertical-align: middle;\n",
       "    }\n",
       "\n",
       "    .dataframe tbody tr th {\n",
       "        vertical-align: top;\n",
       "    }\n",
       "\n",
       "    .dataframe thead th {\n",
       "        text-align: right;\n",
       "    }\n",
       "</style>\n",
       "<table border=\"1\" class=\"dataframe\">\n",
       "  <thead>\n",
       "    <tr style=\"text-align: right;\">\n",
       "      <th></th>\n",
       "      <th>name</th>\n",
       "      <th>time</th>\n",
       "      <th>geometry</th>\n",
       "    </tr>\n",
       "  </thead>\n",
       "  <tbody>\n",
       "    <tr>\n",
       "      <th>0</th>\n",
       "      <td>node5</td>\n",
       "      <td>5</td>\n",
       "      <td>POLYGON ((346885.645 257308.592, 346640.330 25...</td>\n",
       "    </tr>\n",
       "    <tr>\n",
       "      <th>1</th>\n",
       "      <td>node10</td>\n",
       "      <td>10</td>\n",
       "      <td>POLYGON ((346661.190 257186.477, 345502.350 25...</td>\n",
       "    </tr>\n",
       "    <tr>\n",
       "      <th>2</th>\n",
       "      <td>node15</td>\n",
       "      <td>15</td>\n",
       "      <td>POLYGON ((346884.877 256828.470, 346775.113 25...</td>\n",
       "    </tr>\n",
       "    <tr>\n",
       "      <th>3</th>\n",
       "      <td>node20</td>\n",
       "      <td>20</td>\n",
       "      <td>POLYGON ((347172.896 256510.233, 345134.967 25...</td>\n",
       "    </tr>\n",
       "    <tr>\n",
       "      <th>4</th>\n",
       "      <td>node25</td>\n",
       "      <td>25</td>\n",
       "      <td>POLYGON ((347228.320 256306.425, 344751.147 25...</td>\n",
       "    </tr>\n",
       "  </tbody>\n",
       "</table>\n",
       "</div>"
      ],
      "text/plain": [
       "     name time                                           geometry\n",
       "0   node5    5  POLYGON ((346885.645 257308.592, 346640.330 25...\n",
       "1  node10   10  POLYGON ((346661.190 257186.477, 345502.350 25...\n",
       "2  node15   15  POLYGON ((346884.877 256828.470, 346775.113 25...\n",
       "3  node20   20  POLYGON ((347172.896 256510.233, 345134.967 25...\n",
       "4  node25   25  POLYGON ((347228.320 256306.425, 344751.147 25..."
      ]
     },
     "execution_count": 48,
     "metadata": {},
     "output_type": "execute_result"
    }
   ],
   "source": [
    "L_name=['node5', 'node10', 'node15', 'node20', 'node25']\n",
    "L_time = [5, 10, 15, 20, 25]\n",
    "\n",
    "epsg5181 = from_string(\"+proj=tmerc +lat_0=38 +lon_0=127 +k=1 +x_0=200000 +y_0=500000 +ellps=GRS80 +units=m +no_defs\")\n",
    "epsg4326 = from_string(\"+proj=longlat +ellps=WGS84 +datum=WGS84 +no_defs\")\n",
    "\n",
    "final_df = pd.DataFrame()\n",
    "\n",
    "for i in range(5) :\n",
    "    \n",
    "    name=L_name[i]\n",
    "    df_name = './node_csv/' + name + '_4326.csv'\n",
    "    df = pd.read_csv(df_name)\n",
    "    df = gpd.GeoDataFrame(df)\n",
    "\n",
    "    df['lon'] = df['lon'].astype(float)\n",
    "    df['lat'] = df['lat'].astype(float)\n",
    "    \n",
    "    #4326 좌표계 -> 5181 좌표계\n",
    "    df['geometry'] = df.apply(lambda row : Point([row['lon'], row['lat']]), axis=1)\n",
    "    df = gpd.GeoDataFrame(df[['osmid', 'color', 'street_cou', 'geometry']], geometry='geometry', crs = epsg4326)\n",
    "    df = df.to_crs(epsg5181)\n",
    "    \n",
    "    #추출된 df의 점들로 폴리곤 생성, 경계값만 가져와서 저장\n",
    "    poly = Polygon(Polygon(MultiPoint([[p.x, p.y] for p in df.geometry]).convex_hull).exterior)\n",
    "    \n",
    "    #특정 색상값이 나타내는 시간\n",
    "    time = L_time[i]\n",
    "    \n",
    "    #전체 통합\n",
    "    final_df = final_df.append(pd.DataFrame([name, time, poly]).T, ignore_index=True)\n",
    "    \n",
    "\n",
    "final_df.columns=['name', 'time', 'geometry']\n",
    "final_gdf = gpd.GeoDataFrame(final_df, geometry='geometry', crs=epsg5181)\n",
    "final_gdf"
   ]
  },
  {
   "cell_type": "code",
   "execution_count": 49,
   "metadata": {},
   "outputs": [],
   "source": [
    "final_gdf.to_csv('test.csv')"
   ]
  },
  {
   "cell_type": "markdown",
   "metadata": {},
   "source": [
    "# 교량 별로 영향권 찾기"
   ]
  },
  {
   "cell_type": "code",
   "execution_count": 21,
   "metadata": {},
   "outputs": [],
   "source": [
    "import os\n",
    "#os.chdir(r'C:\\Users\\빅데이터활용센터\\Desktop\\신천')\n",
    "from shapely.geometry import Point, LineString, Polygon\n",
    "import geopandas as gpd\n",
    "import pandas as pd\n",
    "from fiona.crs import from_string\n",
    "from shapely.geometry import MultiPoint\n",
    "from pyproj import Proj, transform"
   ]
  },
  {
   "cell_type": "code",
   "execution_count": null,
   "metadata": {},
   "outputs": [],
   "source": [
    "#유동인구 데이터 가져오기\n",
    "final_sum = pd.read_csv('final_sum.csv')\n",
    "final_mean = pd.read_csv('final_mean.csv')\n",
    "\n",
    "epsg5179 = Proj(init=\"epsg:5179\")\n",
    "epsg4329 = Proj(init=\"epsg:4329\")\n",
    "\n",
    "#5179 좌표계 -> 4329 좌표계             \n",
    "final_sum['x'], final_sum['y'] = transform(epsg5179, epsg4329, final_sum['X_COORD'].tolist(), final_sum['Y_COORD'].tolist())\n",
    "final_mean['x'], final_mean['y'] = transform(epsg5179, epsg4329, final_mean['X_COORD'].tolist(), final_mean['Y_COORD'].tolist())"
   ]
  },
  {
   "cell_type": "code",
   "execution_count": 19,
   "metadata": {},
   "outputs": [
    {
     "name": "stderr",
     "output_type": "stream",
     "text": [
      "c:\\Anaconda3\\envs\\geo_env\\lib\\site-packages\\pandas\\core\\dtypes\\cast.py:122: ShapelyDeprecationWarning: The array interface is deprecated and will no longer work in Shapely 2.0. Convert the '.coords' to a numpy array instead.\n",
      "  arr = construct_1d_object_array_from_listlike(values)\n"
     ]
    },
    {
     "data": {
      "image/svg+xml": "<svg xmlns=\"http://www.w3.org/2000/svg\" xmlns:xlink=\"http://www.w3.org/1999/xlink\" width=\"100.0\" height=\"100.0\" viewBox=\"128.577407788 35.793417188 0.05610392400001274 0.11854922400000589\" preserveAspectRatio=\"xMinYMin meet\"><g transform=\"matrix(1,0,0,-1,0,71.7053836)\"><path fill-rule=\"evenodd\" fill=\"#66cc99\" stroke=\"#555555\" stroke-width=\"0.002370984480000118\" opacity=\"0.6\" d=\"M 128.6248841,35.7978079 L 128.6236875,35.7986692 L 128.6022178,35.8182864 L 128.595029,35.8348079 L 128.5817985,35.8901605 L 128.5826487,35.9007836 L 128.5831113,35.9024306 L 128.5943707,35.9075757 L 128.6032302,35.9064496 L 128.629121,35.8667145 L 128.6250777,35.7978225 L 128.6248841,35.7978079 z\" /></g></svg>",
      "text/plain": [
       "<shapely.geometry.polygon.Polygon at 0x1eafb965760>"
      ]
     },
     "execution_count": 19,
     "metadata": {},
     "output_type": "execute_result"
    }
   ],
   "source": [
    "L_bridge = ['가창', '경대칠성', '대봉희망', '도청경대', '동신수성', '두산용두', '상동두산', '성북도청', '']\n",
    "\n",
    "#for bridge in L_bridge :\n",
    "#    url = \n",
    "\n",
    "df = pd.read_csv('./rawdata/final15_all.csv')\n",
    "df = df[['bridge', 'osmid', 'color', 'street_count', 'lon', 'lat']]\n",
    "\n",
    "df['lon'] = df['lon'].astype(float)\n",
    "df['lat'] = df['lat'].astype(float)\n",
    "    \n",
    "df['geometry'] = df.apply(lambda row : Point([row['lon'], row['lat']]), axis=1)\n",
    "gdf = gpd.GeoDataFrame(df[['bridge', 'osmid', 'color', 'street_count', 'geometry']], geometry='geometry', crs='epsg:4329')\n",
    "\n",
    "poly = Polygon(Polygon(MultiPoint([[p.x, p.y] for p in gdf.geometry]).convex_hull).exterior)\n",
    "    \n",
    "#전체 통합\n",
    "final_df = final_df.append(pd.DataFrame([name, time, poly]).T, ignore_index=True)\n"
   ]
  }
 ],
 "metadata": {
  "kernelspec": {
   "display_name": "Python 3.8.13 ('geo_env')",
   "language": "python",
   "name": "python3"
  },
  "language_info": {
   "codemirror_mode": {
    "name": "ipython",
    "version": 3
   },
   "file_extension": ".py",
   "mimetype": "text/x-python",
   "name": "python",
   "nbconvert_exporter": "python",
   "pygments_lexer": "ipython3",
   "version": "3.8.13"
  },
  "vscode": {
   "interpreter": {
    "hash": "2fc84b5c7985e12ff46d983ec7479fbf2c7d881f1cab278c6c95115e179566ce"
   }
  }
 },
 "nbformat": 4,
 "nbformat_minor": 4
}
